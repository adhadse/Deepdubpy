{
 "cells": [
  {
   "cell_type": "code",
   "execution_count": 105,
   "id": "d007a51a-5e1e-4e33-ad6a-30985d445390",
   "metadata": {},
   "outputs": [],
   "source": [
    "import pandas as pd\n",
    "import numpy as np\n",
    "import pysrt\n",
    "import re"
   ]
  },
  {
   "cell_type": "code",
   "execution_count": 286,
   "id": "14911eaf-080d-4621-8939-af824ab64f43",
   "metadata": {},
   "outputs": [],
   "source": [
    "BASE_DIR = 'T:/pycharm_repo/Working_dir/Deepdub'\n",
    "OUTPUT_DIR = BASE_DIR\n",
    "SAMPLE_DIR = BASE_DIR + '/tale_of_nine_tailed'\n",
    "SUBTITLE_DIR = SAMPLE_DIR + '/subtitles/'"
   ]
  },
  {
   "cell_type": "code",
   "execution_count": 287,
   "id": "6f440b83-d247-451b-9594-178d53932219",
   "metadata": {},
   "outputs": [
    {
     "data": {
      "text/plain": [
       "<pysrt.srtitem.SubRipItem at 0x2bc390a95e0>"
      ]
     },
     "execution_count": 287,
     "metadata": {},
     "output_type": "execute_result"
    }
   ],
   "source": [
    "subs = pysrt.open(SUBTITLE_DIR + 'ep1_eng.srt')\n",
    "subs[0]"
   ]
  },
  {
   "cell_type": "markdown",
   "id": "6dc42ec6-91d3-44f2-9435-22f06b7e69e4",
   "metadata": {},
   "source": [
    "# Exploration \n",
    "1. The subtitles contains, text like `...`.\n",
    "   - For example: \n",
    "   ```\n",
    "   0: When a fox turns 100,\n",
    "   1: it can transform into   \n",
    "   a beautiful woman...\n",
    "   ```\n",
    "2. Text contains `\\n` used to add newline as viewer can't read a long line of subtitle\n",
    "   - For example in second line insert a `\\n` after `into`: \n",
    "   ```\n",
    "    0: When a fox turns 100,\n",
    "    1: it can transform into   \n",
    "    a beautiful woman...\n",
    "   ```  \n",
    "\n",
    "   ```\n",
    "   subs[1] 'it can transform into\\na beautiful woman...'\n",
    "   ```    \n",
    "      \n",
    "3. Currently preprocessing creates sentences where one end in single view of subtitle and another sentence begin in same view.\n",
    "\n",
    "    This way we can't really know when exactly did the sentence ended and next began, as both came in view at once and in subtitles both has a single starting and ending point. Like for instance (First is spoken by Jo Bo-ah second by Kim Bum):\n",
    "    \n",
    "    ```\n",
    "    698\n",
    "    00:58:49,825 --> 00:58:51,924\n",
    "    - Did you miss me? - As if, brother.\n",
    "    ```\n",
    "\n",
    "    <br>**-** generally means there are two **Different people speaking at that moment. **So, we shouldn't remove `-` during preprocessing and split sentences, but when did one sentence end and another began is problem**.\n",
    "    \n",
    "    \n",
    "4. Sometimes subs also translate what is visually written **but not spoken** inside brackets, like:\n",
    "\n",
    "    ```\n",
    "    85\n",
    "    00:25:34,433 --> 00:25:38,902\n",
    "    (Crackdown on undocumented spirits are being enforced.)\n",
    "\n",
    "    286\n",
    "    00:25:38,902 --> 00:25:41,973\n",
    "    (Afterlife Immigration Office)\n",
    "    ```\n",
    "    \n",
    "    <br>Or explaining some terms (In Hindi subtitles; not found in English one):\n",
    "    \n",
    "    ```\n",
    "    247\n",
    "    00:26:31,470 --> 00:26:35,000\n",
    "    वाह, क्या नज़ारा है की सर्वशक्तिमान ताल उइ पा भी कंप्युटर इस्तेमाल करने के लिए जूझ रही हैं। <i>(ताल ई पा: भगवान जो 'सामदोचोन', ज़िंदगी और मौत के बीच की जगह पर नजर रखती हैं।)</i>\n",
    "    ```\n",
    "    "
   ]
  },
  {
   "cell_type": "code",
   "execution_count": 288,
   "id": "0b7628a7-07ed-4242-aad8-862a083af23b",
   "metadata": {},
   "outputs": [
    {
     "name": "stdout",
     "output_type": "stream",
     "text": [
      "1\n",
      "00:00:44,172 --> 00:00:45,973\n",
      "When a fox turns 100,\n",
      "\n",
      "Starting time -> 44:172\n",
      "Ending time   -> 45:973\n"
     ]
    }
   ],
   "source": [
    "print(subs[0])\n",
    "print(f\"Starting time -> {subs[0].start.seconds}:{subs[0].start.milliseconds}\")\n",
    "print(f\"Ending time   -> {subs[0].end.seconds}:{subs[0].end.milliseconds}\")"
   ]
  },
  {
   "cell_type": "code",
   "execution_count": 289,
   "id": "4a3deda3-8899-4fad-b88e-dfe5a04bc05b",
   "metadata": {},
   "outputs": [
    {
     "data": {
      "text/plain": [
       "'When a fox turns 100,'"
      ]
     },
     "execution_count": 289,
     "metadata": {},
     "output_type": "execute_result"
    }
   ],
   "source": [
    "subs[0].text"
   ]
  },
  {
   "cell_type": "code",
   "execution_count": 290,
   "id": "64f942c5-0c55-4c39-b8f9-3289ea761053",
   "metadata": {},
   "outputs": [
    {
     "data": {
      "text/plain": [
       "SubRipTime(0, 0, 44, 172)"
      ]
     },
     "execution_count": 290,
     "metadata": {},
     "output_type": "execute_result"
    }
   ],
   "source": [
    "subs[0].start"
   ]
  },
  {
   "cell_type": "code",
   "execution_count": 291,
   "id": "8527f54f-fb80-48b3-9ba2-4e3bdfa9bce5",
   "metadata": {},
   "outputs": [
    {
     "name": "stdout",
     "output_type": "stream",
     "text": [
      "0:When a fox turns 100,\n",
      "1:it can transform into a beautiful woman...\n",
      "2:or become a man who has relations with one.\n",
      "3:However, a fox of 1,000 years receives the sky's blessing...\n",
      "4:and becomes a celestial fox.\n"
     ]
    }
   ],
   "source": [
    "for i, sub in enumerate(subs[:5]):\n",
    "  print(f\"{i}:{sub.text}\")"
   ]
  },
  {
   "cell_type": "code",
   "execution_count": 292,
   "id": "00509282-27b5-468e-9178-bc43ffb88413",
   "metadata": {},
   "outputs": [
    {
     "name": "stdout",
     "output_type": "stream",
     "text": [
      "698\n",
      "00:58:49,825 --> 00:58:51,924\n",
      "- Did you miss me? - As if, brother.\n",
      "\n"
     ]
    }
   ],
   "source": [
    "print(subs[697])"
   ]
  },
  {
   "cell_type": "code",
   "execution_count": 293,
   "id": "3a1eda17-8f02-45a5-b192-df700c33e28a",
   "metadata": {},
   "outputs": [
    {
     "data": {
      "text/plain": [
       "Timestamp('1900-01-01 00:00:44.172000')"
      ]
     },
     "execution_count": 293,
     "metadata": {},
     "output_type": "execute_result"
    }
   ],
   "source": [
    "# print(str(subs[0].start))\n",
    "pd.to_datetime(str(subs[0].start), format=\"%H:%M:%S,%f\")"
   ]
  },
  {
   "cell_type": "code",
   "execution_count": 294,
   "id": "2301e652-f291-49cd-a4da-347a6667ebf9",
   "metadata": {},
   "outputs": [
    {
     "data": {
      "text/plain": [
       "Timestamp('1900-01-01 00:00:45.973000')"
      ]
     },
     "execution_count": 294,
     "metadata": {},
     "output_type": "execute_result"
    }
   ],
   "source": [
    "pd.to_datetime(subs_df[\"start\"], format=\"%H:%M:%S,%f\")[1]"
   ]
  },
  {
   "cell_type": "markdown",
   "id": "8437e21f-113d-4502-aedc-d7bf957d5012",
   "metadata": {
    "tags": []
   },
   "source": [
    "## Preprocessing and removing"
   ]
  },
  {
   "cell_type": "code",
   "execution_count": 295,
   "id": "2c2ff587-4245-489d-9846-1205acb8ac51",
   "metadata": {},
   "outputs": [
    {
     "data": {
      "text/html": [
       "<div>\n",
       "<style scoped>\n",
       "    .dataframe tbody tr th:only-of-type {\n",
       "        vertical-align: middle;\n",
       "    }\n",
       "\n",
       "    .dataframe tbody tr th {\n",
       "        vertical-align: top;\n",
       "    }\n",
       "\n",
       "    .dataframe thead th {\n",
       "        text-align: right;\n",
       "    }\n",
       "</style>\n",
       "<table border=\"1\" class=\"dataframe\">\n",
       "  <thead>\n",
       "    <tr style=\"text-align: right;\">\n",
       "      <th></th>\n",
       "      <th>start</th>\n",
       "      <th>end</th>\n",
       "      <th>text</th>\n",
       "    </tr>\n",
       "  </thead>\n",
       "  <tbody>\n",
       "    <tr>\n",
       "      <th>282</th>\n",
       "      <td>00:25:10,372</td>\n",
       "      <td>00:25:12,102</td>\n",
       "      <td>- Okay? - Okay!</td>\n",
       "    </tr>\n",
       "    <tr>\n",
       "      <th>283</th>\n",
       "      <td>00:25:29,693</td>\n",
       "      <td>00:25:34,062</td>\n",
       "      <td>(Afterlife Immigration Office)</td>\n",
       "    </tr>\n",
       "    <tr>\n",
       "      <th>284</th>\n",
       "      <td>00:25:34,433</td>\n",
       "      <td>00:25:38,902</td>\n",
       "      <td>(Crackdown on undocumented spirits are being e...</td>\n",
       "    </tr>\n",
       "    <tr>\n",
       "      <th>285</th>\n",
       "      <td>00:25:38,902</td>\n",
       "      <td>00:25:41,973</td>\n",
       "      <td>(Afterlife Immigration Office)</td>\n",
       "    </tr>\n",
       "    <tr>\n",
       "      <th>286</th>\n",
       "      <td>00:26:08,632</td>\n",
       "      <td>00:26:10,193</td>\n",
       "      <td>How have you been, Granny?</td>\n",
       "    </tr>\n",
       "  </tbody>\n",
       "</table>\n",
       "</div>"
      ],
      "text/plain": [
       "            start           end  \\\n",
       "282  00:25:10,372  00:25:12,102   \n",
       "283  00:25:29,693  00:25:34,062   \n",
       "284  00:25:34,433  00:25:38,902   \n",
       "285  00:25:38,902  00:25:41,973   \n",
       "286  00:26:08,632  00:26:10,193   \n",
       "\n",
       "                                                  text  \n",
       "282                                    - Okay? - Okay!  \n",
       "283                     (Afterlife Immigration Office)  \n",
       "284  (Crackdown on undocumented spirits are being e...  \n",
       "285                     (Afterlife Immigration Office)  \n",
       "286                         How have you been, Granny?  "
      ]
     },
     "execution_count": 295,
     "metadata": {},
     "output_type": "execute_result"
    }
   ],
   "source": [
    "# Replace using regex without writing regex expression\n",
    "replacements = {\"|\": \" \", \"\\n\": \" \", \"...\": \";\", \"\\((.*)\\)\": \"\"}\n",
    "replacements = dict((re.escape(k), v) for k, v in replacements.items())\n",
    "pattern = re.compile(\"|\".join(replacements.keys()))\n",
    "\n",
    "subs_df = pd.DataFrame([[sub.start, sub.end,\n",
    "                         pattern.sub(lambda m: replacements[re.escape(m.group(0))], sub.text)] for sub in subs],\n",
    "                       columns=[\"start\", \"end\", \"text\"])\n",
    "\n",
    "# Point 4\n",
    "subs_df[282:287]"
   ]
  },
  {
   "cell_type": "code",
   "execution_count": 296,
   "id": "63905bc6-6f48-4659-af73-cff6c3cfe8cd",
   "metadata": {},
   "outputs": [
    {
     "data": {
      "text/plain": [
       "0      11666022566518399743\n",
       "1      17960271684186646883\n",
       "2      15748956420119968844\n",
       "3       1316365539741181613\n",
       "4      11654452799880118098\n",
       "               ...         \n",
       "756     4454171381933255613\n",
       "757    13182271712768067078\n",
       "758    14200525708433450145\n",
       "759    14947191855219668614\n",
       "760      436339418285105795\n",
       "Length: 761, dtype: uint64"
      ]
     },
     "execution_count": 296,
     "metadata": {},
     "output_type": "execute_result"
    }
   ],
   "source": [
    "pd.util.hash_pandas_object(subs_df[\"text\"], index=False)"
   ]
  },
  {
   "cell_type": "code",
   "execution_count": 297,
   "id": "6e2b8119-f204-4520-9b4b-c84b4fc512dc",
   "metadata": {},
   "outputs": [
    {
     "data": {
      "text/html": [
       "<div>\n",
       "<style scoped>\n",
       "    .dataframe tbody tr th:only-of-type {\n",
       "        vertical-align: middle;\n",
       "    }\n",
       "\n",
       "    .dataframe tbody tr th {\n",
       "        vertical-align: top;\n",
       "    }\n",
       "\n",
       "    .dataframe thead th {\n",
       "        text-align: right;\n",
       "    }\n",
       "</style>\n",
       "<table border=\"1\" class=\"dataframe\">\n",
       "  <thead>\n",
       "    <tr style=\"text-align: right;\">\n",
       "      <th></th>\n",
       "      <th>start</th>\n",
       "      <th>end</th>\n",
       "      <th>text</th>\n",
       "    </tr>\n",
       "  </thead>\n",
       "  <tbody>\n",
       "    <tr>\n",
       "      <th>0</th>\n",
       "      <td>1900-01-01 00:00:44.172</td>\n",
       "      <td>00:00:45,973</td>\n",
       "      <td>When a fox turns 100,</td>\n",
       "    </tr>\n",
       "    <tr>\n",
       "      <th>1</th>\n",
       "      <td>1900-01-01 00:00:45.973</td>\n",
       "      <td>00:00:48,112</td>\n",
       "      <td>it can transform into a beautiful woman;</td>\n",
       "    </tr>\n",
       "    <tr>\n",
       "      <th>2</th>\n",
       "      <td>1900-01-01 00:00:48.743</td>\n",
       "      <td>00:00:51,642</td>\n",
       "      <td>or become a man who has relations with one.</td>\n",
       "    </tr>\n",
       "    <tr>\n",
       "      <th>3</th>\n",
       "      <td>1900-01-01 00:00:52.412</td>\n",
       "      <td>00:00:55,153</td>\n",
       "      <td>However, a fox of 1,000 years receives the sky...</td>\n",
       "    </tr>\n",
       "    <tr>\n",
       "      <th>4</th>\n",
       "      <td>1900-01-01 00:00:55.153</td>\n",
       "      <td>00:00:56,522</td>\n",
       "      <td>and becomes a celestial fox.</td>\n",
       "    </tr>\n",
       "  </tbody>\n",
       "</table>\n",
       "</div>"
      ],
      "text/plain": [
       "                    start           end  \\\n",
       "0 1900-01-01 00:00:44.172  00:00:45,973   \n",
       "1 1900-01-01 00:00:45.973  00:00:48,112   \n",
       "2 1900-01-01 00:00:48.743  00:00:51,642   \n",
       "3 1900-01-01 00:00:52.412  00:00:55,153   \n",
       "4 1900-01-01 00:00:55.153  00:00:56,522   \n",
       "\n",
       "                                                text  \n",
       "0                              When a fox turns 100,  \n",
       "1           it can transform into a beautiful woman;  \n",
       "2        or become a man who has relations with one.  \n",
       "3  However, a fox of 1,000 years receives the sky...  \n",
       "4                       and becomes a celestial fox.  "
      ]
     },
     "execution_count": 297,
     "metadata": {},
     "output_type": "execute_result"
    }
   ],
   "source": [
    "subs_df[\"start\"] = pd.to_datetime(subs_df[\"start\"], format=\"%H:%M:%S,%f\")\n",
    "subs_df.head()"
   ]
  },
  {
   "cell_type": "code",
   "execution_count": 298,
   "id": "49764c50-6f12-46df-8bcb-60f12b0f950e",
   "metadata": {},
   "outputs": [
    {
     "data": {
      "text/html": [
       "<div>\n",
       "<style scoped>\n",
       "    .dataframe tbody tr th:only-of-type {\n",
       "        vertical-align: middle;\n",
       "    }\n",
       "\n",
       "    .dataframe tbody tr th {\n",
       "        vertical-align: top;\n",
       "    }\n",
       "\n",
       "    .dataframe thead th {\n",
       "        text-align: right;\n",
       "    }\n",
       "</style>\n",
       "<table border=\"1\" class=\"dataframe\">\n",
       "  <thead>\n",
       "    <tr style=\"text-align: right;\">\n",
       "      <th></th>\n",
       "      <th></th>\n",
       "      <th>text</th>\n",
       "    </tr>\n",
       "    <tr>\n",
       "      <th>start</th>\n",
       "      <th>end</th>\n",
       "      <th></th>\n",
       "    </tr>\n",
       "  </thead>\n",
       "  <tbody>\n",
       "    <tr>\n",
       "      <th>1900-01-01 00:00:44.172</th>\n",
       "      <th>1900-01-01 00:00:45.973</th>\n",
       "      <td>When a fox turns 100,</td>\n",
       "    </tr>\n",
       "    <tr>\n",
       "      <th>1900-01-01 00:00:45.973</th>\n",
       "      <th>1900-01-01 00:00:48.112</th>\n",
       "      <td>it can transform into a beautiful woman;</td>\n",
       "    </tr>\n",
       "    <tr>\n",
       "      <th>1900-01-01 00:00:48.743</th>\n",
       "      <th>1900-01-01 00:00:51.642</th>\n",
       "      <td>or become a man who has relations with one.</td>\n",
       "    </tr>\n",
       "    <tr>\n",
       "      <th>1900-01-01 00:00:52.412</th>\n",
       "      <th>1900-01-01 00:00:55.153</th>\n",
       "      <td>However, a fox of 1,000 years receives the sky...</td>\n",
       "    </tr>\n",
       "    <tr>\n",
       "      <th>1900-01-01 00:00:55.153</th>\n",
       "      <th>1900-01-01 00:00:56.522</th>\n",
       "      <td>and becomes a celestial fox.</td>\n",
       "    </tr>\n",
       "  </tbody>\n",
       "</table>\n",
       "</div>"
      ],
      "text/plain": [
       "                                                                                              text\n",
       "start                   end                                                                       \n",
       "1900-01-01 00:00:44.172 1900-01-01 00:00:45.973                              When a fox turns 100,\n",
       "1900-01-01 00:00:45.973 1900-01-01 00:00:48.112           it can transform into a beautiful woman;\n",
       "1900-01-01 00:00:48.743 1900-01-01 00:00:51.642        or become a man who has relations with one.\n",
       "1900-01-01 00:00:52.412 1900-01-01 00:00:55.153  However, a fox of 1,000 years receives the sky...\n",
       "1900-01-01 00:00:55.153 1900-01-01 00:00:56.522                       and becomes a celestial fox."
      ]
     },
     "execution_count": 298,
     "metadata": {},
     "output_type": "execute_result"
    }
   ],
   "source": [
    "subs_df[\"end\"]  = pd.to_datetime(subs_df[\"end\"], format=\"%H:%M:%S,%f\")\n",
    "subs_df.set_index([\"start\", \"end\"], inplace=True)\n",
    "subs_df.head()"
   ]
  },
  {
   "cell_type": "code",
   "execution_count": 299,
   "id": "e32b8635-90a0-4060-9e90-4e1d7857573a",
   "metadata": {},
   "outputs": [
    {
     "data": {
      "text/plain": [
       "(761, 1)"
      ]
     },
     "execution_count": 299,
     "metadata": {},
     "output_type": "execute_result"
    }
   ],
   "source": [
    "subs_df.shape"
   ]
  },
  {
   "cell_type": "code",
   "execution_count": 300,
   "id": "021798e0-cd82-429d-a007-a89761bb5f5a",
   "metadata": {},
   "outputs": [
    {
     "data": {
      "text/plain": [
       "''"
      ]
     },
     "execution_count": 300,
     "metadata": {},
     "output_type": "execute_result"
    }
   ],
   "source": [
    "re.sub(\"\\((.*)\\)\", \"\", subs_df.iloc[283].text)"
   ]
  },
  {
   "cell_type": "code",
   "execution_count": 301,
   "id": "3038105d-fa7a-4079-adc9-71feacdc6c59",
   "metadata": {},
   "outputs": [
    {
     "name": "stdout",
     "output_type": "stream",
     "text": [
      "How have you been, Granny?\n"
     ]
    }
   ],
   "source": [
    "print(re.sub(\"\\((.*)\\)\",\"\", subs_df.iloc[286].text))"
   ]
  },
  {
   "cell_type": "code",
   "execution_count": 302,
   "id": "68bee606-ea15-44ed-8242-f06868143166",
   "metadata": {},
   "outputs": [
    {
     "name": "stdout",
     "output_type": "stream",
     "text": [
      "वाह, क्या नज़ारा है की सर्वशक्तिमान ताल उइ पा भी कंप्युटर इस्तेमाल करने के लिए जूझ रही हैं। <i>\n"
     ]
    }
   ],
   "source": [
    "print(re.sub(\"\\((.*)\\)\", \"\",\n",
    "             \"वाह, क्या नज़ारा है की सर्वशक्तिमान ताल उइ पा भी कंप्युटर इस्तेमाल करने के लिए जूझ रही हैं। <i>(ताल ई पा: भगवान जो 'सामदोचोन', ज़िंदगी और मौत के बीच की जगह पर नजर रखती हैं।)\"))"
   ]
  },
  {
   "cell_type": "code",
   "execution_count": 303,
   "id": "ea28b0a4-cb08-4e1d-9879-c610f3433f9f",
   "metadata": {},
   "outputs": [
    {
     "data": {
      "text/html": [
       "<div>\n",
       "<style scoped>\n",
       "    .dataframe tbody tr th:only-of-type {\n",
       "        vertical-align: middle;\n",
       "    }\n",
       "\n",
       "    .dataframe tbody tr th {\n",
       "        vertical-align: top;\n",
       "    }\n",
       "\n",
       "    .dataframe thead th {\n",
       "        text-align: right;\n",
       "    }\n",
       "</style>\n",
       "<table border=\"1\" class=\"dataframe\">\n",
       "  <thead>\n",
       "    <tr style=\"text-align: right;\">\n",
       "      <th></th>\n",
       "      <th></th>\n",
       "      <th>text</th>\n",
       "    </tr>\n",
       "    <tr>\n",
       "      <th>start</th>\n",
       "      <th>end</th>\n",
       "      <th></th>\n",
       "    </tr>\n",
       "  </thead>\n",
       "  <tbody>\n",
       "    <tr>\n",
       "      <th>1900-01-01 00:25:10.372</th>\n",
       "      <th>1900-01-01 00:25:12.102</th>\n",
       "      <td>- Okay? - Okay!</td>\n",
       "    </tr>\n",
       "    <tr>\n",
       "      <th>1900-01-01 00:25:29.693</th>\n",
       "      <th>1900-01-01 00:25:34.062</th>\n",
       "      <td>(Afterlife Immigration Office)</td>\n",
       "    </tr>\n",
       "    <tr>\n",
       "      <th>1900-01-01 00:25:34.433</th>\n",
       "      <th>1900-01-01 00:25:38.902</th>\n",
       "      <td>(Crackdown on undocumented spirits are being e...</td>\n",
       "    </tr>\n",
       "    <tr>\n",
       "      <th>1900-01-01 00:25:38.902</th>\n",
       "      <th>1900-01-01 00:25:41.973</th>\n",
       "      <td>(Afterlife Immigration Office)</td>\n",
       "    </tr>\n",
       "    <tr>\n",
       "      <th>1900-01-01 00:26:08.632</th>\n",
       "      <th>1900-01-01 00:26:10.193</th>\n",
       "      <td>How have you been, Granny?</td>\n",
       "    </tr>\n",
       "  </tbody>\n",
       "</table>\n",
       "</div>"
      ],
      "text/plain": [
       "                                                                                              text\n",
       "start                   end                                                                       \n",
       "1900-01-01 00:25:10.372 1900-01-01 00:25:12.102                                    - Okay? - Okay!\n",
       "1900-01-01 00:25:29.693 1900-01-01 00:25:34.062                     (Afterlife Immigration Office)\n",
       "1900-01-01 00:25:34.433 1900-01-01 00:25:38.902  (Crackdown on undocumented spirits are being e...\n",
       "1900-01-01 00:25:38.902 1900-01-01 00:25:41.973                     (Afterlife Immigration Office)\n",
       "1900-01-01 00:26:08.632 1900-01-01 00:26:10.193                         How have you been, Granny?"
      ]
     },
     "execution_count": 303,
     "metadata": {},
     "output_type": "execute_result"
    }
   ],
   "source": [
    "subs_df.iloc[282:287]"
   ]
  },
  {
   "cell_type": "code",
   "execution_count": 304,
   "id": "5fb997dd-39df-4661-9b5a-d21fb7419f81",
   "metadata": {},
   "outputs": [
    {
     "data": {
      "text/html": [
       "<div>\n",
       "<style scoped>\n",
       "    .dataframe tbody tr th:only-of-type {\n",
       "        vertical-align: middle;\n",
       "    }\n",
       "\n",
       "    .dataframe tbody tr th {\n",
       "        vertical-align: top;\n",
       "    }\n",
       "\n",
       "    .dataframe thead th {\n",
       "        text-align: right;\n",
       "    }\n",
       "</style>\n",
       "<table border=\"1\" class=\"dataframe\">\n",
       "  <thead>\n",
       "    <tr style=\"text-align: right;\">\n",
       "      <th></th>\n",
       "      <th></th>\n",
       "      <th>text</th>\n",
       "    </tr>\n",
       "    <tr>\n",
       "      <th>start</th>\n",
       "      <th>end</th>\n",
       "      <th></th>\n",
       "    </tr>\n",
       "  </thead>\n",
       "  <tbody>\n",
       "    <tr>\n",
       "      <th>1900-01-01 00:25:10.372</th>\n",
       "      <th>1900-01-01 00:25:12.102</th>\n",
       "      <td>- Okay? - Okay!</td>\n",
       "    </tr>\n",
       "    <tr>\n",
       "      <th>1900-01-01 00:25:29.693</th>\n",
       "      <th>1900-01-01 00:25:34.062</th>\n",
       "      <td></td>\n",
       "    </tr>\n",
       "    <tr>\n",
       "      <th>1900-01-01 00:25:34.433</th>\n",
       "      <th>1900-01-01 00:25:38.902</th>\n",
       "      <td></td>\n",
       "    </tr>\n",
       "    <tr>\n",
       "      <th>1900-01-01 00:25:38.902</th>\n",
       "      <th>1900-01-01 00:25:41.973</th>\n",
       "      <td></td>\n",
       "    </tr>\n",
       "    <tr>\n",
       "      <th>1900-01-01 00:26:08.632</th>\n",
       "      <th>1900-01-01 00:26:10.193</th>\n",
       "      <td>How have you been, Granny?</td>\n",
       "    </tr>\n",
       "  </tbody>\n",
       "</table>\n",
       "</div>"
      ],
      "text/plain": [
       "                                                                       text\n",
       "start                   end                                                \n",
       "1900-01-01 00:25:10.372 1900-01-01 00:25:12.102             - Okay? - Okay!\n",
       "1900-01-01 00:25:29.693 1900-01-01 00:25:34.062                            \n",
       "1900-01-01 00:25:34.433 1900-01-01 00:25:38.902                            \n",
       "1900-01-01 00:25:38.902 1900-01-01 00:25:41.973                            \n",
       "1900-01-01 00:26:08.632 1900-01-01 00:26:10.193  How have you been, Granny?"
      ]
     },
     "execution_count": 304,
     "metadata": {},
     "output_type": "execute_result"
    }
   ],
   "source": [
    "subs_df[282:287][[\"text\"]].applymap(lambda row: re.sub(\"\\((.*)\\)\", \"\", row))"
   ]
  },
  {
   "cell_type": "code",
   "execution_count": 305,
   "id": "737127ab-4e3e-4927-8450-1e396dd1c503",
   "metadata": {},
   "outputs": [
    {
     "data": {
      "text/html": [
       "<div>\n",
       "<style scoped>\n",
       "    .dataframe tbody tr th:only-of-type {\n",
       "        vertical-align: middle;\n",
       "    }\n",
       "\n",
       "    .dataframe tbody tr th {\n",
       "        vertical-align: top;\n",
       "    }\n",
       "\n",
       "    .dataframe thead th {\n",
       "        text-align: right;\n",
       "    }\n",
       "</style>\n",
       "<table border=\"1\" class=\"dataframe\">\n",
       "  <thead>\n",
       "    <tr style=\"text-align: right;\">\n",
       "      <th></th>\n",
       "      <th></th>\n",
       "      <th>text</th>\n",
       "    </tr>\n",
       "    <tr>\n",
       "      <th>start</th>\n",
       "      <th>end</th>\n",
       "      <th></th>\n",
       "    </tr>\n",
       "  </thead>\n",
       "  <tbody>\n",
       "    <tr>\n",
       "      <th>1900-01-01 00:25:10.372</th>\n",
       "      <th>1900-01-01 00:25:12.102</th>\n",
       "      <td>- Okay? - Okay!</td>\n",
       "    </tr>\n",
       "    <tr>\n",
       "      <th>1900-01-01 00:26:08.632</th>\n",
       "      <th>1900-01-01 00:26:10.193</th>\n",
       "      <td>How have you been, Granny?</td>\n",
       "    </tr>\n",
       "  </tbody>\n",
       "</table>\n",
       "</div>"
      ],
      "text/plain": [
       "                                                                       text\n",
       "start                   end                                                \n",
       "1900-01-01 00:25:10.372 1900-01-01 00:25:12.102             - Okay? - Okay!\n",
       "1900-01-01 00:26:08.632 1900-01-01 00:26:10.193  How have you been, Granny?"
      ]
     },
     "execution_count": 305,
     "metadata": {},
     "output_type": "execute_result"
    }
   ],
   "source": [
    "# Since probably some text also has\n",
    "# text in it which is supposed to be spoken\n",
    "# Below isn't what we want.\n",
    "subs_df[282:287][[\"text\"]].replace(r'\\((.*)\\)', np.nan, regex=True).dropna()"
   ]
  },
  {
   "cell_type": "code",
   "execution_count": 306,
   "id": "344a61c9-4fd1-4982-af33-f79094cf1de4",
   "metadata": {},
   "outputs": [
    {
     "data": {
      "text/html": [
       "<div>\n",
       "<style scoped>\n",
       "    .dataframe tbody tr th:only-of-type {\n",
       "        vertical-align: middle;\n",
       "    }\n",
       "\n",
       "    .dataframe tbody tr th {\n",
       "        vertical-align: top;\n",
       "    }\n",
       "\n",
       "    .dataframe thead th {\n",
       "        text-align: right;\n",
       "    }\n",
       "</style>\n",
       "<table border=\"1\" class=\"dataframe\">\n",
       "  <thead>\n",
       "    <tr style=\"text-align: right;\">\n",
       "      <th></th>\n",
       "      <th></th>\n",
       "      <th>text</th>\n",
       "    </tr>\n",
       "    <tr>\n",
       "      <th>start</th>\n",
       "      <th>end</th>\n",
       "      <th></th>\n",
       "    </tr>\n",
       "  </thead>\n",
       "  <tbody>\n",
       "    <tr>\n",
       "      <th>1900-01-01 00:25:10.372</th>\n",
       "      <th>1900-01-01 00:25:12.102</th>\n",
       "      <td>- Okay? - Okay!</td>\n",
       "    </tr>\n",
       "    <tr>\n",
       "      <th>1900-01-01 00:26:08.632</th>\n",
       "      <th>1900-01-01 00:26:10.193</th>\n",
       "      <td>How have you been, Granny?</td>\n",
       "    </tr>\n",
       "  </tbody>\n",
       "</table>\n",
       "</div>"
      ],
      "text/plain": [
       "                                                                       text\n",
       "start                   end                                                \n",
       "1900-01-01 00:25:10.372 1900-01-01 00:25:12.102             - Okay? - Okay!\n",
       "1900-01-01 00:26:08.632 1900-01-01 00:26:10.193  How have you been, Granny?"
      ]
     },
     "execution_count": 306,
     "metadata": {},
     "output_type": "execute_result"
    }
   ],
   "source": [
    "# This will make sure we replace anything inside () with \"\" and drop \"\" so as to not include it\n",
    "subs_df[282:287][[\"text\"]].applymap(lambda row: re.sub(\"\\\\((.*)\\\\)\", \"\", row)).replace(\"\", np.nan).dropna()"
   ]
  },
  {
   "cell_type": "code",
   "execution_count": 307,
   "id": "26b1e788-de7e-4ced-93a5-960dbd99dde6",
   "metadata": {},
   "outputs": [
    {
     "name": "stdout",
     "output_type": "stream",
     "text": [
      "(734, 1)\n"
     ]
    },
    {
     "data": {
      "text/html": [
       "<div>\n",
       "<style scoped>\n",
       "    .dataframe tbody tr th:only-of-type {\n",
       "        vertical-align: middle;\n",
       "    }\n",
       "\n",
       "    .dataframe tbody tr th {\n",
       "        vertical-align: top;\n",
       "    }\n",
       "\n",
       "    .dataframe thead th {\n",
       "        text-align: right;\n",
       "    }\n",
       "</style>\n",
       "<table border=\"1\" class=\"dataframe\">\n",
       "  <thead>\n",
       "    <tr style=\"text-align: right;\">\n",
       "      <th></th>\n",
       "      <th></th>\n",
       "      <th>text</th>\n",
       "    </tr>\n",
       "    <tr>\n",
       "      <th>start</th>\n",
       "      <th>end</th>\n",
       "      <th></th>\n",
       "    </tr>\n",
       "  </thead>\n",
       "  <tbody>\n",
       "    <tr>\n",
       "      <th>1900-01-01 00:00:44.172</th>\n",
       "      <th>1900-01-01 00:00:45.973</th>\n",
       "      <td>When a fox turns 100,</td>\n",
       "    </tr>\n",
       "    <tr>\n",
       "      <th>1900-01-01 00:00:45.973</th>\n",
       "      <th>1900-01-01 00:00:48.112</th>\n",
       "      <td>it can transform into a beautiful woman;</td>\n",
       "    </tr>\n",
       "    <tr>\n",
       "      <th>1900-01-01 00:00:48.743</th>\n",
       "      <th>1900-01-01 00:00:51.642</th>\n",
       "      <td>or become a man who has relations with one.</td>\n",
       "    </tr>\n",
       "    <tr>\n",
       "      <th>1900-01-01 00:00:52.412</th>\n",
       "      <th>1900-01-01 00:00:55.153</th>\n",
       "      <td>However, a fox of 1,000 years receives the sky...</td>\n",
       "    </tr>\n",
       "    <tr>\n",
       "      <th>1900-01-01 00:00:55.153</th>\n",
       "      <th>1900-01-01 00:00:56.522</th>\n",
       "      <td>and becomes a celestial fox.</td>\n",
       "    </tr>\n",
       "  </tbody>\n",
       "</table>\n",
       "</div>"
      ],
      "text/plain": [
       "                                                                                              text\n",
       "start                   end                                                                       \n",
       "1900-01-01 00:00:44.172 1900-01-01 00:00:45.973                              When a fox turns 100,\n",
       "1900-01-01 00:00:45.973 1900-01-01 00:00:48.112           it can transform into a beautiful woman;\n",
       "1900-01-01 00:00:48.743 1900-01-01 00:00:51.642        or become a man who has relations with one.\n",
       "1900-01-01 00:00:52.412 1900-01-01 00:00:55.153  However, a fox of 1,000 years receives the sky...\n",
       "1900-01-01 00:00:55.153 1900-01-01 00:00:56.522                       and becomes a celestial fox."
      ]
     },
     "execution_count": 307,
     "metadata": {},
     "output_type": "execute_result"
    }
   ],
   "source": [
    "subs_df[[\"text\"]] = subs_df[[\"text\"]].applymap(lambda row: re.sub(\"\\\\((.*)\\\\)\", \"\", row)).replace(\"\", np.nan)\n",
    "subs_df.dropna(inplace=True)\n",
    "print(subs_df.shape)\n",
    "subs_df.head()"
   ]
  },
  {
   "cell_type": "code",
   "execution_count": 308,
   "id": "a646f641-6e43-4363-a538-7a38600b9f0a",
   "metadata": {},
   "outputs": [
    {
     "data": {
      "text/html": [
       "<div>\n",
       "<style scoped>\n",
       "    .dataframe tbody tr th:only-of-type {\n",
       "        vertical-align: middle;\n",
       "    }\n",
       "\n",
       "    .dataframe tbody tr th {\n",
       "        vertical-align: top;\n",
       "    }\n",
       "\n",
       "    .dataframe thead th {\n",
       "        text-align: right;\n",
       "    }\n",
       "</style>\n",
       "<table border=\"1\" class=\"dataframe\">\n",
       "  <thead>\n",
       "    <tr style=\"text-align: right;\">\n",
       "      <th></th>\n",
       "      <th></th>\n",
       "      <th>text</th>\n",
       "    </tr>\n",
       "    <tr>\n",
       "      <th>start</th>\n",
       "      <th>end</th>\n",
       "      <th></th>\n",
       "    </tr>\n",
       "  </thead>\n",
       "  <tbody>\n",
       "    <tr>\n",
       "      <th>1900-01-01 00:24:47.443</th>\n",
       "      <th>1900-01-01 00:24:50.483</th>\n",
       "      <td>Besides, humans die too early to properly have...</td>\n",
       "    </tr>\n",
       "    <tr>\n",
       "      <th>1900-01-01 00:24:57.152</th>\n",
       "      <th>1900-01-01 00:24:58.763</th>\n",
       "      <td>I'm saying that life is short,</td>\n",
       "    </tr>\n",
       "    <tr>\n",
       "      <th>1900-01-01 00:24:59.223</th>\n",
       "      <th>1900-01-01 00:25:01.433</th>\n",
       "      <td>so try your best in life;</td>\n",
       "    </tr>\n",
       "    <tr>\n",
       "      <th>1900-01-01 00:25:01.592</th>\n",
       "      <th>1900-01-01 00:25:03.763</th>\n",
       "      <td>but know to let go when something's too unbear...</td>\n",
       "    </tr>\n",
       "    <tr>\n",
       "      <th>1900-01-01 00:25:04.733</th>\n",
       "      <th>1900-01-01 00:25:07.062</th>\n",
       "      <td>It extends to people, love,</td>\n",
       "    </tr>\n",
       "    <tr>\n",
       "      <th>1900-01-01 00:25:08.503</th>\n",
       "      <th>1900-01-01 00:25:09.533</th>\n",
       "      <td>and so on and so forth.</td>\n",
       "    </tr>\n",
       "    <tr>\n",
       "      <th>1900-01-01 00:25:10.372</th>\n",
       "      <th>1900-01-01 00:25:12.102</th>\n",
       "      <td>- Okay? - Okay!</td>\n",
       "    </tr>\n",
       "    <tr>\n",
       "      <th>1900-01-01 00:26:08.632</th>\n",
       "      <th>1900-01-01 00:26:10.193</th>\n",
       "      <td>How have you been, Granny?</td>\n",
       "    </tr>\n",
       "    <tr>\n",
       "      <th>1900-01-01 00:26:24.582</th>\n",
       "      <th>1900-01-01 00:26:26.342</th>\n",
       "      <td>You haven't been around much.</td>\n",
       "    </tr>\n",
       "    <tr>\n",
       "      <th>1900-01-01 00:26:27.513</th>\n",
       "      <th>1900-01-01 00:26:29.213</th>\n",
       "      <td>I've been busy, thanks to you.</td>\n",
       "    </tr>\n",
       "  </tbody>\n",
       "</table>\n",
       "</div>"
      ],
      "text/plain": [
       "                                                                                              text\n",
       "start                   end                                                                       \n",
       "1900-01-01 00:24:47.443 1900-01-01 00:24:50.483  Besides, humans die too early to properly have...\n",
       "1900-01-01 00:24:57.152 1900-01-01 00:24:58.763                     I'm saying that life is short,\n",
       "1900-01-01 00:24:59.223 1900-01-01 00:25:01.433                          so try your best in life;\n",
       "1900-01-01 00:25:01.592 1900-01-01 00:25:03.763  but know to let go when something's too unbear...\n",
       "1900-01-01 00:25:04.733 1900-01-01 00:25:07.062                        It extends to people, love,\n",
       "1900-01-01 00:25:08.503 1900-01-01 00:25:09.533                            and so on and so forth.\n",
       "1900-01-01 00:25:10.372 1900-01-01 00:25:12.102                                    - Okay? - Okay!\n",
       "1900-01-01 00:26:08.632 1900-01-01 00:26:10.193                         How have you been, Granny?\n",
       "1900-01-01 00:26:24.582 1900-01-01 00:26:26.342                      You haven't been around much.\n",
       "1900-01-01 00:26:27.513 1900-01-01 00:26:29.213                     I've been busy, thanks to you."
      ]
     },
     "execution_count": 308,
     "metadata": {},
     "output_type": "execute_result"
    }
   ],
   "source": [
    "subs_df[270:280]"
   ]
  },
  {
   "cell_type": "code",
   "execution_count": 309,
   "id": "b53cdc8a-3554-4c26-9a85-87970516fdf4",
   "metadata": {},
   "outputs": [
    {
     "data": {
      "text/html": [
       "<div>\n",
       "<style scoped>\n",
       "    .dataframe tbody tr th:only-of-type {\n",
       "        vertical-align: middle;\n",
       "    }\n",
       "\n",
       "    .dataframe tbody tr th {\n",
       "        vertical-align: top;\n",
       "    }\n",
       "\n",
       "    .dataframe thead th {\n",
       "        text-align: right;\n",
       "    }\n",
       "</style>\n",
       "<table border=\"1\" class=\"dataframe\">\n",
       "  <thead>\n",
       "    <tr style=\"text-align: right;\">\n",
       "      <th></th>\n",
       "      <th></th>\n",
       "      <th>text</th>\n",
       "    </tr>\n",
       "    <tr>\n",
       "      <th>start</th>\n",
       "      <th>end</th>\n",
       "      <th></th>\n",
       "    </tr>\n",
       "  </thead>\n",
       "  <tbody>\n",
       "    <tr>\n",
       "      <th>1900-01-01 01:01:18.644</th>\n",
       "      <th>1900-01-01 01:01:19.745</th>\n",
       "      <td>Shin Ju, is that you?</td>\n",
       "    </tr>\n",
       "    <tr>\n",
       "      <th>1900-01-01 01:01:21.814</th>\n",
       "      <th>1900-01-01 01:01:23.044</th>\n",
       "      <td>Why are all the doors open?</td>\n",
       "    </tr>\n",
       "    <tr>\n",
       "      <th>1900-01-01 01:01:23.944</th>\n",
       "      <th>1900-01-01 01:01:25.084</th>\n",
       "      <td>Did you miss me?</td>\n",
       "    </tr>\n",
       "    <tr>\n",
       "      <th>1900-01-01 01:01:25.084</th>\n",
       "      <th>1900-01-01 01:01:26.584</th>\n",
       "      <td>- As if, brother. - Brother?</td>\n",
       "    </tr>\n",
       "    <tr>\n",
       "      <th>1900-01-01 01:01:26.584</th>\n",
       "      <th>1900-01-01 01:01:29.155</th>\n",
       "      <td>It's a long story, but the family has a dirty ...</td>\n",
       "    </tr>\n",
       "  </tbody>\n",
       "</table>\n",
       "</div>"
      ],
      "text/plain": [
       "                                                                                              text\n",
       "start                   end                                                                       \n",
       "1900-01-01 01:01:18.644 1900-01-01 01:01:19.745                              Shin Ju, is that you?\n",
       "1900-01-01 01:01:21.814 1900-01-01 01:01:23.044                        Why are all the doors open?\n",
       "1900-01-01 01:01:23.944 1900-01-01 01:01:25.084                                   Did you miss me?\n",
       "1900-01-01 01:01:25.084 1900-01-01 01:01:26.584                       - As if, brother. - Brother?\n",
       "1900-01-01 01:01:26.584 1900-01-01 01:01:29.155  It's a long story, but the family has a dirty ..."
      ]
     },
     "execution_count": 309,
     "metadata": {},
     "output_type": "execute_result"
    }
   ],
   "source": [
    "subs_df.iloc[693:698]"
   ]
  },
  {
   "cell_type": "code",
   "execution_count": 310,
   "id": "52d4b9c6-7aa0-4af7-a629-23bae65e7d20",
   "metadata": {},
   "outputs": [
    {
     "name": "stdout",
     "output_type": "stream",
     "text": [
      "Index(['text'], dtype='object')\n"
     ]
    }
   ],
   "source": [
    "count = 0\n",
    "for index, sub in subs_df.iterrows():\n",
    "  if count == 1:\n",
    "    break\n",
    "  count += 1\n",
    "  print(sub.index)"
   ]
  },
  {
   "cell_type": "code",
   "execution_count": 311,
   "id": "d22fa489-f82d-4652-b734-9b85e295073b",
   "metadata": {},
   "outputs": [],
   "source": [
    "sentence = \"\"\n",
    "result = []\n",
    "\n",
    "for i, sub in subs_df.iterrows():\n",
    "  if sentence == \"\":\n",
    "    start = sub.name[0]\n",
    "  sentence = sub.text if sentence == \"\" else sentence + \" \" + sub.text\n",
    "  if re.search('[.?!]', sub.text):\n",
    "    result.append((start, sub.name[1], sentence))\n",
    "    sentence = \"\""
   ]
  },
  {
   "cell_type": "code",
   "execution_count": 316,
   "id": "47405ed5-1f09-4a3b-b5d5-a038bd3ca392",
   "metadata": {},
   "outputs": [
    {
     "data": {
      "text/html": [
       "<div>\n",
       "<style scoped>\n",
       "    .dataframe tbody tr th:only-of-type {\n",
       "        vertical-align: middle;\n",
       "    }\n",
       "\n",
       "    .dataframe tbody tr th {\n",
       "        vertical-align: top;\n",
       "    }\n",
       "\n",
       "    .dataframe thead th {\n",
       "        text-align: right;\n",
       "    }\n",
       "</style>\n",
       "<table border=\"1\" class=\"dataframe\">\n",
       "  <thead>\n",
       "    <tr style=\"text-align: right;\">\n",
       "      <th></th>\n",
       "      <th>start</th>\n",
       "      <th>end</th>\n",
       "      <th>sentence</th>\n",
       "    </tr>\n",
       "  </thead>\n",
       "  <tbody>\n",
       "    <tr>\n",
       "      <th>1424207769709898913</th>\n",
       "      <td>1900-01-01 00:00:44.172</td>\n",
       "      <td>1900-01-01 00:00:51.642</td>\n",
       "      <td>When a fox turns 100, it can transform into a ...</td>\n",
       "    </tr>\n",
       "    <tr>\n",
       "      <th>13755835859204238867</th>\n",
       "      <td>1900-01-01 00:00:52.412</td>\n",
       "      <td>1900-01-01 00:00:56.522</td>\n",
       "      <td>However, a fox of 1,000 years receives the sky...</td>\n",
       "    </tr>\n",
       "    <tr>\n",
       "      <th>74703595880608168</th>\n",
       "      <td>1900-01-01 00:00:57.083</td>\n",
       "      <td>1900-01-01 00:01:02.393</td>\n",
       "      <td>Its abilities match that of a powerful shaman;...</td>\n",
       "    </tr>\n",
       "    <tr>\n",
       "      <th>13894478965224293292</th>\n",
       "      <td>1900-01-01 00:01:10.403</td>\n",
       "      <td>1900-01-01 00:01:15.702</td>\n",
       "      <td>I was going to wait until we get home, but her...</td>\n",
       "    </tr>\n",
       "    <tr>\n",
       "      <th>11229840987905826232</th>\n",
       "      <td>1900-01-01 00:01:27.683</td>\n",
       "      <td>1900-01-01 00:01:29.013</td>\n",
       "      <td>Do you like your gift?</td>\n",
       "    </tr>\n",
       "  </tbody>\n",
       "</table>\n",
       "</div>"
      ],
      "text/plain": [
       "                                       start                     end  \\\n",
       "1424207769709898913  1900-01-01 00:00:44.172 1900-01-01 00:00:51.642   \n",
       "13755835859204238867 1900-01-01 00:00:52.412 1900-01-01 00:00:56.522   \n",
       "74703595880608168    1900-01-01 00:00:57.083 1900-01-01 00:01:02.393   \n",
       "13894478965224293292 1900-01-01 00:01:10.403 1900-01-01 00:01:15.702   \n",
       "11229840987905826232 1900-01-01 00:01:27.683 1900-01-01 00:01:29.013   \n",
       "\n",
       "                                                               sentence  \n",
       "1424207769709898913   When a fox turns 100, it can transform into a ...  \n",
       "13755835859204238867  However, a fox of 1,000 years receives the sky...  \n",
       "74703595880608168     Its abilities match that of a powerful shaman;...  \n",
       "13894478965224293292  I was going to wait until we get home, but her...  \n",
       "11229840987905826232                             Do you like your gift?  "
      ]
     },
     "execution_count": 316,
     "metadata": {},
     "output_type": "execute_result"
    }
   ],
   "source": [
    "sentence_df = pd.DataFrame(result, columns=[\"start\", \"end\", \"sentence\"])\n",
    "sentence_df.index = pd.util.hash_pandas_object(sentence_df[\"sentence\"], index=False)\n",
    "sentence_df.head()"
   ]
  },
  {
   "cell_type": "code",
   "execution_count": 317,
   "id": "4cc64c93-db2d-4aad-8183-84a8b3236fd0",
   "metadata": {},
   "outputs": [
    {
     "data": {
      "text/html": [
       "<div>\n",
       "<style scoped>\n",
       "    .dataframe tbody tr th:only-of-type {\n",
       "        vertical-align: middle;\n",
       "    }\n",
       "\n",
       "    .dataframe tbody tr th {\n",
       "        vertical-align: top;\n",
       "    }\n",
       "\n",
       "    .dataframe thead th {\n",
       "        text-align: right;\n",
       "    }\n",
       "</style>\n",
       "<table border=\"1\" class=\"dataframe\">\n",
       "  <thead>\n",
       "    <tr style=\"text-align: right;\">\n",
       "      <th></th>\n",
       "      <th></th>\n",
       "      <th>sentence</th>\n",
       "    </tr>\n",
       "    <tr>\n",
       "      <th>start</th>\n",
       "      <th>end</th>\n",
       "      <th></th>\n",
       "    </tr>\n",
       "  </thead>\n",
       "  <tbody>\n",
       "    <tr>\n",
       "      <th>1900-01-01 00:00:44.172</th>\n",
       "      <th>1900-01-01 00:00:51.642</th>\n",
       "      <td>When a fox turns 100, it can transform into a ...</td>\n",
       "    </tr>\n",
       "    <tr>\n",
       "      <th>1900-01-01 00:00:52.412</th>\n",
       "      <th>1900-01-01 00:00:56.522</th>\n",
       "      <td>However, a fox of 1,000 years receives the sky...</td>\n",
       "    </tr>\n",
       "    <tr>\n",
       "      <th>1900-01-01 00:00:57.083</th>\n",
       "      <th>1900-01-01 00:01:02.393</th>\n",
       "      <td>Its abilities match that of a powerful shaman;...</td>\n",
       "    </tr>\n",
       "    <tr>\n",
       "      <th>1900-01-01 00:01:10.403</th>\n",
       "      <th>1900-01-01 00:01:15.702</th>\n",
       "      <td>I was going to wait until we get home, but her...</td>\n",
       "    </tr>\n",
       "    <tr>\n",
       "      <th>1900-01-01 00:01:27.683</th>\n",
       "      <th>1900-01-01 00:01:29.013</th>\n",
       "      <td>Do you like your gift?</td>\n",
       "    </tr>\n",
       "  </tbody>\n",
       "</table>\n",
       "</div>"
      ],
      "text/plain": [
       "                                                                                          sentence\n",
       "start                   end                                                                       \n",
       "1900-01-01 00:00:44.172 1900-01-01 00:00:51.642  When a fox turns 100, it can transform into a ...\n",
       "1900-01-01 00:00:52.412 1900-01-01 00:00:56.522  However, a fox of 1,000 years receives the sky...\n",
       "1900-01-01 00:00:57.083 1900-01-01 00:01:02.393  Its abilities match that of a powerful shaman;...\n",
       "1900-01-01 00:01:10.403 1900-01-01 00:01:15.702  I was going to wait until we get home, but her...\n",
       "1900-01-01 00:01:27.683 1900-01-01 00:01:29.013                             Do you like your gift?"
      ]
     },
     "execution_count": 317,
     "metadata": {},
     "output_type": "execute_result"
    }
   ],
   "source": [
    "pd.DataFrame(result, columns=[\"start\", \"end\", \"sentence\"]).set_index([\"start\", \"end\"]).head()"
   ]
  },
  {
   "cell_type": "code",
   "execution_count": 318,
   "id": "0a5a83f1-c3a2-48e2-8618-7d37b4ae24a4",
   "metadata": {},
   "outputs": [
    {
     "data": {
      "text/plain": [
       "'Its abilities match that of a powerful shaman; which allows it to see what are miles ahead.'"
      ]
     },
     "execution_count": 318,
     "metadata": {},
     "output_type": "execute_result"
    }
   ],
   "source": [
    "sentence_df.iloc[2].sentence"
   ]
  },
  {
   "cell_type": "code",
   "execution_count": 319,
   "id": "173e257d-b22a-4ef0-a700-860b1465b9ea",
   "metadata": {},
   "outputs": [
    {
     "data": {
      "text/plain": [
       "'Do you really want to see the world I live in?'"
      ]
     },
     "execution_count": 319,
     "metadata": {},
     "output_type": "execute_result"
    }
   ],
   "source": [
    "sentence_df.iloc[658].sentence"
   ]
  },
  {
   "cell_type": "code",
   "execution_count": 320,
   "id": "fe3ec5bd-0ab6-47fd-8cae-ab2fcb310523",
   "metadata": {},
   "outputs": [
    {
     "data": {
      "text/plain": [
       "Timedelta('0 days 00:00:02.530000')"
      ]
     },
     "execution_count": 320,
     "metadata": {},
     "output_type": "execute_result"
    }
   ],
   "source": [
    "sentence_df.iloc[658].end - sentence_df.iloc[658].start"
   ]
  },
  {
   "cell_type": "code",
   "execution_count": 321,
   "id": "610e251f-c271-4f87-9a39-07bc8d8f649c",
   "metadata": {},
   "outputs": [
    {
     "data": {
      "text/html": [
       "<div>\n",
       "<style scoped>\n",
       "    .dataframe tbody tr th:only-of-type {\n",
       "        vertical-align: middle;\n",
       "    }\n",
       "\n",
       "    .dataframe tbody tr th {\n",
       "        vertical-align: top;\n",
       "    }\n",
       "\n",
       "    .dataframe thead th {\n",
       "        text-align: right;\n",
       "    }\n",
       "</style>\n",
       "<table border=\"1\" class=\"dataframe\">\n",
       "  <thead>\n",
       "    <tr style=\"text-align: right;\">\n",
       "      <th></th>\n",
       "      <th>start</th>\n",
       "      <th>end</th>\n",
       "      <th>sentence</th>\n",
       "    </tr>\n",
       "  </thead>\n",
       "  <tbody>\n",
       "    <tr>\n",
       "      <th>3856983730943893837</th>\n",
       "      <td>1900-01-01 00:24:57.152</td>\n",
       "      <td>1900-01-01 00:25:03.763</td>\n",
       "      <td>I'm saying that life is short, so try your bes...</td>\n",
       "    </tr>\n",
       "    <tr>\n",
       "      <th>7946187886336389767</th>\n",
       "      <td>1900-01-01 00:25:04.733</td>\n",
       "      <td>1900-01-01 00:25:09.533</td>\n",
       "      <td>It extends to people, love, and so on and so f...</td>\n",
       "    </tr>\n",
       "    <tr>\n",
       "      <th>7314675150750314319</th>\n",
       "      <td>1900-01-01 00:25:10.372</td>\n",
       "      <td>1900-01-01 00:25:12.102</td>\n",
       "      <td>- Okay? - Okay!</td>\n",
       "    </tr>\n",
       "    <tr>\n",
       "      <th>9651332039963499136</th>\n",
       "      <td>1900-01-01 00:26:08.632</td>\n",
       "      <td>1900-01-01 00:26:10.193</td>\n",
       "      <td>How have you been, Granny?</td>\n",
       "    </tr>\n",
       "    <tr>\n",
       "      <th>6533484677845535548</th>\n",
       "      <td>1900-01-01 00:26:24.582</td>\n",
       "      <td>1900-01-01 00:26:26.342</td>\n",
       "      <td>You haven't been around much.</td>\n",
       "    </tr>\n",
       "    <tr>\n",
       "      <th>9259619257072481335</th>\n",
       "      <td>1900-01-01 00:26:27.513</td>\n",
       "      <td>1900-01-01 00:26:29.213</td>\n",
       "      <td>I've been busy, thanks to you.</td>\n",
       "    </tr>\n",
       "    <tr>\n",
       "      <th>14438434740191741987</th>\n",
       "      <td>1900-01-01 00:26:31.523</td>\n",
       "      <td>1900-01-01 00:26:34.892</td>\n",
       "      <td>Never did I imagine; seeing the great Taluipa ...</td>\n",
       "    </tr>\n",
       "    <tr>\n",
       "      <th>12587812263603286725</th>\n",
       "      <td>1900-01-01 00:26:35.122</td>\n",
       "      <td>1900-01-01 00:26:37.693</td>\n",
       "      <td>What can I do when the world has changed?</td>\n",
       "    </tr>\n",
       "    <tr>\n",
       "      <th>15339389982142967231</th>\n",
       "      <td>1900-01-01 00:26:39.493</td>\n",
       "      <td>1900-01-01 00:26:41.793</td>\n",
       "      <td>The Afterlife should have a five-day workweek ...</td>\n",
       "    </tr>\n",
       "    <tr>\n",
       "      <th>8051282188957687221</th>\n",
       "      <td>1900-01-01 00:26:43.362</td>\n",
       "      <td>1900-01-01 00:26:44.902</td>\n",
       "      <td>Did you get my text?</td>\n",
       "    </tr>\n",
       "  </tbody>\n",
       "</table>\n",
       "</div>"
      ],
      "text/plain": [
       "                                       start                     end  \\\n",
       "3856983730943893837  1900-01-01 00:24:57.152 1900-01-01 00:25:03.763   \n",
       "7946187886336389767  1900-01-01 00:25:04.733 1900-01-01 00:25:09.533   \n",
       "7314675150750314319  1900-01-01 00:25:10.372 1900-01-01 00:25:12.102   \n",
       "9651332039963499136  1900-01-01 00:26:08.632 1900-01-01 00:26:10.193   \n",
       "6533484677845535548  1900-01-01 00:26:24.582 1900-01-01 00:26:26.342   \n",
       "9259619257072481335  1900-01-01 00:26:27.513 1900-01-01 00:26:29.213   \n",
       "14438434740191741987 1900-01-01 00:26:31.523 1900-01-01 00:26:34.892   \n",
       "12587812263603286725 1900-01-01 00:26:35.122 1900-01-01 00:26:37.693   \n",
       "15339389982142967231 1900-01-01 00:26:39.493 1900-01-01 00:26:41.793   \n",
       "8051282188957687221  1900-01-01 00:26:43.362 1900-01-01 00:26:44.902   \n",
       "\n",
       "                                                               sentence  \n",
       "3856983730943893837   I'm saying that life is short, so try your bes...  \n",
       "7946187886336389767   It extends to people, love, and so on and so f...  \n",
       "7314675150750314319                                     - Okay? - Okay!  \n",
       "9651332039963499136                          How have you been, Granny?  \n",
       "6533484677845535548                       You haven't been around much.  \n",
       "9259619257072481335                      I've been busy, thanks to you.  \n",
       "14438434740191741987  Never did I imagine; seeing the great Taluipa ...  \n",
       "12587812263603286725          What can I do when the world has changed?  \n",
       "15339389982142967231  The Afterlife should have a five-day workweek ...  \n",
       "8051282188957687221                                Did you get my text?  "
      ]
     },
     "execution_count": 321,
     "metadata": {},
     "output_type": "execute_result"
    }
   ],
   "source": [
    "# Point no 4. anything inside () or subs with only () has been removed\n",
    "sentence_df.iloc[240:250]"
   ]
  },
  {
   "cell_type": "code",
   "execution_count": 322,
   "id": "ae21fa8a-4e2a-4e16-94b9-e84d5d8dfdd2",
   "metadata": {},
   "outputs": [
    {
     "data": {
      "text/html": [
       "<div>\n",
       "<style scoped>\n",
       "    .dataframe tbody tr th:only-of-type {\n",
       "        vertical-align: middle;\n",
       "    }\n",
       "\n",
       "    .dataframe tbody tr th {\n",
       "        vertical-align: top;\n",
       "    }\n",
       "\n",
       "    .dataframe thead th {\n",
       "        text-align: right;\n",
       "    }\n",
       "</style>\n",
       "<table border=\"1\" class=\"dataframe\">\n",
       "  <thead>\n",
       "    <tr style=\"text-align: right;\">\n",
       "      <th></th>\n",
       "      <th>start</th>\n",
       "      <th>end</th>\n",
       "      <th>sentence</th>\n",
       "    </tr>\n",
       "  </thead>\n",
       "  <tbody>\n",
       "    <tr>\n",
       "      <th>13065545797657020242</th>\n",
       "      <td>1900-01-01 00:59:08.774</td>\n",
       "      <td>1900-01-01 00:59:10.644</td>\n",
       "      <td>This is why kids must be disciplined.</td>\n",
       "    </tr>\n",
       "    <tr>\n",
       "      <th>9088408106118007737</th>\n",
       "      <td>1900-01-01 00:59:37.374</td>\n",
       "      <td>1900-01-01 00:59:39.345</td>\n",
       "      <td>How many people have you killed?</td>\n",
       "    </tr>\n",
       "    <tr>\n",
       "      <th>8039897433280513526</th>\n",
       "      <td>1900-01-01 00:59:39.345</td>\n",
       "      <td>1900-01-01 00:59:41.044</td>\n",
       "      <td>Are you worried I'll be sucked into the Underw...</td>\n",
       "    </tr>\n",
       "    <tr>\n",
       "      <th>11069143831905122878</th>\n",
       "      <td>1900-01-01 00:59:42.274</td>\n",
       "      <td>1900-01-01 00:59:43.385</td>\n",
       "      <td>No, it's because you embarrass me.</td>\n",
       "    </tr>\n",
       "    <tr>\n",
       "      <th>8705082159783812700</th>\n",
       "      <td>1900-01-01 00:59:44.115</td>\n",
       "      <td>1900-01-01 00:59:46.345</td>\n",
       "      <td>This is because I don't want a pathetic life l...</td>\n",
       "    </tr>\n",
       "    <tr>\n",
       "      <th>4097597925988755082</th>\n",
       "      <td>1900-01-01 00:59:46.345</td>\n",
       "      <td>1900-01-01 00:59:48.984</td>\n",
       "      <td>What's more pathetic is a grown man who whines.</td>\n",
       "    </tr>\n",
       "  </tbody>\n",
       "</table>\n",
       "</div>"
      ],
      "text/plain": [
       "                                       start                     end  \\\n",
       "13065545797657020242 1900-01-01 00:59:08.774 1900-01-01 00:59:10.644   \n",
       "9088408106118007737  1900-01-01 00:59:37.374 1900-01-01 00:59:39.345   \n",
       "8039897433280513526  1900-01-01 00:59:39.345 1900-01-01 00:59:41.044   \n",
       "11069143831905122878 1900-01-01 00:59:42.274 1900-01-01 00:59:43.385   \n",
       "8705082159783812700  1900-01-01 00:59:44.115 1900-01-01 00:59:46.345   \n",
       "4097597925988755082  1900-01-01 00:59:46.345 1900-01-01 00:59:48.984   \n",
       "\n",
       "                                                               sentence  \n",
       "13065545797657020242              This is why kids must be disciplined.  \n",
       "9088408106118007737                    How many people have you killed?  \n",
       "8039897433280513526   Are you worried I'll be sucked into the Underw...  \n",
       "11069143831905122878                 No, it's because you embarrass me.  \n",
       "8705082159783812700   This is because I don't want a pathetic life l...  \n",
       "4097597925988755082     What's more pathetic is a grown man who whines.  "
      ]
     },
     "execution_count": 322,
     "metadata": {},
     "output_type": "execute_result"
    }
   ],
   "source": [
    "sentence_df.iloc[604:610]"
   ]
  },
  {
   "cell_type": "markdown",
   "id": "35b159b1-decd-4606-a12f-a117597d33de",
   "metadata": {},
   "source": [
    "# Export to file"
   ]
  },
  {
   "cell_type": "code",
   "execution_count": 4,
   "id": "c8a17553-128f-4543-acc2-252f7c16b43b",
   "metadata": {},
   "outputs": [
    {
     "name": "stdout",
     "output_type": "stream",
     "text": [
      "Overwriting sentences.py\n"
     ]
    }
   ],
   "source": [
    "%%writefile \"sentences.py\"\n",
    "import pysrt\n",
    "import pandas as pd\n",
    "import re\n",
    "\n",
    "\n",
    "class Sentences:\n",
    "  def __init__(self, file, hashed=True):\n",
    "    self.subs = pysrt.open(file)\n",
    "    self.sentence_df = self.__to_sentences(self.__regex(), hashed)\n",
    "    return self.sentence_df\n",
    "\n",
    "\n",
    "  def __regex(self, subs):\n",
    "    # Replace using regex without writing regex expression\n",
    "    replacements = {\"|\": \" \", \"\\n\": \" \", \"...\": \";\"}\n",
    "    replacements = dict((re.escape(k), v) for k, v in replacements.items())\n",
    "    pattern = re.compile(\"|\".join(replacements.keys()))\n",
    "\n",
    "    subs_df = pd.DataFrame([[sub.start, sub.end,\n",
    "                             pattern.sub(lambda m: replacements[\n",
    "                               re.escape(m.group(0))], sub.text)]\n",
    "                            for sub in self.subs],\n",
    "                           columns=[\"start\", \"end\", \"text\"])\n",
    "\n",
    "    # Replace anything inside () with '' and if whole row is '' replace with NaN and drop them\n",
    "    subs_df[[\"text\"]] = subs_df[[\"text\"]].applymap(lambda row: re.sub(\"\\\\((.*)\\\\)\", \"\", row)).replace(\"\", np.nan)\n",
    "    subs_df.dropna(inplace=True)\n",
    "    return subs_df\n",
    "\n",
    "  def __to_sentences(self, subs_df, hashed):\n",
    "    sentence = \"\"\n",
    "    result = []\n",
    "\n",
    "    for i, sub in subs_df.iterrows():\n",
    "      if sentence == \"\":\n",
    "        start = sub.start\n",
    "      sentence = sub.text if sentence == \"\" else sentence + \" \" + sub.text \n",
    "      if re.search('[.?!]', sub.text):\n",
    "        result.append((start, sub.end, sentence))\n",
    "        sentence = \"\"\n",
    "\n",
    "    sentence_df = pd.DataFrame(result, columns=[\"start\", \"end\", \"sentence\"])\n",
    "\n",
    "    if hashed:\n",
    "      # Set index as the hash of sentence.\n",
    "      sentence_df.index = pd.util.hash_pandas_object(sentence_df[\"sentence\"], index=False)\n",
    "      sentence_df[\"start\"] = pd.to_datetime(sentence_df[\"start\"], format=\"%H:%M:%S,%f\")\n",
    "      sentence_df[\"end\"] = pd.to_datetime(sentence_df[\"end\"], format=\"%H:%M:%S,%f\")\n",
    "    else:\n",
    "      # Otherwise set \"start\" and \"end\" and index for easy indexing\n",
    "      sentence_df.set_index([\"start\", \"end\"], inplace=True)\n",
    "\n",
    "    return sentence_df"
   ]
  },
  {
   "cell_type": "code",
   "execution_count": null,
   "id": "0419bfd2-8354-49c0-a280-73dc51246d15",
   "metadata": {},
   "outputs": [],
   "source": []
  }
 ],
 "metadata": {
  "kernelspec": {
   "display_name": "Python 3 (ipykernel)",
   "language": "python",
   "name": "python3"
  },
  "language_info": {
   "codemirror_mode": {
    "name": "ipython",
    "version": 3
   },
   "file_extension": ".py",
   "mimetype": "text/x-python",
   "name": "python",
   "nbconvert_exporter": "python",
   "pygments_lexer": "ipython3",
   "version": "3.9.7"
  }
 },
 "nbformat": 4,
 "nbformat_minor": 5
}
