{
 "cells": [
  {
   "cell_type": "markdown",
   "metadata": {
    "id": "NPphlfgUP9Kt"
   },
   "source": [
    "# 3. Clustering audio segments for speaker identification\n",
    "In our 3<sup>rd</sup> step, the task is to cluster the generated `<hash>_vocals.wav` (generated in step 2). Since we have now removed `<hash>_accompaniments.wav` it won't act as noise, model can easily identify speaker's speech features.\n",
    "\n",
    "## Why clustering?\n",
    "Since subtitle don't tell \"Who is speaking?\", we need to know \"Who is speaking this sentence?\". Clustering will help us identify speakers for each particular (`sentence`, `<hash>_vocal`) pair. Knowing speaker will help in 4<sup>th</sup> step to generate TTS for that particular speaker.\n",
    "\n",
    "## Clustering on audio...never heard before?\n",
    "Clustering raw audio is hard and unreasonable due to its high dimensionability.\n",
    "\n",
    "What we can try is reduce dimensionality, by creating **Embeddings** or Vectors that represent the underlying speech input.\n",
    "\n",
    "We can use a pretrained model trained for a different task, such as for identifying if it is same speaker or not, and use transfer learning to that a trained model hidden layers and generate a vector as Embedding.\n",
    "\n",
    "We will then be able to perform Clustering on these generated Embeddings, assign unique ID to cluster identifying them as one particular speaker.\n"
   ]
  },
  {
   "cell_type": "code",
   "execution_count": 4,
   "metadata": {
    "id": "Zf1Qv3ECcdLo"
   },
   "outputs": [],
   "source": [
    "# Don't run, might require in production env\n",
    "# !apt install ffmpeg"
   ]
  },
  {
   "cell_type": "code",
   "execution_count": null,
   "metadata": {
    "id": "aAVAlGCGbqmw"
   },
   "outputs": [],
   "source": [
    "!pip install --quiet spleeter\n",
    "!pip install --quiet pysrt"
   ]
  },
  {
   "cell_type": "code",
   "execution_count": null,
   "metadata": {
    "id": "Gs8YlrJRFhVF"
   },
   "outputs": [],
   "source": [
    "!pip uninstall --quiet tensorflow\n",
    "!pip install --upgrade --quiet  tensorflow"
   ]
  },
  {
   "cell_type": "code",
   "execution_count": null,
   "metadata": {
    "id": "rAc3tNiZ35lg"
   },
   "outputs": [],
   "source": [
    "!pip uninstall --quiet keras\n",
    "!pip install --upgrade --quiet keras"
   ]
  },
  {
   "cell_type": "code",
   "execution_count": 1,
   "metadata": {
    "id": "8xnan1H1bqQF"
   },
   "outputs": [],
   "source": [
    "from deepdub_sentence import DeepdubSentence\n",
    "from deepdub_audio import DeepdubAudio\n",
    "from IPython.display import Audio\n",
    "from IPython.display import display"
   ]
  },
  {
   "cell_type": "code",
   "execution_count": 2,
   "metadata": {
    "colab": {
     "base_uri": "https://localhost:8080/"
    },
    "id": "h5v0ColWaawv",
    "outputId": "1a99be81-6adb-4098-c8cd-e686f2282648"
   },
   "outputs": [],
   "source": [
    "IN_COLAB = 'google.colab' in str(get_ipython())\n",
    "\n",
    "if IN_COLAB:\n",
    "  from google.colab import drive\n",
    "\n",
    "  drive.mount('/content/gdrive')"
   ]
  },
  {
   "cell_type": "code",
   "execution_count": 3,
   "metadata": {
    "id": "CnXf5kRUa7LZ"
   },
   "outputs": [],
   "source": [
    "DRAMA = '/tale_of_nine_tailed'\n",
    "\n",
    "if IN_COLAB:\n",
    "  BASE_DIR = '/content/gdrive/MyDrive/Colab Project/Deepdub'\n",
    "  OUTPUT_DIR = '/content/output_dir' + DRAMA\n",
    "  MODEL_path = '/content/gdrive/MyDrive/Colab Project/Deepdub/ResCNN_triplet_training_checkpoint_265.h5'\n",
    "else:\n",
    "  BASE_DIR = 'T:/pycharm_repo/Working_dir/Deepdub'\n",
    "  OUTPUT_DIR = './output_dir' + DRAMA\n",
    "  MODEL_PATH = './pretrained_models/ResCNN_triplet_training_checkpoint_265.h5'\n",
    "\n",
    "AUDIO_OUTPUT_DIR = OUTPUT_DIR + '/audio_segments'\n",
    "SAMPLE_DIR = BASE_DIR + DRAMA\n",
    "SUBTITLE_DIR = SAMPLE_DIR + '/subtitles'\n",
    "EP = 1\n",
    "\n",
    "slice_from = \"10_33\"\n",
    "slice_to = \"11_00\""
   ]
  },
  {
   "cell_type": "code",
   "execution_count": 4,
   "metadata": {
    "id": "KNyIckwMcv04"
   },
   "outputs": [
    {
     "name": "stderr",
     "output_type": "stream",
     "text": [
      "The syntax of the command is incorrect.\n"
     ]
    }
   ],
   "source": [
    "!mkdir -p $OUTPUT_DIR"
   ]
  },
  {
   "cell_type": "code",
   "execution_count": 4,
   "metadata": {
    "id": "aUn9htPSbfiC"
   },
   "outputs": [],
   "source": [
    "def to_sec(min_sec):\n",
    "  \"\"\"\n",
    "  Convert a string formatted as `min_sec` or 'h_min_sec' to int of total seconds.\n",
    "  \"\"\"\n",
    "  return int(\n",
    "    min_sec.split(\"_\")[-2])*60 + int(\n",
    "    min_sec.split(\"_\")[-1])"
   ]
  },
  {
   "cell_type": "code",
   "execution_count": 5,
   "metadata": {
    "id": "HBtdjl7wbo71"
   },
   "outputs": [
    {
     "name": "stdout",
     "output_type": "stream",
     "text": [
      "Moviepy - Running:\n",
      ">>> \"+ \" \".join(cmd)\n",
      "Moviepy - Command successful\n",
      "Moviepy - Running:\n",
      ">>> \"+ \" \".join(cmd)\n",
      "Moviepy - Command successful\n",
      "Moviepy - Running:\n",
      ">>> \"+ \" \".join(cmd)\n",
      "Moviepy - Command successful\n",
      "Moviepy - Running:\n",
      ">>> \"+ \" \".join(cmd)\n",
      "Moviepy - Command successful\n",
      "Moviepy - Running:\n",
      ">>> \"+ \" \".join(cmd)\n",
      "Moviepy - Command successful\n",
      "Moviepy - Running:\n",
      ">>> \"+ \" \".join(cmd)\n",
      "Moviepy - Command successful\n",
      "Moviepy - Running:\n",
      ">>> \"+ \" \".join(cmd)\n",
      "Moviepy - Command successful\n",
      "Moviepy - Running:\n",
      ">>> \"+ \" \".join(cmd)\n",
      "Moviepy - Command successful\n",
      "Moviepy - Running:\n",
      ">>> \"+ \" \".join(cmd)\n",
      "Moviepy - Command successful\n",
      "Moviepy - Running:\n",
      ">>> \"+ \" \".join(cmd)\n",
      "Moviepy - Command successful\n"
     ]
    }
   ],
   "source": [
    "deep_s = DeepdubSentence(project_name=DRAMA,\n",
    "                         subtitle_path=SUBTITLE_DIR + f'/ep{EP}_eng.srt',\n",
    "                         slice_from=slice_from,\n",
    "                         slice_to=slice_to,\n",
    "                         shift={\"seconds\": 3})\n",
    "sentence_df = deep_s.get_sentences()\n",
    "\n",
    "deep_a = DeepdubAudio(project_name=DRAMA,\n",
    "                      sentence_df=sentence_df,\n",
    "                      audio_path=f'{OUTPUT_DIR}/clip{EP}.wav')\n",
    "deep_a.create_audio_segments()"
   ]
  },
  {
   "cell_type": "code",
   "execution_count": 7,
   "metadata": {
    "colab": {
     "base_uri": "https://localhost:8080/",
     "height": 363
    },
    "id": "P5isbA1L201C",
    "outputId": "4fdc5c15-1cad-44d4-9583-8f006d4174c0"
   },
   "outputs": [
    {
     "data": {
      "text/html": [
       "<div>\n",
       "<style scoped>\n",
       "    .dataframe tbody tr th:only-of-type {\n",
       "        vertical-align: middle;\n",
       "    }\n",
       "\n",
       "    .dataframe tbody tr th {\n",
       "        vertical-align: top;\n",
       "    }\n",
       "\n",
       "    .dataframe thead th {\n",
       "        text-align: right;\n",
       "    }\n",
       "</style>\n",
       "<table border=\"1\" class=\"dataframe\">\n",
       "  <thead>\n",
       "    <tr style=\"text-align: right;\">\n",
       "      <th></th>\n",
       "      <th>start</th>\n",
       "      <th>end</th>\n",
       "      <th>hash</th>\n",
       "      <th>path</th>\n",
       "    </tr>\n",
       "  </thead>\n",
       "  <tbody>\n",
       "    <tr>\n",
       "      <th>0</th>\n",
       "      <td>1970-01-01 00:00:00.000</td>\n",
       "      <td>1900-01-01 00:00:17.373</td>\n",
       "      <td>18080109877677407453</td>\n",
       "      <td>18080109877677407453.wav</td>\n",
       "    </tr>\n",
       "    <tr>\n",
       "      <th>1</th>\n",
       "      <td>1900-01-01 00:00:17.373</td>\n",
       "      <td>1900-01-01 00:00:19.342</td>\n",
       "      <td>11991633108791627229</td>\n",
       "      <td>11991633108791627229_gen.wav</td>\n",
       "    </tr>\n",
       "    <tr>\n",
       "      <th>2</th>\n",
       "      <td>1900-01-01 00:00:19.342</td>\n",
       "      <td>1900-01-01 00:00:21.543</td>\n",
       "      <td>11763586976482689099</td>\n",
       "      <td>11763586976482689099_gen.wav</td>\n",
       "    </tr>\n",
       "    <tr>\n",
       "      <th>3</th>\n",
       "      <td>1900-01-01 00:00:21.543</td>\n",
       "      <td>1900-01-01 00:00:21.743</td>\n",
       "      <td>8592613452553988599</td>\n",
       "      <td>8592613452553988599.wav</td>\n",
       "    </tr>\n",
       "    <tr>\n",
       "      <th>4</th>\n",
       "      <td>1900-01-01 00:00:21.743</td>\n",
       "      <td>1900-01-01 00:00:23.712</td>\n",
       "      <td>15623740944573960892</td>\n",
       "      <td>15623740944573960892_gen.wav</td>\n",
       "    </tr>\n",
       "    <tr>\n",
       "      <th>5</th>\n",
       "      <td>1900-01-01 00:00:23.712</td>\n",
       "      <td>1900-01-01 00:00:24.383</td>\n",
       "      <td>969872868272006427</td>\n",
       "      <td>969872868272006427.wav</td>\n",
       "    </tr>\n",
       "    <tr>\n",
       "      <th>6</th>\n",
       "      <td>1900-01-01 00:00:24.383</td>\n",
       "      <td>1900-01-01 00:00:25.482</td>\n",
       "      <td>3767497895488922469</td>\n",
       "      <td>3767497895488922469_gen.wav</td>\n",
       "    </tr>\n",
       "    <tr>\n",
       "      <th>7</th>\n",
       "      <td>1900-01-01 00:00:25.482</td>\n",
       "      <td>1900-01-01 00:00:25.812</td>\n",
       "      <td>17176160047264815362</td>\n",
       "      <td>17176160047264815362.wav</td>\n",
       "    </tr>\n",
       "    <tr>\n",
       "      <th>8</th>\n",
       "      <td>1900-01-01 00:00:25.812</td>\n",
       "      <td>1900-01-01 00:00:27.653</td>\n",
       "      <td>2555627041485743295</td>\n",
       "      <td>2555627041485743295_gen.wav</td>\n",
       "    </tr>\n",
       "    <tr>\n",
       "      <th>9</th>\n",
       "      <td>1900-01-01 00:00:27.653</td>\n",
       "      <td>1900-01-01 00:00:29.930</td>\n",
       "      <td>17587883856843243571</td>\n",
       "      <td>17587883856843243571.wav</td>\n",
       "    </tr>\n",
       "  </tbody>\n",
       "</table>\n",
       "</div>"
      ],
      "text/plain": [
       "                    start                     end                  hash  \\\n",
       "0 1970-01-01 00:00:00.000 1900-01-01 00:00:17.373  18080109877677407453   \n",
       "1 1900-01-01 00:00:17.373 1900-01-01 00:00:19.342  11991633108791627229   \n",
       "2 1900-01-01 00:00:19.342 1900-01-01 00:00:21.543  11763586976482689099   \n",
       "3 1900-01-01 00:00:21.543 1900-01-01 00:00:21.743   8592613452553988599   \n",
       "4 1900-01-01 00:00:21.743 1900-01-01 00:00:23.712  15623740944573960892   \n",
       "5 1900-01-01 00:00:23.712 1900-01-01 00:00:24.383    969872868272006427   \n",
       "6 1900-01-01 00:00:24.383 1900-01-01 00:00:25.482   3767497895488922469   \n",
       "7 1900-01-01 00:00:25.482 1900-01-01 00:00:25.812  17176160047264815362   \n",
       "8 1900-01-01 00:00:25.812 1900-01-01 00:00:27.653   2555627041485743295   \n",
       "9 1900-01-01 00:00:27.653 1900-01-01 00:00:29.930  17587883856843243571   \n",
       "\n",
       "                           path  \n",
       "0      18080109877677407453.wav  \n",
       "1  11991633108791627229_gen.wav  \n",
       "2  11763586976482689099_gen.wav  \n",
       "3       8592613452553988599.wav  \n",
       "4  15623740944573960892_gen.wav  \n",
       "5        969872868272006427.wav  \n",
       "6   3767497895488922469_gen.wav  \n",
       "7      17176160047264815362.wav  \n",
       "8   2555627041485743295_gen.wav  \n",
       "9      17587883856843243571.wav  "
      ]
     },
     "execution_count": 7,
     "metadata": {},
     "output_type": "execute_result"
    }
   ],
   "source": [
    "deep_a.audio_df"
   ]
  },
  {
   "cell_type": "code",
   "execution_count": 11,
   "metadata": {
    "id": "uCRTLh-xfb2V"
   },
   "outputs": [
    {
     "name": "stdout",
     "output_type": "stream",
     "text": [
      "INFO:tensorflow:Apply unet for vocals_spectrogram\n",
      "WARNING:tensorflow:From C:\\anaconda3\\envs\\Jupyter\\lib\\site-packages\\keras\\layers\\normalization\\batch_normalization.py:520: _colocate_with (from tensorflow.python.framework.ops) is deprecated and will be removed in a future version.\n",
      "Instructions for updating:\n",
      "Colocations handled automatically by placer.\n",
      "INFO:tensorflow:Apply unet for accompaniment_spectrogram\n",
      "INFO:tensorflow:Restoring parameters from pretrained_models\\2stems\\model\n"
     ]
    }
   ],
   "source": [
    "deep_a.extract_vocal_and_accompaniments()"
   ]
  },
  {
   "cell_type": "code",
   "execution_count": 8,
   "metadata": {
    "colab": {
     "base_uri": "https://localhost:8080/",
     "height": 206
    },
    "id": "4mXoWC4S2KS2",
    "outputId": "7525d4f4-ec24-468f-b2a7-5b90e1cb1c95"
   },
   "outputs": [
    {
     "data": {
      "text/html": [
       "<div>\n",
       "<style scoped>\n",
       "    .dataframe tbody tr th:only-of-type {\n",
       "        vertical-align: middle;\n",
       "    }\n",
       "\n",
       "    .dataframe tbody tr th {\n",
       "        vertical-align: top;\n",
       "    }\n",
       "\n",
       "    .dataframe thead th {\n",
       "        text-align: right;\n",
       "    }\n",
       "</style>\n",
       "<table border=\"1\" class=\"dataframe\">\n",
       "  <thead>\n",
       "    <tr style=\"text-align: right;\">\n",
       "      <th></th>\n",
       "      <th>start</th>\n",
       "      <th>end</th>\n",
       "      <th>sentence</th>\n",
       "      <th>hash</th>\n",
       "    </tr>\n",
       "  </thead>\n",
       "  <tbody>\n",
       "    <tr>\n",
       "      <th>0</th>\n",
       "      <td>1900-01-01 00:00:17.373</td>\n",
       "      <td>1900-01-01 00:00:19.342</td>\n",
       "      <td>Why is it raining? I didn't see this on the we...</td>\n",
       "      <td>11991633108791627229</td>\n",
       "    </tr>\n",
       "    <tr>\n",
       "      <th>1</th>\n",
       "      <td>1900-01-01 00:00:19.342</td>\n",
       "      <td>1900-01-01 00:00:21.543</td>\n",
       "      <td>Gosh, I know. I got my hair done today.</td>\n",
       "      <td>11763586976482689099</td>\n",
       "    </tr>\n",
       "    <tr>\n",
       "      <th>2</th>\n",
       "      <td>1900-01-01 00:00:21.743</td>\n",
       "      <td>1900-01-01 00:00:23.712</td>\n",
       "      <td>- It's all wet. - My goodness, you're right.</td>\n",
       "      <td>15623740944573960892</td>\n",
       "    </tr>\n",
       "    <tr>\n",
       "      <th>3</th>\n",
       "      <td>1900-01-01 00:00:24.383</td>\n",
       "      <td>1900-01-01 00:00:25.482</td>\n",
       "      <td>Your hair is all wet.</td>\n",
       "      <td>3767497895488922469</td>\n",
       "    </tr>\n",
       "    <tr>\n",
       "      <th>4</th>\n",
       "      <td>1900-01-01 00:00:25.812</td>\n",
       "      <td>1900-01-01 00:00:27.653</td>\n",
       "      <td>That's because a fox is getting married today.</td>\n",
       "      <td>2555627041485743295</td>\n",
       "    </tr>\n",
       "  </tbody>\n",
       "</table>\n",
       "</div>"
      ],
      "text/plain": [
       "                    start                     end  \\\n",
       "0 1900-01-01 00:00:17.373 1900-01-01 00:00:19.342   \n",
       "1 1900-01-01 00:00:19.342 1900-01-01 00:00:21.543   \n",
       "2 1900-01-01 00:00:21.743 1900-01-01 00:00:23.712   \n",
       "3 1900-01-01 00:00:24.383 1900-01-01 00:00:25.482   \n",
       "4 1900-01-01 00:00:25.812 1900-01-01 00:00:27.653   \n",
       "\n",
       "                                            sentence                  hash  \n",
       "0  Why is it raining? I didn't see this on the we...  11991633108791627229  \n",
       "1            Gosh, I know. I got my hair done today.  11763586976482689099  \n",
       "2       - It's all wet. - My goodness, you're right.  15623740944573960892  \n",
       "3                              Your hair is all wet.   3767497895488922469  \n",
       "4     That's because a fox is getting married today.   2555627041485743295  "
      ]
     },
     "execution_count": 8,
     "metadata": {},
     "output_type": "execute_result"
    }
   ],
   "source": [
    "sentence_df"
   ]
  },
  {
   "cell_type": "code",
   "execution_count": null,
   "metadata": {
    "colab": {
     "base_uri": "https://localhost:8080/",
     "height": 337
    },
    "id": "rxDKmbFbH5GA",
    "outputId": "cc07778a-edff-4076-b72f-128941f078c4"
   },
   "outputs": [],
   "source": [
    "import random\n",
    "import numpy as np\n",
    "from deep_speaker.audio import read_mfcc\n",
    "from deep_speaker.batcher import sample_from_mfcc\n",
    "from deep_speaker.constants import SAMPLE_RATE, NUM_FRAMES\n",
    "from deep_speaker.conv_models import DeepSpeakerModel\n",
    "\n",
    "np.random.seed(123)\n",
    "random.seed(123)\n",
    "\n",
    "model = DeepSpeakerModel()\n",
    "model.m.load_weights(MODEL_PATH, by_name=True)\n",
    "\n",
    "\n",
    "def get_embedding(h):\n",
    "  \"\"\"Call the model to get the embeddings of shape (1, 512) for each file.\n",
    "  \"\"\"\n",
    "  mfcc = sample_from_mfcc(read_mfcc(f'{AUDIO_OUTPUT_DIR}/{h}_vocals.wav', SAMPLE_RATE), NUM_FRAMES)\n",
    "  embedding = model.m.predict(np.expand_dims(mfcc, axis=0))\n",
    "  return embedding\n",
    "\n",
    "\n",
    "sentence_df[[\"embedding\"]] = sentence_df[[\"hash\"]].applymap(get_embedding)\n",
    "sentence_df"
   ]
  },
  {
   "cell_type": "code",
   "execution_count": null,
   "metadata": {
    "colab": {
     "base_uri": "https://localhost:8080/"
    },
    "id": "UMOo7qOkO6Dt",
    "outputId": "18b90a7f-b331-4197-e838-353b6d6952e2"
   },
   "outputs": [],
   "source": [
    "sentence_df.info()"
   ]
  },
  {
   "cell_type": "code",
   "execution_count": null,
   "metadata": {
    "id": "cVQt_scgT_Oz"
   },
   "outputs": [],
   "source": []
  }
 ],
 "metadata": {
  "colab": {
   "name": "3_Clustering_audio_segments_for_speaker_identification.ipynb",
   "provenance": []
  },
  "kernelspec": {
   "display_name": "Python 3 (ipykernel)",
   "language": "python",
   "name": "python3"
  },
  "language_info": {
   "codemirror_mode": {
    "name": "ipython",
    "version": 3
   },
   "file_extension": ".py",
   "mimetype": "text/x-python",
   "name": "python",
   "nbconvert_exporter": "python",
   "pygments_lexer": "ipython3",
   "version": "3.9.7"
  }
 },
 "nbformat": 4,
 "nbformat_minor": 4
}
