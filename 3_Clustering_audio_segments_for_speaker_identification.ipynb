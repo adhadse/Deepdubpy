{
 "cells": [
  {
   "cell_type": "markdown",
   "metadata": {
    "id": "NPphlfgUP9Kt"
   },
   "source": [
    "# 3. Clustering audio segments for speaker identification\n",
    "In our 3<sup>rd</sup> step, the task is to cluster the generated `<hash>_vocals.wav` (generated in step 2). Since we have now removed `<hash>_accompaniments.wav` it won't act as noise, model can easily identify speaker's speech features.\n",
    "\n",
    "## Why clustering?\n",
    "Since subtitle don't tell \"Who is speaking?\", we need to know \"Who is speaking this sentence?\". Clustering will help us identify speakers for each particular (`sentence`, `<hash>_vocal`) pair. Knowing speaker will help in 4<sup>th</sup> step to generate TTS for that particular speaker.\n",
    "\n",
    "## Clustering on audio...never heard before?\n",
    "Clustering raw audio is hard and unreasonable due to its high dimensionability.\n",
    "\n",
    "What we can try is reduce dimensionality, by creating **Embeddings** or Vectors that represent the underlying speech input.\n",
    "\n",
    "We can use a pretrained model trained for a different task, such as for identifying if it is same speaker or not, and use transfer learning to that a trained model hidden layers and generate a vector as Embedding.\n",
    "\n",
    "We will then be able to perform Clustering on these generated Embeddings, assign unique ID to cluster identifying them as one particular speaker.\n"
   ]
  },
  {
   "cell_type": "code",
   "execution_count": 2,
   "metadata": {
    "id": "hRRjXt7HS2c3"
   },
   "outputs": [],
   "source": [
    "IN_COLAB = 'google.colab' in str(get_ipython())"
   ]
  },
  {
   "cell_type": "code",
   "execution_count": 3,
   "metadata": {
    "colab": {
     "base_uri": "https://localhost:8080/"
    },
    "id": "h5v0ColWaawv",
    "outputId": "1a99be81-6adb-4098-c8cd-e686f2282648"
   },
   "outputs": [
    {
     "name": "stdout",
     "output_type": "stream",
     "text": [
      "Mounted at /content/gdrive\n"
     ]
    }
   ],
   "source": [
    "if IN_COLAB:\n",
    "  from google.colab import drive\n",
    "\n",
    "  drive.mount('/content/gdrive')"
   ]
  },
  {
   "cell_type": "code",
   "execution_count": 4,
   "metadata": {
    "id": "Zf1Qv3ECcdLo"
   },
   "outputs": [],
   "source": [
    "# Don't run, might require in production env\n",
    "# !apt install ffmpeg"
   ]
  },
  {
   "cell_type": "code",
   "execution_count": null,
   "metadata": {
    "id": "aAVAlGCGbqmw"
   },
   "outputs": [],
   "source": [
    "!pip install --quiet spleeter\n",
    "!pip install --quiet pysrt"
   ]
  },
  {
   "cell_type": "code",
   "execution_count": null,
   "metadata": {
    "id": "Gs8YlrJRFhVF"
   },
   "outputs": [],
   "source": [
    "!pip uninstall --quiet tensorflow\n",
    "!pip install --upgrade --quiet  tensorflow"
   ]
  },
  {
   "cell_type": "code",
   "execution_count": null,
   "metadata": {
    "id": "rAc3tNiZ35lg"
   },
   "outputs": [],
   "source": [
    "!pip uninstall --quiet keras\n",
    "!pip install --upgrade --quiet keras"
   ]
  },
  {
   "cell_type": "code",
   "execution_count": 1,
   "metadata": {
    "id": "8xnan1H1bqQF"
   },
   "outputs": [],
   "source": [
    "from deepdub_sentence import DeepdubSentence\n",
    "from deepdub_audio import DeepdubAudio\n",
    "from IPython.display import Audio\n",
    "from IPython.display import display"
   ]
  },
  {
   "cell_type": "code",
   "execution_count": 2,
   "metadata": {
    "id": "CnXf5kRUa7LZ"
   },
   "outputs": [],
   "source": [
    "if IN_COLAB:\n",
    "  BASE_DIR = '/content/gdrive/MyDrive/Colab Project/Deepdub'\n",
    "else:\n",
    "  BASE_DIR = 'T:/pycharm_repo/Working_dir/Deepdub'\n",
    "DRAMA = '/tale_of_nine_tailed'\n",
    "\n",
    "OUTPUT_DIR = '/content/output_dir' + DRAMA\n",
    "AUDIO_OUTPUT_DIR = OUTPUT_DIR + '/audio_segments'\n",
    "SAMPLE_DIR = BASE_DIR + DRAMA\n",
    "SUBTITLE_DIR = SAMPLE_DIR + '/subtitles'\n",
    "EP = 1\n",
    "\n",
    "slice_from = \"10_33\"\n",
    "slice_to = \"11_00\""
   ]
  },
  {
   "cell_type": "code",
   "execution_count": 3,
   "metadata": {
    "id": "KNyIckwMcv04"
   },
   "outputs": [],
   "source": [
    "!mkdir -p $OUTPUT_DIR"
   ]
  },
  {
   "cell_type": "code",
   "execution_count": 4,
   "metadata": {
    "id": "aUn9htPSbfiC"
   },
   "outputs": [],
   "source": [
    "def to_sec(min_sec):\n",
    "  \"\"\"\n",
    "  Convert a string formatted as `min_sec` or 'h_min_sec' to int of total seconds.\n",
    "  \"\"\"\n",
    "  return int(\n",
    "    min_sec.split(\"_\")[-2])*60 + int(\n",
    "    min_sec.split(\"_\")[-1])"
   ]
  },
  {
   "cell_type": "code",
   "execution_count": null,
   "metadata": {
    "id": "HBtdjl7wbo71"
   },
   "outputs": [],
   "source": [
    "deep_s = DeepdubSentence(project_name=DRAMA,\n",
    "                         subtitle_path=SUBTITLE_DIR + f'/ep{EP}_eng.srt',\n",
    "                         slice_from=slice_from,\n",
    "                         slice_to=slice_to,\n",
    "                         shift={\"seconds\": 3})\n",
    "sentence_df = deep_s.get_sentences()\n",
    "\n",
    "deep_a = DeepdubAudio(project_name=DRAMA,\n",
    "                      sentence_df=sentence_df,\n",
    "                      audio_path=f'{OUTPUT_DIR}/clip{EP}.wav')\n",
    "deep_a.create_audio_segments()"
   ]
  },
  {
   "cell_type": "code",
   "execution_count": 22,
   "metadata": {
    "colab": {
     "base_uri": "https://localhost:8080/",
     "height": 363
    },
    "id": "P5isbA1L201C",
    "outputId": "4fdc5c15-1cad-44d4-9583-8f006d4174c0"
   },
   "outputs": [
    {
     "data": {
      "text/html": [
       "\n",
       "  <div id=\"df-cc17c357-dde9-44cf-a104-d5b65b8549b9\">\n",
       "    <div class=\"colab-df-container\">\n",
       "      <div>\n",
       "<style scoped>\n",
       "    .dataframe tbody tr th:only-of-type {\n",
       "        vertical-align: middle;\n",
       "    }\n",
       "\n",
       "    .dataframe tbody tr th {\n",
       "        vertical-align: top;\n",
       "    }\n",
       "\n",
       "    .dataframe thead th {\n",
       "        text-align: right;\n",
       "    }\n",
       "</style>\n",
       "<table border=\"1\" class=\"dataframe\">\n",
       "  <thead>\n",
       "    <tr style=\"text-align: right;\">\n",
       "      <th></th>\n",
       "      <th>start</th>\n",
       "      <th>end</th>\n",
       "      <th>hash</th>\n",
       "      <th>path</th>\n",
       "    </tr>\n",
       "  </thead>\n",
       "  <tbody>\n",
       "    <tr>\n",
       "      <th>0</th>\n",
       "      <td>1970-01-01 00:00:00.000</td>\n",
       "      <td>1900-01-01 00:00:17.373</td>\n",
       "      <td>18080109877677407453</td>\n",
       "      <td>18080109877677407453.wav</td>\n",
       "    </tr>\n",
       "    <tr>\n",
       "      <th>1</th>\n",
       "      <td>1900-01-01 00:00:17.373</td>\n",
       "      <td>1900-01-01 00:00:19.342</td>\n",
       "      <td>11991633108791627229</td>\n",
       "      <td>11991633108791627229_gen.wav</td>\n",
       "    </tr>\n",
       "    <tr>\n",
       "      <th>2</th>\n",
       "      <td>1900-01-01 00:00:19.342</td>\n",
       "      <td>1900-01-01 00:00:21.543</td>\n",
       "      <td>11763586976482689099</td>\n",
       "      <td>11763586976482689099_gen.wav</td>\n",
       "    </tr>\n",
       "    <tr>\n",
       "      <th>3</th>\n",
       "      <td>1900-01-01 00:00:21.543</td>\n",
       "      <td>1900-01-01 00:00:21.743</td>\n",
       "      <td>8592613452553988599</td>\n",
       "      <td>8592613452553988599.wav</td>\n",
       "    </tr>\n",
       "    <tr>\n",
       "      <th>4</th>\n",
       "      <td>1900-01-01 00:00:21.743</td>\n",
       "      <td>1900-01-01 00:00:23.712</td>\n",
       "      <td>15623740944573960892</td>\n",
       "      <td>15623740944573960892_gen.wav</td>\n",
       "    </tr>\n",
       "    <tr>\n",
       "      <th>5</th>\n",
       "      <td>1900-01-01 00:00:23.712</td>\n",
       "      <td>1900-01-01 00:00:24.383</td>\n",
       "      <td>969872868272006427</td>\n",
       "      <td>969872868272006427.wav</td>\n",
       "    </tr>\n",
       "    <tr>\n",
       "      <th>6</th>\n",
       "      <td>1900-01-01 00:00:24.383</td>\n",
       "      <td>1900-01-01 00:00:25.482</td>\n",
       "      <td>3767497895488922469</td>\n",
       "      <td>3767497895488922469_gen.wav</td>\n",
       "    </tr>\n",
       "    <tr>\n",
       "      <th>7</th>\n",
       "      <td>1900-01-01 00:00:25.482</td>\n",
       "      <td>1900-01-01 00:00:25.812</td>\n",
       "      <td>17176160047264815362</td>\n",
       "      <td>17176160047264815362.wav</td>\n",
       "    </tr>\n",
       "    <tr>\n",
       "      <th>8</th>\n",
       "      <td>1900-01-01 00:00:25.812</td>\n",
       "      <td>1900-01-01 00:00:27.653</td>\n",
       "      <td>2555627041485743295</td>\n",
       "      <td>2555627041485743295_gen.wav</td>\n",
       "    </tr>\n",
       "    <tr>\n",
       "      <th>9</th>\n",
       "      <td>1900-01-01 00:00:27.653</td>\n",
       "      <td>1900-01-01 00:00:29.930</td>\n",
       "      <td>17587883856843243571</td>\n",
       "      <td>17587883856843243571.wav</td>\n",
       "    </tr>\n",
       "  </tbody>\n",
       "</table>\n",
       "</div>\n",
       "      <button class=\"colab-df-convert\" onclick=\"convertToInteractive('df-cc17c357-dde9-44cf-a104-d5b65b8549b9')\"\n",
       "              title=\"Convert this dataframe to an interactive table.\"\n",
       "              style=\"display:none;\">\n",
       "        \n",
       "  <svg xmlns=\"http://www.w3.org/2000/svg\" height=\"24px\"viewBox=\"0 0 24 24\"\n",
       "       width=\"24px\">\n",
       "    <path d=\"M0 0h24v24H0V0z\" fill=\"none\"/>\n",
       "    <path d=\"M18.56 5.44l.94 2.06.94-2.06 2.06-.94-2.06-.94-.94-2.06-.94 2.06-2.06.94zm-11 1L8.5 8.5l.94-2.06 2.06-.94-2.06-.94L8.5 2.5l-.94 2.06-2.06.94zm10 10l.94 2.06.94-2.06 2.06-.94-2.06-.94-.94-2.06-.94 2.06-2.06.94z\"/><path d=\"M17.41 7.96l-1.37-1.37c-.4-.4-.92-.59-1.43-.59-.52 0-1.04.2-1.43.59L10.3 9.45l-7.72 7.72c-.78.78-.78 2.05 0 2.83L4 21.41c.39.39.9.59 1.41.59.51 0 1.02-.2 1.41-.59l7.78-7.78 2.81-2.81c.8-.78.8-2.07 0-2.86zM5.41 20L4 18.59l7.72-7.72 1.47 1.35L5.41 20z\"/>\n",
       "  </svg>\n",
       "      </button>\n",
       "      \n",
       "  <style>\n",
       "    .colab-df-container {\n",
       "      display:flex;\n",
       "      flex-wrap:wrap;\n",
       "      gap: 12px;\n",
       "    }\n",
       "\n",
       "    .colab-df-convert {\n",
       "      background-color: #E8F0FE;\n",
       "      border: none;\n",
       "      border-radius: 50%;\n",
       "      cursor: pointer;\n",
       "      display: none;\n",
       "      fill: #1967D2;\n",
       "      height: 32px;\n",
       "      padding: 0 0 0 0;\n",
       "      width: 32px;\n",
       "    }\n",
       "\n",
       "    .colab-df-convert:hover {\n",
       "      background-color: #E2EBFA;\n",
       "      box-shadow: 0px 1px 2px rgba(60, 64, 67, 0.3), 0px 1px 3px 1px rgba(60, 64, 67, 0.15);\n",
       "      fill: #174EA6;\n",
       "    }\n",
       "\n",
       "    [theme=dark] .colab-df-convert {\n",
       "      background-color: #3B4455;\n",
       "      fill: #D2E3FC;\n",
       "    }\n",
       "\n",
       "    [theme=dark] .colab-df-convert:hover {\n",
       "      background-color: #434B5C;\n",
       "      box-shadow: 0px 1px 3px 1px rgba(0, 0, 0, 0.15);\n",
       "      filter: drop-shadow(0px 1px 2px rgba(0, 0, 0, 0.3));\n",
       "      fill: #FFFFFF;\n",
       "    }\n",
       "  </style>\n",
       "\n",
       "      <script>\n",
       "        const buttonEl =\n",
       "          document.querySelector('#df-cc17c357-dde9-44cf-a104-d5b65b8549b9 button.colab-df-convert');\n",
       "        buttonEl.style.display =\n",
       "          google.colab.kernel.accessAllowed ? 'block' : 'none';\n",
       "\n",
       "        async function convertToInteractive(key) {\n",
       "          const element = document.querySelector('#df-cc17c357-dde9-44cf-a104-d5b65b8549b9');\n",
       "          const dataTable =\n",
       "            await google.colab.kernel.invokeFunction('convertToInteractive',\n",
       "                                                     [key], {});\n",
       "          if (!dataTable) return;\n",
       "\n",
       "          const docLinkHtml = 'Like what you see? Visit the ' +\n",
       "            '<a target=\"_blank\" href=https://colab.research.google.com/notebooks/data_table.ipynb>data table notebook</a>'\n",
       "            + ' to learn more about interactive tables.';\n",
       "          element.innerHTML = '';\n",
       "          dataTable['output_type'] = 'display_data';\n",
       "          await google.colab.output.renderOutput(dataTable, element);\n",
       "          const docLink = document.createElement('div');\n",
       "          docLink.innerHTML = docLinkHtml;\n",
       "          element.appendChild(docLink);\n",
       "        }\n",
       "      </script>\n",
       "    </div>\n",
       "  </div>\n",
       "  "
      ],
      "text/plain": [
       "                    start                     end                  hash  \\\n",
       "0 1970-01-01 00:00:00.000 1900-01-01 00:00:17.373  18080109877677407453   \n",
       "1 1900-01-01 00:00:17.373 1900-01-01 00:00:19.342  11991633108791627229   \n",
       "2 1900-01-01 00:00:19.342 1900-01-01 00:00:21.543  11763586976482689099   \n",
       "3 1900-01-01 00:00:21.543 1900-01-01 00:00:21.743   8592613452553988599   \n",
       "4 1900-01-01 00:00:21.743 1900-01-01 00:00:23.712  15623740944573960892   \n",
       "5 1900-01-01 00:00:23.712 1900-01-01 00:00:24.383    969872868272006427   \n",
       "6 1900-01-01 00:00:24.383 1900-01-01 00:00:25.482   3767497895488922469   \n",
       "7 1900-01-01 00:00:25.482 1900-01-01 00:00:25.812  17176160047264815362   \n",
       "8 1900-01-01 00:00:25.812 1900-01-01 00:00:27.653   2555627041485743295   \n",
       "9 1900-01-01 00:00:27.653 1900-01-01 00:00:29.930  17587883856843243571   \n",
       "\n",
       "                           path  \n",
       "0      18080109877677407453.wav  \n",
       "1  11991633108791627229_gen.wav  \n",
       "2  11763586976482689099_gen.wav  \n",
       "3       8592613452553988599.wav  \n",
       "4  15623740944573960892_gen.wav  \n",
       "5        969872868272006427.wav  \n",
       "6   3767497895488922469_gen.wav  \n",
       "7      17176160047264815362.wav  \n",
       "8   2555627041485743295_gen.wav  \n",
       "9      17587883856843243571.wav  "
      ]
     },
     "execution_count": 22,
     "metadata": {},
     "output_type": "execute_result"
    }
   ],
   "source": [
    "deep_a.audio_df"
   ]
  },
  {
   "cell_type": "code",
   "execution_count": null,
   "metadata": {
    "id": "uCRTLh-xfb2V"
   },
   "outputs": [],
   "source": [
    "deep_a.extract_vocal_and_accompaniments()"
   ]
  },
  {
   "cell_type": "code",
   "execution_count": 10,
   "metadata": {
    "colab": {
     "base_uri": "https://localhost:8080/"
    },
    "id": "07oIPchYHaxB",
    "outputId": "a5cfbb0d-f9a9-4a6f-bb8a-968eaae99339"
   },
   "outputs": [
    {
     "name": "stdout",
     "output_type": "stream",
     "text": [
      "Cloning into 'deep-speaker'...\n",
      "remote: Enumerating objects: 2013, done.\u001b[K\n",
      "remote: Counting objects: 100% (126/126), done.\u001b[K\n",
      "remote: Compressing objects: 100% (103/103), done.\u001b[K\n",
      "remote: Total 2013 (delta 56), reused 53 (delta 16), pack-reused 1887\u001b[K\n",
      "Receiving objects: 100% (2013/2013), 81.48 MiB | 33.36 MiB/s, done.\n",
      "Resolving deltas: 100% (1045/1045), done.\n"
     ]
    }
   ],
   "source": [
    "!git clone https://github.com/philipperemy/deep-speaker.git"
   ]
  },
  {
   "cell_type": "code",
   "execution_count": null,
   "metadata": {
    "id": "C0ofbKFoHwWw"
   },
   "outputs": [],
   "source": [
    "!pip install -r deep-speaker/requirements.txt"
   ]
  },
  {
   "cell_type": "code",
   "execution_count": 23,
   "metadata": {
    "colab": {
     "base_uri": "https://localhost:8080/",
     "height": 206
    },
    "id": "4mXoWC4S2KS2",
    "outputId": "7525d4f4-ec24-468f-b2a7-5b90e1cb1c95"
   },
   "outputs": [
    {
     "data": {
      "text/html": [
       "\n",
       "  <div id=\"df-35a8642b-20f7-401e-92c1-55908fbae9e1\">\n",
       "    <div class=\"colab-df-container\">\n",
       "      <div>\n",
       "<style scoped>\n",
       "    .dataframe tbody tr th:only-of-type {\n",
       "        vertical-align: middle;\n",
       "    }\n",
       "\n",
       "    .dataframe tbody tr th {\n",
       "        vertical-align: top;\n",
       "    }\n",
       "\n",
       "    .dataframe thead th {\n",
       "        text-align: right;\n",
       "    }\n",
       "</style>\n",
       "<table border=\"1\" class=\"dataframe\">\n",
       "  <thead>\n",
       "    <tr style=\"text-align: right;\">\n",
       "      <th></th>\n",
       "      <th>start</th>\n",
       "      <th>end</th>\n",
       "      <th>sentence</th>\n",
       "      <th>hash</th>\n",
       "    </tr>\n",
       "  </thead>\n",
       "  <tbody>\n",
       "    <tr>\n",
       "      <th>0</th>\n",
       "      <td>1900-01-01 00:00:17.373</td>\n",
       "      <td>1900-01-01 00:00:19.342</td>\n",
       "      <td>Why is it raining? I didn't see this on the we...</td>\n",
       "      <td>11991633108791627229</td>\n",
       "    </tr>\n",
       "    <tr>\n",
       "      <th>1</th>\n",
       "      <td>1900-01-01 00:00:19.342</td>\n",
       "      <td>1900-01-01 00:00:21.543</td>\n",
       "      <td>Gosh, I know. I got my hair done today.</td>\n",
       "      <td>11763586976482689099</td>\n",
       "    </tr>\n",
       "    <tr>\n",
       "      <th>2</th>\n",
       "      <td>1900-01-01 00:00:21.743</td>\n",
       "      <td>1900-01-01 00:00:23.712</td>\n",
       "      <td>- It's all wet. - My goodness, you're right.</td>\n",
       "      <td>15623740944573960892</td>\n",
       "    </tr>\n",
       "    <tr>\n",
       "      <th>3</th>\n",
       "      <td>1900-01-01 00:00:24.383</td>\n",
       "      <td>1900-01-01 00:00:25.482</td>\n",
       "      <td>Your hair is all wet.</td>\n",
       "      <td>3767497895488922469</td>\n",
       "    </tr>\n",
       "    <tr>\n",
       "      <th>4</th>\n",
       "      <td>1900-01-01 00:00:25.812</td>\n",
       "      <td>1900-01-01 00:00:27.653</td>\n",
       "      <td>That's because a fox is getting married today.</td>\n",
       "      <td>2555627041485743295</td>\n",
       "    </tr>\n",
       "  </tbody>\n",
       "</table>\n",
       "</div>\n",
       "      <button class=\"colab-df-convert\" onclick=\"convertToInteractive('df-35a8642b-20f7-401e-92c1-55908fbae9e1')\"\n",
       "              title=\"Convert this dataframe to an interactive table.\"\n",
       "              style=\"display:none;\">\n",
       "        \n",
       "  <svg xmlns=\"http://www.w3.org/2000/svg\" height=\"24px\"viewBox=\"0 0 24 24\"\n",
       "       width=\"24px\">\n",
       "    <path d=\"M0 0h24v24H0V0z\" fill=\"none\"/>\n",
       "    <path d=\"M18.56 5.44l.94 2.06.94-2.06 2.06-.94-2.06-.94-.94-2.06-.94 2.06-2.06.94zm-11 1L8.5 8.5l.94-2.06 2.06-.94-2.06-.94L8.5 2.5l-.94 2.06-2.06.94zm10 10l.94 2.06.94-2.06 2.06-.94-2.06-.94-.94-2.06-.94 2.06-2.06.94z\"/><path d=\"M17.41 7.96l-1.37-1.37c-.4-.4-.92-.59-1.43-.59-.52 0-1.04.2-1.43.59L10.3 9.45l-7.72 7.72c-.78.78-.78 2.05 0 2.83L4 21.41c.39.39.9.59 1.41.59.51 0 1.02-.2 1.41-.59l7.78-7.78 2.81-2.81c.8-.78.8-2.07 0-2.86zM5.41 20L4 18.59l7.72-7.72 1.47 1.35L5.41 20z\"/>\n",
       "  </svg>\n",
       "      </button>\n",
       "      \n",
       "  <style>\n",
       "    .colab-df-container {\n",
       "      display:flex;\n",
       "      flex-wrap:wrap;\n",
       "      gap: 12px;\n",
       "    }\n",
       "\n",
       "    .colab-df-convert {\n",
       "      background-color: #E8F0FE;\n",
       "      border: none;\n",
       "      border-radius: 50%;\n",
       "      cursor: pointer;\n",
       "      display: none;\n",
       "      fill: #1967D2;\n",
       "      height: 32px;\n",
       "      padding: 0 0 0 0;\n",
       "      width: 32px;\n",
       "    }\n",
       "\n",
       "    .colab-df-convert:hover {\n",
       "      background-color: #E2EBFA;\n",
       "      box-shadow: 0px 1px 2px rgba(60, 64, 67, 0.3), 0px 1px 3px 1px rgba(60, 64, 67, 0.15);\n",
       "      fill: #174EA6;\n",
       "    }\n",
       "\n",
       "    [theme=dark] .colab-df-convert {\n",
       "      background-color: #3B4455;\n",
       "      fill: #D2E3FC;\n",
       "    }\n",
       "\n",
       "    [theme=dark] .colab-df-convert:hover {\n",
       "      background-color: #434B5C;\n",
       "      box-shadow: 0px 1px 3px 1px rgba(0, 0, 0, 0.15);\n",
       "      filter: drop-shadow(0px 1px 2px rgba(0, 0, 0, 0.3));\n",
       "      fill: #FFFFFF;\n",
       "    }\n",
       "  </style>\n",
       "\n",
       "      <script>\n",
       "        const buttonEl =\n",
       "          document.querySelector('#df-35a8642b-20f7-401e-92c1-55908fbae9e1 button.colab-df-convert');\n",
       "        buttonEl.style.display =\n",
       "          google.colab.kernel.accessAllowed ? 'block' : 'none';\n",
       "\n",
       "        async function convertToInteractive(key) {\n",
       "          const element = document.querySelector('#df-35a8642b-20f7-401e-92c1-55908fbae9e1');\n",
       "          const dataTable =\n",
       "            await google.colab.kernel.invokeFunction('convertToInteractive',\n",
       "                                                     [key], {});\n",
       "          if (!dataTable) return;\n",
       "\n",
       "          const docLinkHtml = 'Like what you see? Visit the ' +\n",
       "            '<a target=\"_blank\" href=https://colab.research.google.com/notebooks/data_table.ipynb>data table notebook</a>'\n",
       "            + ' to learn more about interactive tables.';\n",
       "          element.innerHTML = '';\n",
       "          dataTable['output_type'] = 'display_data';\n",
       "          await google.colab.output.renderOutput(dataTable, element);\n",
       "          const docLink = document.createElement('div');\n",
       "          docLink.innerHTML = docLinkHtml;\n",
       "          element.appendChild(docLink);\n",
       "        }\n",
       "      </script>\n",
       "    </div>\n",
       "  </div>\n",
       "  "
      ],
      "text/plain": [
       "                    start                     end  \\\n",
       "0 1900-01-01 00:00:17.373 1900-01-01 00:00:19.342   \n",
       "1 1900-01-01 00:00:19.342 1900-01-01 00:00:21.543   \n",
       "2 1900-01-01 00:00:21.743 1900-01-01 00:00:23.712   \n",
       "3 1900-01-01 00:00:24.383 1900-01-01 00:00:25.482   \n",
       "4 1900-01-01 00:00:25.812 1900-01-01 00:00:27.653   \n",
       "\n",
       "                                            sentence                  hash  \n",
       "0  Why is it raining? I didn't see this on the we...  11991633108791627229  \n",
       "1            Gosh, I know. I got my hair done today.  11763586976482689099  \n",
       "2       - It's all wet. - My goodness, you're right.  15623740944573960892  \n",
       "3                              Your hair is all wet.   3767497895488922469  \n",
       "4     That's because a fox is getting married today.   2555627041485743295  "
      ]
     },
     "execution_count": 23,
     "metadata": {},
     "output_type": "execute_result"
    }
   ],
   "source": [
    "sentence_df"
   ]
  },
  {
   "cell_type": "code",
   "execution_count": 39,
   "metadata": {
    "colab": {
     "base_uri": "https://localhost:8080/",
     "height": 337
    },
    "id": "rxDKmbFbH5GA",
    "outputId": "cc07778a-edff-4076-b72f-128941f078c4"
   },
   "outputs": [
    {
     "data": {
      "text/html": [
       "\n",
       "  <div id=\"df-091ac534-7b83-4a70-ba52-7c9a5bd34a41\">\n",
       "    <div class=\"colab-df-container\">\n",
       "      <div>\n",
       "<style scoped>\n",
       "    .dataframe tbody tr th:only-of-type {\n",
       "        vertical-align: middle;\n",
       "    }\n",
       "\n",
       "    .dataframe tbody tr th {\n",
       "        vertical-align: top;\n",
       "    }\n",
       "\n",
       "    .dataframe thead th {\n",
       "        text-align: right;\n",
       "    }\n",
       "</style>\n",
       "<table border=\"1\" class=\"dataframe\">\n",
       "  <thead>\n",
       "    <tr style=\"text-align: right;\">\n",
       "      <th></th>\n",
       "      <th>start</th>\n",
       "      <th>end</th>\n",
       "      <th>sentence</th>\n",
       "      <th>hash</th>\n",
       "      <th>embedding</th>\n",
       "    </tr>\n",
       "  </thead>\n",
       "  <tbody>\n",
       "    <tr>\n",
       "      <th>0</th>\n",
       "      <td>1900-01-01 00:00:17.373</td>\n",
       "      <td>1900-01-01 00:00:19.342</td>\n",
       "      <td>Why is it raining? I didn't see this on the we...</td>\n",
       "      <td>11991633108791627229</td>\n",
       "      <td>[[0.02423666, 0.0517018, -0.019481579, -0.0341...</td>\n",
       "    </tr>\n",
       "    <tr>\n",
       "      <th>1</th>\n",
       "      <td>1900-01-01 00:00:19.342</td>\n",
       "      <td>1900-01-01 00:00:21.543</td>\n",
       "      <td>Gosh, I know. I got my hair done today.</td>\n",
       "      <td>11763586976482689099</td>\n",
       "      <td>[[-0.009933681, 0.015490538, -0.068989284, -0....</td>\n",
       "    </tr>\n",
       "    <tr>\n",
       "      <th>2</th>\n",
       "      <td>1900-01-01 00:00:21.743</td>\n",
       "      <td>1900-01-01 00:00:23.712</td>\n",
       "      <td>- It's all wet. - My goodness, you're right.</td>\n",
       "      <td>15623740944573960892</td>\n",
       "      <td>[[-0.038355503, 0.044439755, -0.054912217, 0.0...</td>\n",
       "    </tr>\n",
       "    <tr>\n",
       "      <th>3</th>\n",
       "      <td>1900-01-01 00:00:24.383</td>\n",
       "      <td>1900-01-01 00:00:25.482</td>\n",
       "      <td>Your hair is all wet.</td>\n",
       "      <td>3767497895488922469</td>\n",
       "      <td>[[0.0077500623, 0.007316327, -0.041265305, 0.0...</td>\n",
       "    </tr>\n",
       "    <tr>\n",
       "      <th>4</th>\n",
       "      <td>1900-01-01 00:00:25.812</td>\n",
       "      <td>1900-01-01 00:00:27.653</td>\n",
       "      <td>That's because a fox is getting married today.</td>\n",
       "      <td>2555627041485743295</td>\n",
       "      <td>[[-0.08984594, 0.018060947, -0.03895664, 0.028...</td>\n",
       "    </tr>\n",
       "  </tbody>\n",
       "</table>\n",
       "</div>\n",
       "      <button class=\"colab-df-convert\" onclick=\"convertToInteractive('df-091ac534-7b83-4a70-ba52-7c9a5bd34a41')\"\n",
       "              title=\"Convert this dataframe to an interactive table.\"\n",
       "              style=\"display:none;\">\n",
       "        \n",
       "  <svg xmlns=\"http://www.w3.org/2000/svg\" height=\"24px\"viewBox=\"0 0 24 24\"\n",
       "       width=\"24px\">\n",
       "    <path d=\"M0 0h24v24H0V0z\" fill=\"none\"/>\n",
       "    <path d=\"M18.56 5.44l.94 2.06.94-2.06 2.06-.94-2.06-.94-.94-2.06-.94 2.06-2.06.94zm-11 1L8.5 8.5l.94-2.06 2.06-.94-2.06-.94L8.5 2.5l-.94 2.06-2.06.94zm10 10l.94 2.06.94-2.06 2.06-.94-2.06-.94-.94-2.06-.94 2.06-2.06.94z\"/><path d=\"M17.41 7.96l-1.37-1.37c-.4-.4-.92-.59-1.43-.59-.52 0-1.04.2-1.43.59L10.3 9.45l-7.72 7.72c-.78.78-.78 2.05 0 2.83L4 21.41c.39.39.9.59 1.41.59.51 0 1.02-.2 1.41-.59l7.78-7.78 2.81-2.81c.8-.78.8-2.07 0-2.86zM5.41 20L4 18.59l7.72-7.72 1.47 1.35L5.41 20z\"/>\n",
       "  </svg>\n",
       "      </button>\n",
       "      \n",
       "  <style>\n",
       "    .colab-df-container {\n",
       "      display:flex;\n",
       "      flex-wrap:wrap;\n",
       "      gap: 12px;\n",
       "    }\n",
       "\n",
       "    .colab-df-convert {\n",
       "      background-color: #E8F0FE;\n",
       "      border: none;\n",
       "      border-radius: 50%;\n",
       "      cursor: pointer;\n",
       "      display: none;\n",
       "      fill: #1967D2;\n",
       "      height: 32px;\n",
       "      padding: 0 0 0 0;\n",
       "      width: 32px;\n",
       "    }\n",
       "\n",
       "    .colab-df-convert:hover {\n",
       "      background-color: #E2EBFA;\n",
       "      box-shadow: 0px 1px 2px rgba(60, 64, 67, 0.3), 0px 1px 3px 1px rgba(60, 64, 67, 0.15);\n",
       "      fill: #174EA6;\n",
       "    }\n",
       "\n",
       "    [theme=dark] .colab-df-convert {\n",
       "      background-color: #3B4455;\n",
       "      fill: #D2E3FC;\n",
       "    }\n",
       "\n",
       "    [theme=dark] .colab-df-convert:hover {\n",
       "      background-color: #434B5C;\n",
       "      box-shadow: 0px 1px 3px 1px rgba(0, 0, 0, 0.15);\n",
       "      filter: drop-shadow(0px 1px 2px rgba(0, 0, 0, 0.3));\n",
       "      fill: #FFFFFF;\n",
       "    }\n",
       "  </style>\n",
       "\n",
       "      <script>\n",
       "        const buttonEl =\n",
       "          document.querySelector('#df-091ac534-7b83-4a70-ba52-7c9a5bd34a41 button.colab-df-convert');\n",
       "        buttonEl.style.display =\n",
       "          google.colab.kernel.accessAllowed ? 'block' : 'none';\n",
       "\n",
       "        async function convertToInteractive(key) {\n",
       "          const element = document.querySelector('#df-091ac534-7b83-4a70-ba52-7c9a5bd34a41');\n",
       "          const dataTable =\n",
       "            await google.colab.kernel.invokeFunction('convertToInteractive',\n",
       "                                                     [key], {});\n",
       "          if (!dataTable) return;\n",
       "\n",
       "          const docLinkHtml = 'Like what you see? Visit the ' +\n",
       "            '<a target=\"_blank\" href=https://colab.research.google.com/notebooks/data_table.ipynb>data table notebook</a>'\n",
       "            + ' to learn more about interactive tables.';\n",
       "          element.innerHTML = '';\n",
       "          dataTable['output_type'] = 'display_data';\n",
       "          await google.colab.output.renderOutput(dataTable, element);\n",
       "          const docLink = document.createElement('div');\n",
       "          docLink.innerHTML = docLinkHtml;\n",
       "          element.appendChild(docLink);\n",
       "        }\n",
       "      </script>\n",
       "    </div>\n",
       "  </div>\n",
       "  "
      ],
      "text/plain": [
       "                    start                     end  \\\n",
       "0 1900-01-01 00:00:17.373 1900-01-01 00:00:19.342   \n",
       "1 1900-01-01 00:00:19.342 1900-01-01 00:00:21.543   \n",
       "2 1900-01-01 00:00:21.743 1900-01-01 00:00:23.712   \n",
       "3 1900-01-01 00:00:24.383 1900-01-01 00:00:25.482   \n",
       "4 1900-01-01 00:00:25.812 1900-01-01 00:00:27.653   \n",
       "\n",
       "                                            sentence                  hash  \\\n",
       "0  Why is it raining? I didn't see this on the we...  11991633108791627229   \n",
       "1            Gosh, I know. I got my hair done today.  11763586976482689099   \n",
       "2       - It's all wet. - My goodness, you're right.  15623740944573960892   \n",
       "3                              Your hair is all wet.   3767497895488922469   \n",
       "4     That's because a fox is getting married today.   2555627041485743295   \n",
       "\n",
       "                                           embedding  \n",
       "0  [[0.02423666, 0.0517018, -0.019481579, -0.0341...  \n",
       "1  [[-0.009933681, 0.015490538, -0.068989284, -0....  \n",
       "2  [[-0.038355503, 0.044439755, -0.054912217, 0.0...  \n",
       "3  [[0.0077500623, 0.007316327, -0.041265305, 0.0...  \n",
       "4  [[-0.08984594, 0.018060947, -0.03895664, 0.028...  "
      ]
     },
     "execution_count": 39,
     "metadata": {},
     "output_type": "execute_result"
    }
   ],
   "source": [
    "import random\n",
    "\n",
    "import numpy as np\n",
    "\n",
    "from deep_speaker.audio import read_mfcc\n",
    "from deep_speaker.batcher import sample_from_mfcc\n",
    "from deep_speaker.constants import SAMPLE_RATE, NUM_FRAMES\n",
    "from deep_speaker.conv_models import DeepSpeakerModel\n",
    "from deep_speaker.test import batch_cosine_similarity\n",
    "\n",
    "np.random.seed(123)\n",
    "random.seed(123)\n",
    "\n",
    "model = DeepSpeakerModel()\n",
    "model.m.load_weights('/content/pretrained_models/ResCNN_triplet_training_checkpoint_265.h5', by_name=True)\n",
    "\n",
    "def get_embedding(h):\n",
    "  mfcc = sample_from_mfcc(read_mfcc(f'{AUDIO_OUTPUT_DIR}/{h}_vocals.wav', SAMPLE_RATE), NUM_FRAMES)\n",
    "  # Call the model to get the embeddings of shape (1, 512) for each file.\n",
    "  embedding = model.m.predict(np.expand_dims(mfcc, axis=0))\n",
    "  return embedding\n",
    "\n",
    "sentence_df[[\"embedding\"]] = sentence_df[[\"hash\"]].applymap(get_embedding)\n",
    "sentence_df"
   ]
  },
  {
   "cell_type": "code",
   "execution_count": 42,
   "metadata": {
    "colab": {
     "base_uri": "https://localhost:8080/"
    },
    "id": "UMOo7qOkO6Dt",
    "outputId": "18b90a7f-b331-4197-e838-353b6d6952e2"
   },
   "outputs": [
    {
     "name": "stdout",
     "output_type": "stream",
     "text": [
      "<class 'pandas.core.frame.DataFrame'>\n",
      "RangeIndex: 5 entries, 0 to 4\n",
      "Data columns (total 5 columns):\n",
      " #   Column     Non-Null Count  Dtype         \n",
      "---  ------     --------------  -----         \n",
      " 0   start      5 non-null      datetime64[ns]\n",
      " 1   end        5 non-null      datetime64[ns]\n",
      " 2   sentence   5 non-null      object        \n",
      " 3   hash       5 non-null      uint64        \n",
      " 4   embedding  5 non-null      object        \n",
      "dtypes: datetime64[ns](2), object(2), uint64(1)\n",
      "memory usage: 328.0+ bytes\n"
     ]
    }
   ],
   "source": [
    "sentence_df.info()"
   ]
  },
  {
   "cell_type": "code",
   "execution_count": null,
   "metadata": {
    "id": "cVQt_scgT_Oz"
   },
   "outputs": [],
   "source": []
  },
  {
   "cell_type": "code",
   "execution_count": null,
   "metadata": {
    "id": "tXjCCAluT_CK"
   },
   "outputs": [],
   "source": []
  },
  {
   "cell_type": "code",
   "execution_count": null,
   "metadata": {
    "id": "I01lly84T-3G"
   },
   "outputs": [],
   "source": []
  },
  {
   "cell_type": "code",
   "execution_count": null,
   "metadata": {
    "id": "kNHeX9CTT-pf"
   },
   "outputs": [],
   "source": []
  },
  {
   "cell_type": "code",
   "execution_count": null,
   "metadata": {
    "id": "w6H2fcSXIN80"
   },
   "outputs": [],
   "source": [
    "!zip -r /content/deep_speaker.zip /content/deep_speaker"
   ]
  },
  {
   "cell_type": "code",
   "execution_count": 29,
   "metadata": {
    "colab": {
     "base_uri": "https://localhost:8080/",
     "height": 35
    },
    "id": "ZQ-Kmfn5O06e",
    "outputId": "9713eda2-3dc9-4274-bae6-9d5dfd1b65ed"
   },
   "outputs": [
    {
     "data": {
      "application/javascript": [
       "\n",
       "    async function download(id, filename, size) {\n",
       "      if (!google.colab.kernel.accessAllowed) {\n",
       "        return;\n",
       "      }\n",
       "      const div = document.createElement('div');\n",
       "      const label = document.createElement('label');\n",
       "      label.textContent = `Downloading \"${filename}\": `;\n",
       "      div.appendChild(label);\n",
       "      const progress = document.createElement('progress');\n",
       "      progress.max = size;\n",
       "      div.appendChild(progress);\n",
       "      document.body.appendChild(div);\n",
       "\n",
       "      const buffers = [];\n",
       "      let downloaded = 0;\n",
       "\n",
       "      const channel = await google.colab.kernel.comms.open(id);\n",
       "      // Send a message to notify the kernel that we're ready.\n",
       "      channel.send({})\n",
       "\n",
       "      for await (const message of channel.messages) {\n",
       "        // Send a message to notify the kernel that we're ready.\n",
       "        channel.send({})\n",
       "        if (message.buffers) {\n",
       "          for (const buffer of message.buffers) {\n",
       "            buffers.push(buffer);\n",
       "            downloaded += buffer.byteLength;\n",
       "            progress.value = downloaded;\n",
       "          }\n",
       "        }\n",
       "      }\n",
       "      const blob = new Blob(buffers, {type: 'application/binary'});\n",
       "      const a = document.createElement('a');\n",
       "      a.href = window.URL.createObjectURL(blob);\n",
       "      a.download = filename;\n",
       "      div.appendChild(a);\n",
       "      a.click();\n",
       "      div.remove();\n",
       "    }\n",
       "  "
      ],
      "text/plain": [
       "<IPython.core.display.Javascript object>"
      ]
     },
     "metadata": {},
     "output_type": "display_data"
    },
    {
     "data": {
      "application/javascript": [
       "download(\"download_fd4f08e9-0401-4a74-9491-343beb5178c7\", \"deep_speaker.zip\", 87572768)"
      ],
      "text/plain": [
       "<IPython.core.display.Javascript object>"
      ]
     },
     "metadata": {},
     "output_type": "display_data"
    }
   ],
   "source": [
    "from google.colab import files\n",
    "files.download(\"/content/deep_speaker.zip\")"
   ]
  }
 ],
 "metadata": {
  "colab": {
   "name": "3_Clustering_audio_segments_for_speaker_identification.ipynb",
   "provenance": []
  },
  "kernelspec": {
   "display_name": "Python 3 (ipykernel)",
   "language": "python",
   "name": "python3"
  },
  "language_info": {
   "codemirror_mode": {
    "name": "ipython",
    "version": 3
   },
   "file_extension": ".py",
   "mimetype": "text/x-python",
   "name": "python",
   "nbconvert_exporter": "python",
   "pygments_lexer": "ipython3",
   "version": "3.9.7"
  }
 },
 "nbformat": 4,
 "nbformat_minor": 4
}
