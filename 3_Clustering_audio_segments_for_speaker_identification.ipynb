{
 "cells": [
  {
   "cell_type": "markdown",
   "metadata": {
    "id": "NPphlfgUP9Kt"
   },
   "source": [
    "# 3. Clustering audio segments for speaker identification\n",
    "In our 3<sup>rd</sup> step, the task is to cluster the generated `<hash>_vocals.wav` (generated in step 2). Since we have now removed `<hash>_accompaniments.wav` it won't act as noise, model can easily identify speaker's speech features.\n",
    "\n",
    "## Why clustering?\n",
    "Since subtitle don't tell \"Who is speaking?\", we need to know \"Who is speaking this sentence?\". Clustering will help us identify speakers for each particular (`sentence`, `<hash>_vocal`) pair. Knowing speaker will help in 4<sup>th</sup> step to generate TTS for that particular speaker.\n",
    "\n",
    "## Clustering on audio...never heard before?\n",
    "Clustering raw audio is hard and unreasonable due to its high dimensionability.\n",
    "\n",
    "What we can try is reduce dimensionality, by creating **Embeddings** or Vectors that represent the underlying speech input.\n",
    "\n",
    "We can use a pretrained model trained for a different task, such as for identifying if it is same speaker or not, and use transfer learning to that a trained model hidden layers and generate a vector as Embedding.\n",
    "\n",
    "We will then be able to perform Clustering on these generated Embeddings, assign unique ID to cluster identifying them as one particular speaker.\n"
   ]
  },
  {
   "cell_type": "code",
   "execution_count": 4,
   "metadata": {
    "id": "Zf1Qv3ECcdLo"
   },
   "outputs": [],
   "source": [
    "# Don't run, might require in production env\n",
    "# !apt install ffmpeg"
   ]
  },
  {
   "cell_type": "code",
   "execution_count": null,
   "metadata": {
    "id": "aAVAlGCGbqmw"
   },
   "outputs": [],
   "source": [
    "!pip install --quiet spleeter\n",
    "!pip install --quiet pysrt"
   ]
  },
  {
   "cell_type": "code",
   "execution_count": null,
   "metadata": {
    "id": "Gs8YlrJRFhVF"
   },
   "outputs": [],
   "source": [
    "!pip uninstall --quiet tensorflow\n",
    "!pip install --upgrade --quiet  tensorflow"
   ]
  },
  {
   "cell_type": "code",
   "execution_count": null,
   "metadata": {
    "id": "rAc3tNiZ35lg"
   },
   "outputs": [],
   "source": [
    "!pip uninstall --quiet keras\n",
    "!pip install --upgrade --quiet keras"
   ]
  },
  {
   "cell_type": "code",
   "execution_count": 1,
   "metadata": {
    "id": "8xnan1H1bqQF"
   },
   "outputs": [],
   "source": [
    "from deepdub_sentence import DeepdubSentence\n",
    "from deepdub_audio import DeepdubAudio\n",
    "from IPython.display import Audio\n",
    "from IPython.display import display"
   ]
  },
  {
   "cell_type": "code",
   "execution_count": 2,
   "metadata": {
    "colab": {
     "base_uri": "https://localhost:8080/"
    },
    "id": "h5v0ColWaawv",
    "outputId": "1a99be81-6adb-4098-c8cd-e686f2282648"
   },
   "outputs": [],
   "source": [
    "IN_COLAB = 'google.colab' in str(get_ipython())\n",
    "\n",
    "if IN_COLAB:\n",
    "  from google.colab import drive\n",
    "\n",
    "  drive.mount('/content/gdrive')"
   ]
  },
  {
   "cell_type": "code",
   "execution_count": 6,
   "metadata": {
    "id": "CnXf5kRUa7LZ"
   },
   "outputs": [],
   "source": [
    "DRAMA = 'hotel_del_luna'\n",
    "EP = 6\n",
    "\n",
    "if IN_COLAB:\n",
    "  BASE_DIR = '/content/gdrive/MyDrive/Colab Project/Deepdub'\n",
    "  OUTPUT_DIR = f'/content/gdrive/MyDrive/Colab Project/Deepdub/output_dir/{DRAMA}_{EP}'\n",
    "  MODEL_PATH = '/content/gdrive/MyDrive/Colab Project/Deepdub/ResCNN_triplet_training_checkpoint_265.h5'\n",
    "else:\n",
    "  BASE_DIR = 'T:/pycharm_repo/Working_dir/Deepdub'\n",
    "  OUTPUT_DIR = f'./output_dir/{DRAMA}_{EP}'\n",
    "  MODEL_PATH = './pretrained_models/ResCNN_triplet_training_checkpoint_265.h5'\n",
    "\n",
    "AUDIO_OUTPUT_DIR = f'{OUTPUT_DIR}/audio_segments'\n",
    "SAMPLE_DIR = f'{BASE_DIR}/{DRAMA}'\n",
    "SUBTITLE_DIR = f'{SAMPLE_DIR}/subtitles'\n",
    "\n",
    "slice_from = \"06_26\"\n",
    "slice_to = \"8_50\""
   ]
  },
  {
   "cell_type": "code",
   "execution_count": 4,
   "metadata": {
    "id": "KNyIckwMcv04"
   },
   "outputs": [
    {
     "name": "stderr",
     "output_type": "stream",
     "text": [
      "The syntax of the command is incorrect.\n"
     ]
    }
   ],
   "source": [
    "!mkdir -p $OUTPUT_DIR"
   ]
  },
  {
   "cell_type": "code",
   "execution_count": 7,
   "metadata": {
    "id": "aUn9htPSbfiC"
   },
   "outputs": [],
   "source": [
    "def to_sec(min_sec):\n",
    "  \"\"\"\n",
    "  Convert a string formatted as `min_sec` or 'h_min_sec' to int of total seconds.\n",
    "  \"\"\"\n",
    "  return int(\n",
    "    min_sec.split(\"_\")[-2])*60 + int(\n",
    "    min_sec.split(\"_\")[-1])"
   ]
  },
  {
   "cell_type": "code",
   "execution_count": 8,
   "metadata": {
    "id": "HBtdjl7wbo71"
   },
   "outputs": [
    {
     "name": "stdout",
     "output_type": "stream",
     "text": [
      "Moviepy - Running:\n",
      ">>> \"+ \" \".join(cmd)\n",
      "Moviepy - Command successful\n",
      "Moviepy - Running:\n",
      ">>> \"+ \" \".join(cmd)\n",
      "Moviepy - Command successful\n",
      "Moviepy - Running:\n",
      ">>> \"+ \" \".join(cmd)\n",
      "Moviepy - Command successful\n",
      "Moviepy - Running:\n",
      ">>> \"+ \" \".join(cmd)\n",
      "Moviepy - Command successful\n",
      "Moviepy - Running:\n",
      ">>> \"+ \" \".join(cmd)\n",
      "Moviepy - Command successful\n",
      "Moviepy - Running:\n",
      ">>> \"+ \" \".join(cmd)\n",
      "Moviepy - Command successful\n",
      "Moviepy - Running:\n",
      ">>> \"+ \" \".join(cmd)\n",
      "Moviepy - Command successful\n",
      "Moviepy - Running:\n",
      ">>> \"+ \" \".join(cmd)\n",
      "Moviepy - Command successful\n",
      "Moviepy - Running:\n",
      ">>> \"+ \" \".join(cmd)\n",
      "Moviepy - Command successful\n",
      "Moviepy - Running:\n",
      ">>> \"+ \" \".join(cmd)\n",
      "Moviepy - Command successful\n",
      "Moviepy - Running:\n",
      ">>> \"+ \" \".join(cmd)\n",
      "Moviepy - Command successful\n",
      "Moviepy - Running:\n",
      ">>> \"+ \" \".join(cmd)\n",
      "Moviepy - Command successful\n",
      "Moviepy - Running:\n",
      ">>> \"+ \" \".join(cmd)\n",
      "Moviepy - Command successful\n",
      "Moviepy - Running:\n",
      ">>> \"+ \" \".join(cmd)\n",
      "Moviepy - Command successful\n",
      "Moviepy - Running:\n",
      ">>> \"+ \" \".join(cmd)\n",
      "Moviepy - Command successful\n",
      "Moviepy - Running:\n",
      ">>> \"+ \" \".join(cmd)\n",
      "Moviepy - Command successful\n",
      "Moviepy - Running:\n",
      ">>> \"+ \" \".join(cmd)\n",
      "Moviepy - Command successful\n",
      "Moviepy - Running:\n",
      ">>> \"+ \" \".join(cmd)\n",
      "Moviepy - Command successful\n",
      "Moviepy - Running:\n",
      ">>> \"+ \" \".join(cmd)\n",
      "Moviepy - Command successful\n",
      "Moviepy - Running:\n",
      ">>> \"+ \" \".join(cmd)\n",
      "Moviepy - Command successful\n",
      "Moviepy - Running:\n",
      ">>> \"+ \" \".join(cmd)\n",
      "Moviepy - Command successful\n",
      "Moviepy - Running:\n",
      ">>> \"+ \" \".join(cmd)\n",
      "Moviepy - Command successful\n",
      "Moviepy - Running:\n",
      ">>> \"+ \" \".join(cmd)\n",
      "Moviepy - Command successful\n",
      "Moviepy - Running:\n",
      ">>> \"+ \" \".join(cmd)\n",
      "Moviepy - Command successful\n",
      "Moviepy - Running:\n",
      ">>> \"+ \" \".join(cmd)\n",
      "Moviepy - Command successful\n",
      "Moviepy - Running:\n",
      ">>> \"+ \" \".join(cmd)\n",
      "Moviepy - Command successful\n",
      "Moviepy - Running:\n",
      ">>> \"+ \" \".join(cmd)\n",
      "Moviepy - Command successful\n",
      "Moviepy - Running:\n",
      ">>> \"+ \" \".join(cmd)\n",
      "Moviepy - Command successful\n",
      "Moviepy - Running:\n",
      ">>> \"+ \" \".join(cmd)\n",
      "Moviepy - Command successful\n",
      "Moviepy - Running:\n",
      ">>> \"+ \" \".join(cmd)\n",
      "Moviepy - Command successful\n",
      "Moviepy - Running:\n",
      ">>> \"+ \" \".join(cmd)\n",
      "Moviepy - Command successful\n",
      "Moviepy - Running:\n",
      ">>> \"+ \" \".join(cmd)\n",
      "Moviepy - Command returned an error\n"
     ]
    },
    {
     "ename": "OSError",
     "evalue": "ffmpeg version 4.2.2 Copyright (c) 2000-2019 the FFmpeg developers\r\n  built with gcc 9.2.1 (GCC) 20200122\r\n  configuration: --enable-gpl --enable-version3 --enable-sdl2 --enable-fontconfig --enable-gnutls --enable-iconv --enable-libass --enable-libdav1d --enable-libbluray --enable-libfreetype --enable-libmp3lame --enable-libopencore-amrnb --enable-libopencore-amrwb --enable-libopenjpeg --enable-libopus --enable-libshine --enable-libsnappy --enable-libsoxr --enable-libtheora --enable-libtwolame --enable-libvpx --enable-libwavpack --enable-libwebp --enable-libx264 --enable-libx265 --enable-libxml2 --enable-libzimg --enable-lzma --enable-zlib --enable-gmp --enable-libvidstab --enable-libvorbis --enable-libvo-amrwbenc --enable-libmysofa --enable-libspeex --enable-libxvid --enable-libaom --enable-libmfx --enable-amf --enable-ffnvcodec --enable-cuvid --enable-d3d11va --enable-nvenc --enable-nvdec --enable-dxva2 --enable-avisynth --enable-libopenmpt\r\n  libavutil      56. 31.100 / 56. 31.100\r\n  libavcodec     58. 54.100 / 58. 54.100\r\n  libavformat    58. 29.100 / 58. 29.100\r\n  libavdevice    58.  8.100 / 58.  8.100\r\n  libavfilter     7. 57.100 /  7. 57.100\r\n  libswscale      5.  5.100 /  5.  5.100\r\n  libswresample   3.  5.100 /  3.  5.100\r\n  libpostproc    55.  5.100 / 55.  5.100\r\nGuessed Channel Layout for Input Stream #0.0 : stereo\r\nInput #0, wav, from './output_dir/hotel_del_luna_6/clip6.wav':\r\n  Metadata:\r\n    title           : Ep6\r\n    encoder         : Lavf58.29.100\r\n  Duration: 00:02:26.03, bitrate: 1411 kb/s\r\n    Stream #0:0: Audio: pcm_s16le ([1][0][0][0] / 0x0001), 44100 Hz, stereo, s16, 1411 kb/s\r\nStream mapping:\r\n  Stream #0:0 -> #0:0 (pcm_s16le (native) -> pcm_s16le (native))\r\nPress [q] to stop, [?] for help\r\n[trim for output stream 0:0 @ 000002804d7320c0] Value -57459000.000000 for parameter 'durationi' out of range [0 - 9.22337e+18]\r\n[trim for output stream 0:0 @ 000002804d7320c0] Error configuring the atrim filterInput pad \"default\" with type audio of the filter instance \"out_0_0\" of abuffersink not connected to any source\r\nError reinitializing filters!\r\nFailed to inject frame into filter network: Invalid argument\r\nError while processing the decoded data for stream #0:0\r\nConversion failed!\r\n",
     "output_type": "error",
     "traceback": [
      "\u001b[1;31m---------------------------------------------------------------------------\u001b[0m",
      "\u001b[1;31mOSError\u001b[0m                                   Traceback (most recent call last)",
      "Input \u001b[1;32mIn [8]\u001b[0m, in \u001b[0;36m<cell line: 10>\u001b[1;34m()\u001b[0m\n\u001b[0;32m      5\u001b[0m sentence_df \u001b[38;5;241m=\u001b[39m deep_s\u001b[38;5;241m.\u001b[39mget_sentences()\n\u001b[0;32m      7\u001b[0m deep_a \u001b[38;5;241m=\u001b[39m DeepdubAudio(project_name\u001b[38;5;241m=\u001b[39mDRAMA,\n\u001b[0;32m      8\u001b[0m                       sentence_df\u001b[38;5;241m=\u001b[39msentence_df,\n\u001b[0;32m      9\u001b[0m                       audio_path\u001b[38;5;241m=\u001b[39m\u001b[38;5;124mf\u001b[39m\u001b[38;5;124m'\u001b[39m\u001b[38;5;132;01m{\u001b[39;00mOUTPUT_DIR\u001b[38;5;132;01m}\u001b[39;00m\u001b[38;5;124m/clip\u001b[39m\u001b[38;5;132;01m{\u001b[39;00mEP\u001b[38;5;132;01m}\u001b[39;00m\u001b[38;5;124m.wav\u001b[39m\u001b[38;5;124m'\u001b[39m)\n\u001b[1;32m---> 10\u001b[0m \u001b[43mdeep_a\u001b[49m\u001b[38;5;241;43m.\u001b[39;49m\u001b[43mcreate_audio_segments\u001b[49m\u001b[43m(\u001b[49m\u001b[43m)\u001b[49m\n",
      "File \u001b[1;32mT:\\pycharm_repo\\colab_repo\\Deepdub\\deepdub_audio.py:57\u001b[0m, in \u001b[0;36mDeepdubAudio.create_audio_segments\u001b[1;34m(self)\u001b[0m\n\u001b[0;32m     55\u001b[0m \u001b[38;5;28;01mfor\u001b[39;00m index, row \u001b[38;5;129;01min\u001b[39;00m \u001b[38;5;28mself\u001b[39m\u001b[38;5;241m.\u001b[39maudio_df\u001b[38;5;241m.\u001b[39miterrows():\n\u001b[0;32m     56\u001b[0m   audio_clip_path \u001b[38;5;241m=\u001b[39m \u001b[38;5;124mf\u001b[39m\u001b[38;5;124m'\u001b[39m\u001b[38;5;132;01m{\u001b[39;00m\u001b[38;5;28mself\u001b[39m\u001b[38;5;241m.\u001b[39mAUDIO_OUTPUT_DIR\u001b[38;5;132;01m}\u001b[39;00m\u001b[38;5;124m/\u001b[39m\u001b[38;5;132;01m{\u001b[39;00mrow\u001b[38;5;241m.\u001b[39mhash\u001b[38;5;132;01m}\u001b[39;00m\u001b[38;5;124m.wav\u001b[39m\u001b[38;5;124m'\u001b[39m\n\u001b[1;32m---> 57\u001b[0m   \u001b[38;5;28;43mself\u001b[39;49m\u001b[38;5;241;43m.\u001b[39;49m\u001b[43msegment_audio\u001b[49m\u001b[43m(\u001b[49m\u001b[38;5;28;43mself\u001b[39;49m\u001b[38;5;241;43m.\u001b[39;49m\u001b[43maudio_path\u001b[49m\u001b[43m,\u001b[49m\n\u001b[0;32m     58\u001b[0m \u001b[43m                     \u001b[49m\u001b[38;5;28;43mself\u001b[39;49m\u001b[38;5;241;43m.\u001b[39;49m\u001b[43m__timestamp_to_seconds\u001b[49m\u001b[43m(\u001b[49m\u001b[43mrow\u001b[49m\u001b[43m[\u001b[49m\u001b[38;5;124;43m\"\u001b[39;49m\u001b[38;5;124;43mstart\u001b[39;49m\u001b[38;5;124;43m\"\u001b[39;49m\u001b[43m]\u001b[49m\u001b[43m)\u001b[49m\u001b[43m,\u001b[49m\n\u001b[0;32m     59\u001b[0m \u001b[43m                     \u001b[49m\u001b[38;5;28;43mself\u001b[39;49m\u001b[38;5;241;43m.\u001b[39;49m\u001b[43m__timestamp_to_seconds\u001b[49m\u001b[43m(\u001b[49m\u001b[43mrow\u001b[49m\u001b[43m[\u001b[49m\u001b[38;5;124;43m\"\u001b[39;49m\u001b[38;5;124;43mend\u001b[39;49m\u001b[38;5;124;43m\"\u001b[39;49m\u001b[43m]\u001b[49m\u001b[43m)\u001b[49m\u001b[43m,\u001b[49m\n\u001b[0;32m     60\u001b[0m \u001b[43m                     \u001b[49m\u001b[43maudio_clip_path\u001b[49m\u001b[43m)\u001b[49m\n\u001b[0;32m     62\u001b[0m \u001b[38;5;66;03m# Save paths of segments to `audio_segments_list.txt`\u001b[39;00m\n\u001b[0;32m     63\u001b[0m audio_segments_list \u001b[38;5;241m=\u001b[39m \u001b[38;5;124mf\u001b[39m\u001b[38;5;124m'\u001b[39m\u001b[38;5;132;01m{\u001b[39;00m\u001b[38;5;28mself\u001b[39m\u001b[38;5;241m.\u001b[39mAUDIO_OUTPUT_DIR\u001b[38;5;132;01m}\u001b[39;00m\u001b[38;5;124m/audio_segments_list.txt\u001b[39m\u001b[38;5;124m'\u001b[39m\n",
      "File \u001b[1;32mT:\\pycharm_repo\\colab_repo\\Deepdub\\deepdub_audio.py:76\u001b[0m, in \u001b[0;36mDeepdubAudio.segment_audio\u001b[1;34m(self, input_audio, clip_from, clip_to, output, acodec)\u001b[0m\n\u001b[0;32m     69\u001b[0m \u001b[38;5;124;03m\"\"\"Clip audio from another audio file and save it in `output`\"\"\"\u001b[39;00m\n\u001b[0;32m     70\u001b[0m cmd \u001b[38;5;241m=\u001b[39m [get_setting(\u001b[38;5;124m\"\u001b[39m\u001b[38;5;124mFFMPEG_BINARY\u001b[39m\u001b[38;5;124m\"\u001b[39m), \u001b[38;5;124m\"\u001b[39m\u001b[38;5;124m-y\u001b[39m\u001b[38;5;124m\"\u001b[39m,\n\u001b[0;32m     71\u001b[0m        \u001b[38;5;124m\"\u001b[39m\u001b[38;5;124m-ss\u001b[39m\u001b[38;5;124m\"\u001b[39m, \u001b[38;5;124m\"\u001b[39m\u001b[38;5;132;01m%0.3f\u001b[39;00m\u001b[38;5;124m\"\u001b[39m \u001b[38;5;241m%\u001b[39m clip_from,\n\u001b[0;32m     72\u001b[0m        \u001b[38;5;124m\"\u001b[39m\u001b[38;5;124m-i\u001b[39m\u001b[38;5;124m\"\u001b[39m, input_audio,\n\u001b[0;32m     73\u001b[0m        \u001b[38;5;124m\"\u001b[39m\u001b[38;5;124m-t\u001b[39m\u001b[38;5;124m\"\u001b[39m, \u001b[38;5;124m\"\u001b[39m\u001b[38;5;132;01m%0.3f\u001b[39;00m\u001b[38;5;124m\"\u001b[39m \u001b[38;5;241m%\u001b[39m (clip_to\u001b[38;5;241m-\u001b[39mclip_from),\n\u001b[0;32m     74\u001b[0m        \u001b[38;5;124m\"\u001b[39m\u001b[38;5;124m-acodec\u001b[39m\u001b[38;5;124m\"\u001b[39m, acodec,\n\u001b[0;32m     75\u001b[0m        output]\n\u001b[1;32m---> 76\u001b[0m \u001b[43msubprocess_call\u001b[49m\u001b[43m(\u001b[49m\u001b[43mcmd\u001b[49m\u001b[43m)\u001b[49m\n",
      "File \u001b[1;32mC:\\anaconda3\\envs\\Jupyter\\lib\\site-packages\\moviepy\\tools.py:54\u001b[0m, in \u001b[0;36msubprocess_call\u001b[1;34m(cmd, logger, errorprint)\u001b[0m\n\u001b[0;32m     52\u001b[0m     \u001b[38;5;28;01mif\u001b[39;00m errorprint:\n\u001b[0;32m     53\u001b[0m         logger(message\u001b[38;5;241m=\u001b[39m\u001b[38;5;124m'\u001b[39m\u001b[38;5;124mMoviepy - Command returned an error\u001b[39m\u001b[38;5;124m'\u001b[39m)\n\u001b[1;32m---> 54\u001b[0m     \u001b[38;5;28;01mraise\u001b[39;00m \u001b[38;5;167;01mIOError\u001b[39;00m(err\u001b[38;5;241m.\u001b[39mdecode(\u001b[38;5;124m'\u001b[39m\u001b[38;5;124mutf8\u001b[39m\u001b[38;5;124m'\u001b[39m))\n\u001b[0;32m     55\u001b[0m \u001b[38;5;28;01melse\u001b[39;00m:\n\u001b[0;32m     56\u001b[0m     logger(message\u001b[38;5;241m=\u001b[39m\u001b[38;5;124m'\u001b[39m\u001b[38;5;124mMoviepy - Command successful\u001b[39m\u001b[38;5;124m'\u001b[39m)\n",
      "\u001b[1;31mOSError\u001b[0m: ffmpeg version 4.2.2 Copyright (c) 2000-2019 the FFmpeg developers\r\n  built with gcc 9.2.1 (GCC) 20200122\r\n  configuration: --enable-gpl --enable-version3 --enable-sdl2 --enable-fontconfig --enable-gnutls --enable-iconv --enable-libass --enable-libdav1d --enable-libbluray --enable-libfreetype --enable-libmp3lame --enable-libopencore-amrnb --enable-libopencore-amrwb --enable-libopenjpeg --enable-libopus --enable-libshine --enable-libsnappy --enable-libsoxr --enable-libtheora --enable-libtwolame --enable-libvpx --enable-libwavpack --enable-libwebp --enable-libx264 --enable-libx265 --enable-libxml2 --enable-libzimg --enable-lzma --enable-zlib --enable-gmp --enable-libvidstab --enable-libvorbis --enable-libvo-amrwbenc --enable-libmysofa --enable-libspeex --enable-libxvid --enable-libaom --enable-libmfx --enable-amf --enable-ffnvcodec --enable-cuvid --enable-d3d11va --enable-nvenc --enable-nvdec --enable-dxva2 --enable-avisynth --enable-libopenmpt\r\n  libavutil      56. 31.100 / 56. 31.100\r\n  libavcodec     58. 54.100 / 58. 54.100\r\n  libavformat    58. 29.100 / 58. 29.100\r\n  libavdevice    58.  8.100 / 58.  8.100\r\n  libavfilter     7. 57.100 /  7. 57.100\r\n  libswscale      5.  5.100 /  5.  5.100\r\n  libswresample   3.  5.100 /  3.  5.100\r\n  libpostproc    55.  5.100 / 55.  5.100\r\nGuessed Channel Layout for Input Stream #0.0 : stereo\r\nInput #0, wav, from './output_dir/hotel_del_luna_6/clip6.wav':\r\n  Metadata:\r\n    title           : Ep6\r\n    encoder         : Lavf58.29.100\r\n  Duration: 00:02:26.03, bitrate: 1411 kb/s\r\n    Stream #0:0: Audio: pcm_s16le ([1][0][0][0] / 0x0001), 44100 Hz, stereo, s16, 1411 kb/s\r\nStream mapping:\r\n  Stream #0:0 -> #0:0 (pcm_s16le (native) -> pcm_s16le (native))\r\nPress [q] to stop, [?] for help\r\n[trim for output stream 0:0 @ 000002804d7320c0] Value -57459000.000000 for parameter 'durationi' out of range [0 - 9.22337e+18]\r\n[trim for output stream 0:0 @ 000002804d7320c0] Error configuring the atrim filterInput pad \"default\" with type audio of the filter instance \"out_0_0\" of abuffersink not connected to any source\r\nError reinitializing filters!\r\nFailed to inject frame into filter network: Invalid argument\r\nError while processing the decoded data for stream #0:0\r\nConversion failed!\r\n"
     ]
    }
   ],
   "source": [
    "deep_s = DeepdubSentence(project_name=DRAMA,\n",
    "                         subtitle_path=SUBTITLE_DIR + f'/ep{EP}_eng.srt',\n",
    "                         slice_from=slice_from,\n",
    "                         slice_to=slice_to)\n",
    "sentence_df = deep_s.get_sentences()\n",
    "\n",
    "deep_a = DeepdubAudio(project_name=DRAMA,\n",
    "                      sentence_df=sentence_df,\n",
    "                      audio_path=f'{OUTPUT_DIR}/clip{EP}.wav')\n",
    "deep_a.create_audio_segments()"
   ]
  },
  {
   "cell_type": "code",
   "execution_count": 9,
   "metadata": {
    "colab": {
     "base_uri": "https://localhost:8080/",
     "height": 363
    },
    "id": "P5isbA1L201C",
    "outputId": "4fdc5c15-1cad-44d4-9583-8f006d4174c0"
   },
   "outputs": [
    {
     "data": {
      "text/html": [
       "<div>\n",
       "<style scoped>\n",
       "    .dataframe tbody tr th:only-of-type {\n",
       "        vertical-align: middle;\n",
       "    }\n",
       "\n",
       "    .dataframe tbody tr th {\n",
       "        vertical-align: top;\n",
       "    }\n",
       "\n",
       "    .dataframe thead th {\n",
       "        text-align: right;\n",
       "    }\n",
       "</style>\n",
       "<table border=\"1\" class=\"dataframe\">\n",
       "  <thead>\n",
       "    <tr style=\"text-align: right;\">\n",
       "      <th></th>\n",
       "      <th>start</th>\n",
       "      <th>end</th>\n",
       "      <th>hash</th>\n",
       "      <th>path</th>\n",
       "    </tr>\n",
       "  </thead>\n",
       "  <tbody>\n",
       "    <tr>\n",
       "      <th>0</th>\n",
       "      <td>1970-01-01 00:00:00.000</td>\n",
       "      <td>1900-01-01 00:00:10.753</td>\n",
       "      <td>13268144354830886837</td>\n",
       "      <td>13268144354830886837.wav</td>\n",
       "    </tr>\n",
       "    <tr>\n",
       "      <th>1</th>\n",
       "      <td>1900-01-01 00:00:10.753</td>\n",
       "      <td>1900-01-01 00:00:12.323</td>\n",
       "      <td>14497962861368294049</td>\n",
       "      <td>14497962861368294049_gen.wav</td>\n",
       "    </tr>\n",
       "    <tr>\n",
       "      <th>2</th>\n",
       "      <td>1900-01-01 00:00:12.323</td>\n",
       "      <td>1900-01-01 00:00:13.282</td>\n",
       "      <td>9169325943668414471</td>\n",
       "      <td>9169325943668414471.wav</td>\n",
       "    </tr>\n",
       "    <tr>\n",
       "      <th>3</th>\n",
       "      <td>1900-01-01 00:00:13.282</td>\n",
       "      <td>1900-01-01 00:00:14.753</td>\n",
       "      <td>18048373628256788383</td>\n",
       "      <td>18048373628256788383_gen.wav</td>\n",
       "    </tr>\n",
       "    <tr>\n",
       "      <th>4</th>\n",
       "      <td>1900-01-01 00:00:14.753</td>\n",
       "      <td>1900-01-01 00:00:15.452</td>\n",
       "      <td>8433474818089108733</td>\n",
       "      <td>8433474818089108733.wav</td>\n",
       "    </tr>\n",
       "    <tr>\n",
       "      <th>...</th>\n",
       "      <td>...</td>\n",
       "      <td>...</td>\n",
       "      <td>...</td>\n",
       "      <td>...</td>\n",
       "    </tr>\n",
       "    <tr>\n",
       "      <th>61</th>\n",
       "      <td>1900-01-01 00:02:09.573</td>\n",
       "      <td>1900-01-01 00:02:17.272</td>\n",
       "      <td>929360901860661087</td>\n",
       "      <td>929360901860661087.wav</td>\n",
       "    </tr>\n",
       "    <tr>\n",
       "      <th>62</th>\n",
       "      <td>1900-01-01 00:02:17.272</td>\n",
       "      <td>1900-01-01 00:02:18.543</td>\n",
       "      <td>8803771367536902491</td>\n",
       "      <td>8803771367536902491_gen.wav</td>\n",
       "    </tr>\n",
       "    <tr>\n",
       "      <th>63</th>\n",
       "      <td>1900-01-01 00:02:18.543</td>\n",
       "      <td>1900-01-01 00:02:20.642</td>\n",
       "      <td>694919335453589821</td>\n",
       "      <td>694919335453589821.wav</td>\n",
       "    </tr>\n",
       "    <tr>\n",
       "      <th>64</th>\n",
       "      <td>1900-01-01 00:02:20.642</td>\n",
       "      <td>1900-01-01 00:02:22.613</td>\n",
       "      <td>15778045738322715580</td>\n",
       "      <td>15778045738322715580_gen.wav</td>\n",
       "    </tr>\n",
       "    <tr>\n",
       "      <th>65</th>\n",
       "      <td>1900-01-01 00:02:22.613</td>\n",
       "      <td>1970-01-01 00:02:26.030</td>\n",
       "      <td>5277554787138071474</td>\n",
       "      <td>5277554787138071474.wav</td>\n",
       "    </tr>\n",
       "  </tbody>\n",
       "</table>\n",
       "<p>66 rows × 4 columns</p>\n",
       "</div>"
      ],
      "text/plain": [
       "                     start                     end                  hash  \\\n",
       "0  1970-01-01 00:00:00.000 1900-01-01 00:00:10.753  13268144354830886837   \n",
       "1  1900-01-01 00:00:10.753 1900-01-01 00:00:12.323  14497962861368294049   \n",
       "2  1900-01-01 00:00:12.323 1900-01-01 00:00:13.282   9169325943668414471   \n",
       "3  1900-01-01 00:00:13.282 1900-01-01 00:00:14.753  18048373628256788383   \n",
       "4  1900-01-01 00:00:14.753 1900-01-01 00:00:15.452   8433474818089108733   \n",
       "..                     ...                     ...                   ...   \n",
       "61 1900-01-01 00:02:09.573 1900-01-01 00:02:17.272    929360901860661087   \n",
       "62 1900-01-01 00:02:17.272 1900-01-01 00:02:18.543   8803771367536902491   \n",
       "63 1900-01-01 00:02:18.543 1900-01-01 00:02:20.642    694919335453589821   \n",
       "64 1900-01-01 00:02:20.642 1900-01-01 00:02:22.613  15778045738322715580   \n",
       "65 1900-01-01 00:02:22.613 1970-01-01 00:02:26.030   5277554787138071474   \n",
       "\n",
       "                            path  \n",
       "0       13268144354830886837.wav  \n",
       "1   14497962861368294049_gen.wav  \n",
       "2        9169325943668414471.wav  \n",
       "3   18048373628256788383_gen.wav  \n",
       "4        8433474818089108733.wav  \n",
       "..                           ...  \n",
       "61        929360901860661087.wav  \n",
       "62   8803771367536902491_gen.wav  \n",
       "63        694919335453589821.wav  \n",
       "64  15778045738322715580_gen.wav  \n",
       "65       5277554787138071474.wav  \n",
       "\n",
       "[66 rows x 4 columns]"
      ]
     },
     "execution_count": 9,
     "metadata": {},
     "output_type": "execute_result"
    }
   ],
   "source": [
    "deep_a.audio_df"
   ]
  },
  {
   "cell_type": "code",
   "execution_count": 11,
   "metadata": {
    "id": "uCRTLh-xfb2V"
   },
   "outputs": [
    {
     "name": "stdout",
     "output_type": "stream",
     "text": [
      "INFO:tensorflow:Apply unet for vocals_spectrogram\n",
      "WARNING:tensorflow:From C:\\anaconda3\\envs\\Jupyter\\lib\\site-packages\\keras\\layers\\normalization\\batch_normalization.py:520: _colocate_with (from tensorflow.python.framework.ops) is deprecated and will be removed in a future version.\n",
      "Instructions for updating:\n",
      "Colocations handled automatically by placer.\n",
      "INFO:tensorflow:Apply unet for accompaniment_spectrogram\n",
      "INFO:tensorflow:Restoring parameters from pretrained_models\\2stems\\model\n"
     ]
    }
   ],
   "source": [
    "deep_a.extract_vocal_and_accompaniments()"
   ]
  },
  {
   "cell_type": "code",
   "execution_count": 8,
   "metadata": {
    "colab": {
     "base_uri": "https://localhost:8080/",
     "height": 206
    },
    "id": "4mXoWC4S2KS2",
    "outputId": "7525d4f4-ec24-468f-b2a7-5b90e1cb1c95"
   },
   "outputs": [
    {
     "data": {
      "text/html": [
       "<div>\n",
       "<style scoped>\n",
       "    .dataframe tbody tr th:only-of-type {\n",
       "        vertical-align: middle;\n",
       "    }\n",
       "\n",
       "    .dataframe tbody tr th {\n",
       "        vertical-align: top;\n",
       "    }\n",
       "\n",
       "    .dataframe thead th {\n",
       "        text-align: right;\n",
       "    }\n",
       "</style>\n",
       "<table border=\"1\" class=\"dataframe\">\n",
       "  <thead>\n",
       "    <tr style=\"text-align: right;\">\n",
       "      <th></th>\n",
       "      <th>start</th>\n",
       "      <th>end</th>\n",
       "      <th>sentence</th>\n",
       "      <th>hash</th>\n",
       "    </tr>\n",
       "  </thead>\n",
       "  <tbody>\n",
       "    <tr>\n",
       "      <th>0</th>\n",
       "      <td>1900-01-01 00:00:17.373</td>\n",
       "      <td>1900-01-01 00:00:19.342</td>\n",
       "      <td>Why is it raining? I didn't see this on the we...</td>\n",
       "      <td>11991633108791627229</td>\n",
       "    </tr>\n",
       "    <tr>\n",
       "      <th>1</th>\n",
       "      <td>1900-01-01 00:00:19.342</td>\n",
       "      <td>1900-01-01 00:00:21.543</td>\n",
       "      <td>Gosh, I know. I got my hair done today.</td>\n",
       "      <td>11763586976482689099</td>\n",
       "    </tr>\n",
       "    <tr>\n",
       "      <th>2</th>\n",
       "      <td>1900-01-01 00:00:21.743</td>\n",
       "      <td>1900-01-01 00:00:23.712</td>\n",
       "      <td>- It's all wet. - My goodness, you're right.</td>\n",
       "      <td>15623740944573960892</td>\n",
       "    </tr>\n",
       "    <tr>\n",
       "      <th>3</th>\n",
       "      <td>1900-01-01 00:00:24.383</td>\n",
       "      <td>1900-01-01 00:00:25.482</td>\n",
       "      <td>Your hair is all wet.</td>\n",
       "      <td>3767497895488922469</td>\n",
       "    </tr>\n",
       "    <tr>\n",
       "      <th>4</th>\n",
       "      <td>1900-01-01 00:00:25.812</td>\n",
       "      <td>1900-01-01 00:00:27.653</td>\n",
       "      <td>That's because a fox is getting married today.</td>\n",
       "      <td>2555627041485743295</td>\n",
       "    </tr>\n",
       "  </tbody>\n",
       "</table>\n",
       "</div>"
      ],
      "text/plain": [
       "                    start                     end  \\\n",
       "0 1900-01-01 00:00:17.373 1900-01-01 00:00:19.342   \n",
       "1 1900-01-01 00:00:19.342 1900-01-01 00:00:21.543   \n",
       "2 1900-01-01 00:00:21.743 1900-01-01 00:00:23.712   \n",
       "3 1900-01-01 00:00:24.383 1900-01-01 00:00:25.482   \n",
       "4 1900-01-01 00:00:25.812 1900-01-01 00:00:27.653   \n",
       "\n",
       "                                            sentence                  hash  \n",
       "0  Why is it raining? I didn't see this on the we...  11991633108791627229  \n",
       "1            Gosh, I know. I got my hair done today.  11763586976482689099  \n",
       "2       - It's all wet. - My goodness, you're right.  15623740944573960892  \n",
       "3                              Your hair is all wet.   3767497895488922469  \n",
       "4     That's because a fox is getting married today.   2555627041485743295  "
      ]
     },
     "execution_count": 8,
     "metadata": {},
     "output_type": "execute_result"
    }
   ],
   "source": [
    "sentence_df"
   ]
  },
  {
   "cell_type": "code",
   "execution_count": null,
   "metadata": {
    "colab": {
     "base_uri": "https://localhost:8080/",
     "height": 337
    },
    "id": "rxDKmbFbH5GA",
    "outputId": "cc07778a-edff-4076-b72f-128941f078c4"
   },
   "outputs": [],
   "source": [
    "import random\n",
    "import numpy as np\n",
    "from deep_speaker.audio import read_mfcc\n",
    "from deep_speaker.batcher import sample_from_mfcc\n",
    "from deep_speaker.constants import SAMPLE_RATE, NUM_FRAMES\n",
    "from deep_speaker.conv_models import DeepSpeakerModel\n",
    "\n",
    "np.random.seed(123)\n",
    "random.seed(123)\n",
    "\n",
    "model = DeepSpeakerModel()\n",
    "model.m.load_weights(MODEL_PATH, by_name=True)\n",
    "\n",
    "\n",
    "def get_embedding(h):\n",
    "  \"\"\"Call the model to get the embeddings of shape (1, 512) for each file.\n",
    "  \"\"\"\n",
    "  mfcc = sample_from_mfcc(read_mfcc(f'{AUDIO_OUTPUT_DIR}/{h}_vocals.wav', SAMPLE_RATE), NUM_FRAMES)\n",
    "  embedding = model.m.predict(np.expand_dims(mfcc, axis=0))\n",
    "  return embedding\n",
    "\n",
    "\n",
    "sentence_df[[\"embedding\"]] = sentence_df[[\"hash\"]].applymap(get_embedding)\n",
    "sentence_df"
   ]
  },
  {
   "cell_type": "code",
   "execution_count": null,
   "metadata": {
    "colab": {
     "base_uri": "https://localhost:8080/"
    },
    "id": "UMOo7qOkO6Dt",
    "outputId": "18b90a7f-b331-4197-e838-353b6d6952e2"
   },
   "outputs": [],
   "source": [
    "sentence_df.info()"
   ]
  },
  {
   "cell_type": "code",
   "execution_count": null,
   "metadata": {
    "id": "cVQt_scgT_Oz"
   },
   "outputs": [],
   "source": []
  }
 ],
 "metadata": {
  "colab": {
   "name": "3_Clustering_audio_segments_for_speaker_identification.ipynb",
   "provenance": []
  },
  "kernelspec": {
   "display_name": "Python 3 (ipykernel)",
   "language": "python",
   "name": "python3"
  },
  "language_info": {
   "codemirror_mode": {
    "name": "ipython",
    "version": 3
   },
   "file_extension": ".py",
   "mimetype": "text/x-python",
   "name": "python",
   "nbconvert_exporter": "python",
   "pygments_lexer": "ipython3",
   "version": "3.9.7"
  }
 },
 "nbformat": 4,
 "nbformat_minor": 4
}
