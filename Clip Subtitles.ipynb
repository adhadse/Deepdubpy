{
 "cells": [
  {
   "cell_type": "code",
   "execution_count": 2,
   "id": "d007a51a-5e1e-4e33-ad6a-30985d445390",
   "metadata": {},
   "outputs": [],
   "source": [
    "import pandas as pd\n",
    "import pysrt\n",
    "import re"
   ]
  },
  {
   "cell_type": "code",
   "execution_count": 3,
   "id": "14911eaf-080d-4621-8939-af824ab64f43",
   "metadata": {},
   "outputs": [],
   "source": [
    "BASE_DIR = 'T:/pycharm_repo/Working_dir/Deepdub'\n",
    "OUTPUT_DIR = BASE_DIR\n",
    "SAMPLE_DIR = BASE_DIR + '/tale_of_nine_tailed'\n",
    "SUBTITLE_DIR = SAMPLE_DIR + '/subtitles/'"
   ]
  },
  {
   "cell_type": "code",
   "execution_count": 22,
   "id": "6f440b83-d247-451b-9594-178d53932219",
   "metadata": {},
   "outputs": [
    {
     "data": {
      "text/plain": [
       "<pysrt.srtitem.SubRipItem at 0x2bc30591190>"
      ]
     },
     "execution_count": 22,
     "metadata": {},
     "output_type": "execute_result"
    }
   ],
   "source": [
    "subs = pysrt.open(SUBTITLE_DIR + 'ep1_eng.srt')\n",
    "subs[0]"
   ]
  },
  {
   "cell_type": "markdown",
   "id": "6dc42ec6-91d3-44f2-9435-22f06b7e69e4",
   "metadata": {},
   "source": [
    "# Exploration \n",
    "1. The subtitles contains, text like `...`.\n",
    "   - For example: \n",
    "   ```\n",
    "   0: When a fox turns 100,\n",
    "   1: it can transform into   \n",
    "   a beautiful woman...\n",
    "   ```\n",
    "2. Text contains `\\n` used to add newline as viewer can't read a long line of subtitle\n",
    "   - For example in second line insert a `\\n` after `into`: \n",
    "   ```\n",
    "    0: When a fox turns 100,\n",
    "    1: it can transform into   \n",
    "    a beautiful woman...\n",
    "   ```  \n",
    "\n",
    "   ```\n",
    "   subs[1] 'it can transform into\\na beautiful woman...'\n",
    "   ```    \n",
    "      \n",
    "3. Currently preprocessing creates sentences where one end in single view of subtitle and another sentence begin in same view.\n",
    "\n",
    "    This way we can't really know when exactly did the sentence ended and next began, as both came in view at once and in subtitles both has a single starting and ending point. Like for instance (First is spoken by Jo Bo-ah second by Kim Bum):\n",
    "    \n",
    "    ```\n",
    "    698\n",
    "    00:58:49,825 --> 00:58:51,924\n",
    "    - Did you miss me? - As if, brother.\n",
    "    ```\n",
    "\n",
    "    <br>**-** generally means there are two **Different people speaking at that moment. **So, we shouldn't remove `-` during preprocessing and split sentences, but when did one sentence end and another began is problem**.\n",
    "    \n",
    "    \n",
    "4. Sometimes subs also translate what is visually written **but not spoken** inside brackets, like:\n",
    "\n",
    "    ```\n",
    "    85\n",
    "    00:25:34,433 --> 00:25:38,902\n",
    "    (Crackdown on undocumented spirits are being enforced.)\n",
    "\n",
    "    286\n",
    "    00:25:38,902 --> 00:25:41,973\n",
    "    (Afterlife Immigration Office)\n",
    "    ```\n",
    "    \n",
    "    <br>Or explaining some terms (In Hindi subtitles; not found in English one):\n",
    "    \n",
    "    ```\n",
    "    247\n",
    "    00:26:31,470 --> 00:26:35,000\n",
    "    वाह, क्या नज़ारा है की सर्वशक्तिमान ताल उइ पा भी कंप्युटर इस्तेमाल करने के लिए जूझ रही हैं। <i>(ताल ई पा: भगवान जो 'सामदोचोन', ज़िंदगी और मौत के बीच की जगह पर नजर रखती हैं।)</i>\n",
    "    ```\n",
    "    "
   ]
  },
  {
   "cell_type": "code",
   "execution_count": 24,
   "id": "0b7628a7-07ed-4242-aad8-862a083af23b",
   "metadata": {},
   "outputs": [
    {
     "name": "stdout",
     "output_type": "stream",
     "text": [
      "1\n",
      "00:00:44,172 --> 00:00:45,973\n",
      "When a fox turns 100,\n",
      "\n",
      "Starting time -> 44:172\n",
      "Ending time   -> 45:973\n"
     ]
    }
   ],
   "source": [
    "print(subs[0])\n",
    "print(f\"Starting time -> {subs[0].start.seconds}:{subs[0].start.milliseconds}\")\n",
    "print(f\"Ending time   -> {subs[0].end.seconds}:{subs[0].end.milliseconds}\")"
   ]
  },
  {
   "cell_type": "code",
   "execution_count": 25,
   "id": "4a3deda3-8899-4fad-b88e-dfe5a04bc05b",
   "metadata": {},
   "outputs": [
    {
     "data": {
      "text/plain": [
       "'When a fox turns 100,'"
      ]
     },
     "execution_count": 25,
     "metadata": {},
     "output_type": "execute_result"
    }
   ],
   "source": [
    "subs[0].text"
   ]
  },
  {
   "cell_type": "code",
   "execution_count": 26,
   "id": "64f942c5-0c55-4c39-b8f9-3289ea761053",
   "metadata": {},
   "outputs": [
    {
     "data": {
      "text/plain": [
       "SubRipTime(0, 0, 44, 172)"
      ]
     },
     "execution_count": 26,
     "metadata": {},
     "output_type": "execute_result"
    }
   ],
   "source": [
    "subs[0].start"
   ]
  },
  {
   "cell_type": "code",
   "execution_count": 27,
   "id": "8527f54f-fb80-48b3-9ba2-4e3bdfa9bce5",
   "metadata": {},
   "outputs": [
    {
     "name": "stdout",
     "output_type": "stream",
     "text": [
      "0:When a fox turns 100,\n",
      "1:it can transform into a beautiful woman...\n",
      "2:or become a man who has relations with one.\n",
      "3:However, a fox of 1,000 years receives the sky's blessing...\n",
      "4:and becomes a celestial fox.\n"
     ]
    }
   ],
   "source": [
    "for i, sub in enumerate(subs[:5]):\n",
    "  print(f\"{i}:{sub.text}\")"
   ]
  },
  {
   "cell_type": "code",
   "execution_count": 30,
   "id": "00509282-27b5-468e-9178-bc43ffb88413",
   "metadata": {},
   "outputs": [
    {
     "name": "stdout",
     "output_type": "stream",
     "text": [
      "698\n",
      "00:58:49,825 --> 00:58:51,924\n",
      "- Did you miss me? - As if, brother.\n",
      "\n"
     ]
    }
   ],
   "source": [
    "print(subs[697])"
   ]
  },
  {
   "cell_type": "markdown",
   "id": "8437e21f-113d-4502-aedc-d7bf957d5012",
   "metadata": {
    "tags": []
   },
   "source": [
    "## Preprocessing and removing"
   ]
  },
  {
   "cell_type": "code",
   "execution_count": 87,
   "id": "2c2ff587-4245-489d-9846-1205acb8ac51",
   "metadata": {},
   "outputs": [
    {
     "data": {
      "text/html": [
       "<div>\n",
       "<style scoped>\n",
       "    .dataframe tbody tr th:only-of-type {\n",
       "        vertical-align: middle;\n",
       "    }\n",
       "\n",
       "    .dataframe tbody tr th {\n",
       "        vertical-align: top;\n",
       "    }\n",
       "\n",
       "    .dataframe thead th {\n",
       "        text-align: right;\n",
       "    }\n",
       "</style>\n",
       "<table border=\"1\" class=\"dataframe\">\n",
       "  <thead>\n",
       "    <tr style=\"text-align: right;\">\n",
       "      <th></th>\n",
       "      <th>start</th>\n",
       "      <th>end</th>\n",
       "      <th>text</th>\n",
       "    </tr>\n",
       "  </thead>\n",
       "  <tbody>\n",
       "    <tr>\n",
       "      <th>282</th>\n",
       "      <td>00:25:10,372</td>\n",
       "      <td>00:25:12,102</td>\n",
       "      <td>- Okay? - Okay!</td>\n",
       "    </tr>\n",
       "    <tr>\n",
       "      <th>283</th>\n",
       "      <td>00:25:29,693</td>\n",
       "      <td>00:25:34,062</td>\n",
       "      <td>(Afterlife Immigration Office)</td>\n",
       "    </tr>\n",
       "    <tr>\n",
       "      <th>284</th>\n",
       "      <td>00:25:34,433</td>\n",
       "      <td>00:25:38,902</td>\n",
       "      <td>(Crackdown on undocumented spirits are being e...</td>\n",
       "    </tr>\n",
       "    <tr>\n",
       "      <th>285</th>\n",
       "      <td>00:25:38,902</td>\n",
       "      <td>00:25:41,973</td>\n",
       "      <td>(Afterlife Immigration Office)</td>\n",
       "    </tr>\n",
       "    <tr>\n",
       "      <th>286</th>\n",
       "      <td>00:26:08,632</td>\n",
       "      <td>00:26:10,193</td>\n",
       "      <td>How have you been, Granny?</td>\n",
       "    </tr>\n",
       "  </tbody>\n",
       "</table>\n",
       "</div>"
      ],
      "text/plain": [
       "            start           end  \\\n",
       "282  00:25:10,372  00:25:12,102   \n",
       "283  00:25:29,693  00:25:34,062   \n",
       "284  00:25:34,433  00:25:38,902   \n",
       "285  00:25:38,902  00:25:41,973   \n",
       "286  00:26:08,632  00:26:10,193   \n",
       "\n",
       "                                                  text  \n",
       "282                                    - Okay? - Okay!  \n",
       "283                     (Afterlife Immigration Office)  \n",
       "284  (Crackdown on undocumented spirits are being e...  \n",
       "285                     (Afterlife Immigration Office)  \n",
       "286                         How have you been, Granny?  "
      ]
     },
     "execution_count": 88,
     "metadata": {},
     "output_type": "execute_result"
    }
   ],
   "source": [
    "# Replace using regex without writing regex expression\n",
    "replacements = {\"|\": \" \", \"\\n\": \" \", \"...\": \";\", \"\\((.*)\\)\": \"\"}\n",
    "replacements = dict((re.escape(k), v) for k, v in replacements.items())\n",
    "pattern = re.compile(\"|\".join(replacements.keys()))\n",
    "\n",
    "subs_df = pd.DataFrame([[sub.start, sub.end, \n",
    "                         pattern.sub(lambda m: replacements[re.escape(m.group(0))], sub.text)] for sub in subs],\n",
    "                       columns=[\"start\", \"end\", \"text\"]).apply(\n",
    "                      lambda row: re.sub(\"\\((.*)\\)\", \"\", row.text) , axis=1).dropna()\n",
    "\n",
    "# Point 4\n",
    "subs_df[282:287]"
   ]
  },
  {
   "cell_type": "code",
   "execution_count": 65,
   "id": "021798e0-cd82-429d-a007-a89761bb5f5a",
   "metadata": {},
   "outputs": [
    {
     "data": {
      "text/plain": [
       "''"
      ]
     },
     "execution_count": 65,
     "metadata": {},
     "output_type": "execute_result"
    }
   ],
   "source": [
    "re.sub(\"\\((.*)\\)\", \"\", subs_df.iloc[283].text)"
   ]
  },
  {
   "cell_type": "code",
   "execution_count": 67,
   "id": "3038105d-fa7a-4079-adc9-71feacdc6c59",
   "metadata": {},
   "outputs": [
    {
     "name": "stdout",
     "output_type": "stream",
     "text": [
      "How have you been, Granny?\n"
     ]
    }
   ],
   "source": [
    "print(re.sub(\"\\((.*)\\)\",\"\", subs_df.iloc[286].text))"
   ]
  },
  {
   "cell_type": "code",
   "execution_count": 75,
   "id": "68bee606-ea15-44ed-8242-f06868143166",
   "metadata": {},
   "outputs": [
    {
     "name": "stdout",
     "output_type": "stream",
     "text": [
      "वाह, क्या नज़ारा है की सर्वशक्तिमान ताल उइ पा भी कंप्युटर इस्तेमाल करने के लिए जूझ रही हैं। <i>\n"
     ]
    }
   ],
   "source": [
    "print(re.sub(\"\\((.*)\\)\", \"\", \n",
    "             \"वाह, क्या नज़ारा है की सर्वशक्तिमान ताल उइ पा भी कंप्युटर इस्तेमाल करने के लिए जूझ रही हैं। <i>(ताल ई पा: भगवान जो 'सामदोचोन', ज़िंदगी और मौत के बीच की जगह पर नजर रखती हैं।)\"\n",
    "            ))"
   ]
  },
  {
   "cell_type": "code",
   "execution_count": 70,
   "id": "ea28b0a4-cb08-4e1d-9879-c610f3433f9f",
   "metadata": {},
   "outputs": [
    {
     "data": {
      "text/html": [
       "<div>\n",
       "<style scoped>\n",
       "    .dataframe tbody tr th:only-of-type {\n",
       "        vertical-align: middle;\n",
       "    }\n",
       "\n",
       "    .dataframe tbody tr th {\n",
       "        vertical-align: top;\n",
       "    }\n",
       "\n",
       "    .dataframe thead th {\n",
       "        text-align: right;\n",
       "    }\n",
       "</style>\n",
       "<table border=\"1\" class=\"dataframe\">\n",
       "  <thead>\n",
       "    <tr style=\"text-align: right;\">\n",
       "      <th></th>\n",
       "      <th>start</th>\n",
       "      <th>end</th>\n",
       "      <th>text</th>\n",
       "    </tr>\n",
       "  </thead>\n",
       "  <tbody>\n",
       "    <tr>\n",
       "      <th>282</th>\n",
       "      <td>00:25:10,372</td>\n",
       "      <td>00:25:12,102</td>\n",
       "      <td>- Okay? - Okay!</td>\n",
       "    </tr>\n",
       "    <tr>\n",
       "      <th>283</th>\n",
       "      <td>00:25:29,693</td>\n",
       "      <td>00:25:34,062</td>\n",
       "      <td>(Afterlife Immigration Office)</td>\n",
       "    </tr>\n",
       "    <tr>\n",
       "      <th>284</th>\n",
       "      <td>00:25:34,433</td>\n",
       "      <td>00:25:38,902</td>\n",
       "      <td>(Crackdown on undocumented spirits are being e...</td>\n",
       "    </tr>\n",
       "    <tr>\n",
       "      <th>285</th>\n",
       "      <td>00:25:38,902</td>\n",
       "      <td>00:25:41,973</td>\n",
       "      <td>(Afterlife Immigration Office)</td>\n",
       "    </tr>\n",
       "    <tr>\n",
       "      <th>286</th>\n",
       "      <td>00:26:08,632</td>\n",
       "      <td>00:26:10,193</td>\n",
       "      <td>How have you been, Granny?</td>\n",
       "    </tr>\n",
       "  </tbody>\n",
       "</table>\n",
       "</div>"
      ],
      "text/plain": [
       "            start           end  \\\n",
       "282  00:25:10,372  00:25:12,102   \n",
       "283  00:25:29,693  00:25:34,062   \n",
       "284  00:25:34,433  00:25:38,902   \n",
       "285  00:25:38,902  00:25:41,973   \n",
       "286  00:26:08,632  00:26:10,193   \n",
       "\n",
       "                                                  text  \n",
       "282                                    - Okay? - Okay!  \n",
       "283                     (Afterlife Immigration Office)  \n",
       "284  (Crackdown on undocumented spirits are being e...  \n",
       "285                     (Afterlife Immigration Office)  \n",
       "286                         How have you been, Granny?  "
      ]
     },
     "execution_count": 70,
     "metadata": {},
     "output_type": "execute_result"
    }
   ],
   "source": [
    "subs_df.iloc[282:287]"
   ]
  },
  {
   "cell_type": "code",
   "execution_count": 90,
   "id": "5fb997dd-39df-4661-9b5a-d21fb7419f81",
   "metadata": {},
   "outputs": [
    {
     "ename": "AttributeError",
     "evalue": "'SubRipTime' object has no attribute 'text'",
     "output_type": "error",
     "traceback": [
      "\u001b[1;31m---------------------------------------------------------------------------\u001b[0m",
      "\u001b[1;31mAttributeError\u001b[0m                            Traceback (most recent call last)",
      "Input \u001b[1;32mIn [90]\u001b[0m, in \u001b[0;36m<cell line: 1>\u001b[1;34m()\u001b[0m\n\u001b[1;32m----> 1\u001b[0m \u001b[43msubs_df\u001b[49m\u001b[43m[\u001b[49m\u001b[38;5;241;43m282\u001b[39;49m\u001b[43m:\u001b[49m\u001b[38;5;241;43m287\u001b[39;49m\u001b[43m]\u001b[49m\u001b[38;5;241;43m.\u001b[39;49m\u001b[43mapplymap\u001b[49m\u001b[43m(\u001b[49m\u001b[38;5;28;43;01mlambda\u001b[39;49;00m\u001b[43m \u001b[49m\u001b[43mrow\u001b[49m\u001b[43m:\u001b[49m\u001b[43m \u001b[49m\u001b[43mre\u001b[49m\u001b[38;5;241;43m.\u001b[39;49m\u001b[43msub\u001b[49m\u001b[43m(\u001b[49m\u001b[38;5;124;43m\"\u001b[39;49m\u001b[38;5;124;43m\\\u001b[39;49m\u001b[38;5;124;43m((.*)\u001b[39;49m\u001b[38;5;124;43m\\\u001b[39;49m\u001b[38;5;124;43m)\u001b[39;49m\u001b[38;5;124;43m\"\u001b[39;49m\u001b[43m,\u001b[49m\u001b[43m \u001b[49m\u001b[38;5;124;43m\"\u001b[39;49m\u001b[38;5;124;43m\"\u001b[39;49m\u001b[43m,\u001b[49m\u001b[43m \u001b[49m\u001b[43mrow\u001b[49m\u001b[38;5;241;43m.\u001b[39;49m\u001b[43mtext\u001b[49m\u001b[43m)\u001b[49m\u001b[43m)\u001b[49m\n",
      "File \u001b[1;32mC:\\anaconda3\\envs\\Jupyter\\lib\\site-packages\\pandas\\core\\frame.py:8918\u001b[0m, in \u001b[0;36mDataFrame.applymap\u001b[1;34m(self, func, na_action, **kwargs)\u001b[0m\n\u001b[0;32m   8915\u001b[0m         \u001b[38;5;28;01mreturn\u001b[39;00m lib\u001b[38;5;241m.\u001b[39mmap_infer(x, func, ignore_na\u001b[38;5;241m=\u001b[39mignore_na)\n\u001b[0;32m   8916\u001b[0m     \u001b[38;5;28;01mreturn\u001b[39;00m lib\u001b[38;5;241m.\u001b[39mmap_infer(x\u001b[38;5;241m.\u001b[39mastype(\u001b[38;5;28mobject\u001b[39m)\u001b[38;5;241m.\u001b[39m_values, func, ignore_na\u001b[38;5;241m=\u001b[39mignore_na)\n\u001b[1;32m-> 8918\u001b[0m \u001b[38;5;28;01mreturn\u001b[39;00m \u001b[38;5;28;43mself\u001b[39;49m\u001b[38;5;241;43m.\u001b[39;49m\u001b[43mapply\u001b[49m\u001b[43m(\u001b[49m\u001b[43minfer\u001b[49m\u001b[43m)\u001b[49m\u001b[38;5;241m.\u001b[39m__finalize__(\u001b[38;5;28mself\u001b[39m, \u001b[38;5;124m\"\u001b[39m\u001b[38;5;124mapplymap\u001b[39m\u001b[38;5;124m\"\u001b[39m)\n",
      "File \u001b[1;32mC:\\anaconda3\\envs\\Jupyter\\lib\\site-packages\\pandas\\core\\frame.py:8833\u001b[0m, in \u001b[0;36mDataFrame.apply\u001b[1;34m(self, func, axis, raw, result_type, args, **kwargs)\u001b[0m\n\u001b[0;32m   8822\u001b[0m \u001b[38;5;28;01mfrom\u001b[39;00m \u001b[38;5;21;01mpandas\u001b[39;00m\u001b[38;5;21;01m.\u001b[39;00m\u001b[38;5;21;01mcore\u001b[39;00m\u001b[38;5;21;01m.\u001b[39;00m\u001b[38;5;21;01mapply\u001b[39;00m \u001b[38;5;28;01mimport\u001b[39;00m frame_apply\n\u001b[0;32m   8824\u001b[0m op \u001b[38;5;241m=\u001b[39m frame_apply(\n\u001b[0;32m   8825\u001b[0m     \u001b[38;5;28mself\u001b[39m,\n\u001b[0;32m   8826\u001b[0m     func\u001b[38;5;241m=\u001b[39mfunc,\n\u001b[1;32m   (...)\u001b[0m\n\u001b[0;32m   8831\u001b[0m     kwargs\u001b[38;5;241m=\u001b[39mkwargs,\n\u001b[0;32m   8832\u001b[0m )\n\u001b[1;32m-> 8833\u001b[0m \u001b[38;5;28;01mreturn\u001b[39;00m \u001b[43mop\u001b[49m\u001b[38;5;241;43m.\u001b[39;49m\u001b[43mapply\u001b[49m\u001b[43m(\u001b[49m\u001b[43m)\u001b[49m\u001b[38;5;241m.\u001b[39m__finalize__(\u001b[38;5;28mself\u001b[39m, method\u001b[38;5;241m=\u001b[39m\u001b[38;5;124m\"\u001b[39m\u001b[38;5;124mapply\u001b[39m\u001b[38;5;124m\"\u001b[39m)\n",
      "File \u001b[1;32mC:\\anaconda3\\envs\\Jupyter\\lib\\site-packages\\pandas\\core\\apply.py:727\u001b[0m, in \u001b[0;36mFrameApply.apply\u001b[1;34m(self)\u001b[0m\n\u001b[0;32m    724\u001b[0m \u001b[38;5;28;01melif\u001b[39;00m \u001b[38;5;28mself\u001b[39m\u001b[38;5;241m.\u001b[39mraw:\n\u001b[0;32m    725\u001b[0m     \u001b[38;5;28;01mreturn\u001b[39;00m \u001b[38;5;28mself\u001b[39m\u001b[38;5;241m.\u001b[39mapply_raw()\n\u001b[1;32m--> 727\u001b[0m \u001b[38;5;28;01mreturn\u001b[39;00m \u001b[38;5;28;43mself\u001b[39;49m\u001b[38;5;241;43m.\u001b[39;49m\u001b[43mapply_standard\u001b[49m\u001b[43m(\u001b[49m\u001b[43m)\u001b[49m\n",
      "File \u001b[1;32mC:\\anaconda3\\envs\\Jupyter\\lib\\site-packages\\pandas\\core\\apply.py:851\u001b[0m, in \u001b[0;36mFrameApply.apply_standard\u001b[1;34m(self)\u001b[0m\n\u001b[0;32m    850\u001b[0m \u001b[38;5;28;01mdef\u001b[39;00m \u001b[38;5;21mapply_standard\u001b[39m(\u001b[38;5;28mself\u001b[39m):\n\u001b[1;32m--> 851\u001b[0m     results, res_index \u001b[38;5;241m=\u001b[39m \u001b[38;5;28;43mself\u001b[39;49m\u001b[38;5;241;43m.\u001b[39;49m\u001b[43mapply_series_generator\u001b[49m\u001b[43m(\u001b[49m\u001b[43m)\u001b[49m\n\u001b[0;32m    853\u001b[0m     \u001b[38;5;66;03m# wrap results\u001b[39;00m\n\u001b[0;32m    854\u001b[0m     \u001b[38;5;28;01mreturn\u001b[39;00m \u001b[38;5;28mself\u001b[39m\u001b[38;5;241m.\u001b[39mwrap_results(results, res_index)\n",
      "File \u001b[1;32mC:\\anaconda3\\envs\\Jupyter\\lib\\site-packages\\pandas\\core\\apply.py:867\u001b[0m, in \u001b[0;36mFrameApply.apply_series_generator\u001b[1;34m(self)\u001b[0m\n\u001b[0;32m    864\u001b[0m \u001b[38;5;28;01mwith\u001b[39;00m option_context(\u001b[38;5;124m\"\u001b[39m\u001b[38;5;124mmode.chained_assignment\u001b[39m\u001b[38;5;124m\"\u001b[39m, \u001b[38;5;28;01mNone\u001b[39;00m):\n\u001b[0;32m    865\u001b[0m     \u001b[38;5;28;01mfor\u001b[39;00m i, v \u001b[38;5;129;01min\u001b[39;00m \u001b[38;5;28menumerate\u001b[39m(series_gen):\n\u001b[0;32m    866\u001b[0m         \u001b[38;5;66;03m# ignore SettingWithCopy here in case the user mutates\u001b[39;00m\n\u001b[1;32m--> 867\u001b[0m         results[i] \u001b[38;5;241m=\u001b[39m \u001b[38;5;28;43mself\u001b[39;49m\u001b[38;5;241;43m.\u001b[39;49m\u001b[43mf\u001b[49m\u001b[43m(\u001b[49m\u001b[43mv\u001b[49m\u001b[43m)\u001b[49m\n\u001b[0;32m    868\u001b[0m         \u001b[38;5;28;01mif\u001b[39;00m \u001b[38;5;28misinstance\u001b[39m(results[i], ABCSeries):\n\u001b[0;32m    869\u001b[0m             \u001b[38;5;66;03m# If we have a view on v, we need to make a copy because\u001b[39;00m\n\u001b[0;32m    870\u001b[0m             \u001b[38;5;66;03m#  series_generator will swap out the underlying data\u001b[39;00m\n\u001b[0;32m    871\u001b[0m             results[i] \u001b[38;5;241m=\u001b[39m results[i]\u001b[38;5;241m.\u001b[39mcopy(deep\u001b[38;5;241m=\u001b[39m\u001b[38;5;28;01mFalse\u001b[39;00m)\n",
      "File \u001b[1;32mC:\\anaconda3\\envs\\Jupyter\\lib\\site-packages\\pandas\\core\\frame.py:8916\u001b[0m, in \u001b[0;36mDataFrame.applymap.<locals>.infer\u001b[1;34m(x)\u001b[0m\n\u001b[0;32m   8914\u001b[0m \u001b[38;5;28;01mif\u001b[39;00m x\u001b[38;5;241m.\u001b[39mempty:\n\u001b[0;32m   8915\u001b[0m     \u001b[38;5;28;01mreturn\u001b[39;00m lib\u001b[38;5;241m.\u001b[39mmap_infer(x, func, ignore_na\u001b[38;5;241m=\u001b[39mignore_na)\n\u001b[1;32m-> 8916\u001b[0m \u001b[38;5;28;01mreturn\u001b[39;00m \u001b[43mlib\u001b[49m\u001b[38;5;241;43m.\u001b[39;49m\u001b[43mmap_infer\u001b[49m\u001b[43m(\u001b[49m\u001b[43mx\u001b[49m\u001b[38;5;241;43m.\u001b[39;49m\u001b[43mastype\u001b[49m\u001b[43m(\u001b[49m\u001b[38;5;28;43mobject\u001b[39;49m\u001b[43m)\u001b[49m\u001b[38;5;241;43m.\u001b[39;49m\u001b[43m_values\u001b[49m\u001b[43m,\u001b[49m\u001b[43m \u001b[49m\u001b[43mfunc\u001b[49m\u001b[43m,\u001b[49m\u001b[43m \u001b[49m\u001b[43mignore_na\u001b[49m\u001b[38;5;241;43m=\u001b[39;49m\u001b[43mignore_na\u001b[49m\u001b[43m)\u001b[49m\n",
      "File \u001b[1;32mC:\\anaconda3\\envs\\Jupyter\\lib\\site-packages\\pandas\\_libs\\lib.pyx:2870\u001b[0m, in \u001b[0;36mpandas._libs.lib.map_infer\u001b[1;34m()\u001b[0m\n",
      "Input \u001b[1;32mIn [90]\u001b[0m, in \u001b[0;36m<lambda>\u001b[1;34m(row)\u001b[0m\n\u001b[1;32m----> 1\u001b[0m subs_df[\u001b[38;5;241m282\u001b[39m:\u001b[38;5;241m287\u001b[39m]\u001b[38;5;241m.\u001b[39mapplymap(\u001b[38;5;28;01mlambda\u001b[39;00m row: re\u001b[38;5;241m.\u001b[39msub(\u001b[38;5;124m\"\u001b[39m\u001b[38;5;124m\\\u001b[39m\u001b[38;5;124m((.*)\u001b[39m\u001b[38;5;124m\\\u001b[39m\u001b[38;5;124m)\u001b[39m\u001b[38;5;124m\"\u001b[39m, \u001b[38;5;124m\"\u001b[39m\u001b[38;5;124m\"\u001b[39m, \u001b[43mrow\u001b[49m\u001b[38;5;241;43m.\u001b[39;49m\u001b[43mtext\u001b[49m))\n",
      "\u001b[1;31mAttributeError\u001b[0m: 'SubRipTime' object has no attribute 'text'"
     ]
    }
   ],
   "source": [
    "subs_df[282:287].applymap(lambda row: re.sub(\"\\((.*)\\)\", \"\", row.text))"
   ]
  },
  {
   "cell_type": "code",
   "execution_count": 49,
   "id": "b53cdc8a-3554-4c26-9a85-87970516fdf4",
   "metadata": {},
   "outputs": [
    {
     "data": {
      "text/html": [
       "<div>\n",
       "<style scoped>\n",
       "    .dataframe tbody tr th:only-of-type {\n",
       "        vertical-align: middle;\n",
       "    }\n",
       "\n",
       "    .dataframe tbody tr th {\n",
       "        vertical-align: top;\n",
       "    }\n",
       "\n",
       "    .dataframe thead th {\n",
       "        text-align: right;\n",
       "    }\n",
       "</style>\n",
       "<table border=\"1\" class=\"dataframe\">\n",
       "  <thead>\n",
       "    <tr style=\"text-align: right;\">\n",
       "      <th></th>\n",
       "      <th>start</th>\n",
       "      <th>end</th>\n",
       "      <th>text</th>\n",
       "    </tr>\n",
       "  </thead>\n",
       "  <tbody>\n",
       "    <tr>\n",
       "      <th>693</th>\n",
       "      <td>00:58:25,504</td>\n",
       "      <td>00:58:26,535</td>\n",
       "      <td>Bait?</td>\n",
       "    </tr>\n",
       "    <tr>\n",
       "      <th>694</th>\n",
       "      <td>00:58:29,035</td>\n",
       "      <td>00:58:32,444</td>\n",
       "      <td>Hey, you. Didn't I reject your proposal earlier?</td>\n",
       "    </tr>\n",
       "    <tr>\n",
       "      <th>695</th>\n",
       "      <td>00:58:32,674</td>\n",
       "      <td>00:58:35,444</td>\n",
       "      <td>What you're looking for will be at my house.</td>\n",
       "    </tr>\n",
       "    <tr>\n",
       "      <th>696</th>\n",
       "      <td>00:58:36,044</td>\n",
       "      <td>00:58:37,385</td>\n",
       "      <td>Shouldn't you get busy?</td>\n",
       "    </tr>\n",
       "    <tr>\n",
       "      <th>697</th>\n",
       "      <td>00:58:49,825</td>\n",
       "      <td>00:58:51,924</td>\n",
       "      <td>- Did you miss me? - As if, brother.</td>\n",
       "    </tr>\n",
       "  </tbody>\n",
       "</table>\n",
       "</div>"
      ],
      "text/plain": [
       "            start           end  \\\n",
       "693  00:58:25,504  00:58:26,535   \n",
       "694  00:58:29,035  00:58:32,444   \n",
       "695  00:58:32,674  00:58:35,444   \n",
       "696  00:58:36,044  00:58:37,385   \n",
       "697  00:58:49,825  00:58:51,924   \n",
       "\n",
       "                                                 text  \n",
       "693                                             Bait?  \n",
       "694  Hey, you. Didn't I reject your proposal earlier?  \n",
       "695      What you're looking for will be at my house.  \n",
       "696                           Shouldn't you get busy?  \n",
       "697              - Did you miss me? - As if, brother.  "
      ]
     },
     "execution_count": 49,
     "metadata": {},
     "output_type": "execute_result"
    }
   ],
   "source": [
    "subs_df.iloc[693:698]"
   ]
  },
  {
   "cell_type": "code",
   "execution_count": 32,
   "id": "d22fa489-f82d-4652-b734-9b85e295073b",
   "metadata": {},
   "outputs": [],
   "source": [
    "sentence = \"\"\n",
    "result = []\n",
    "\n",
    "for i, sub in subs_df.iterrows():\n",
    "  if sentence == \"\":\n",
    "    start = sub.start\n",
    "  sentence = sub.text if sentence==\"\" else sentence + \" \" + sub.text \n",
    "  if re.search('[.?!]', sub.text):\n",
    "    result.append((start, sub.end, sentence))\n",
    "    sentence = \"\""
   ]
  },
  {
   "cell_type": "code",
   "execution_count": 34,
   "id": "4cc64c93-db2d-4aad-8183-84a8b3236fd0",
   "metadata": {},
   "outputs": [
    {
     "data": {
      "text/html": [
       "<div>\n",
       "<style scoped>\n",
       "    .dataframe tbody tr th:only-of-type {\n",
       "        vertical-align: middle;\n",
       "    }\n",
       "\n",
       "    .dataframe tbody tr th {\n",
       "        vertical-align: top;\n",
       "    }\n",
       "\n",
       "    .dataframe thead th {\n",
       "        text-align: right;\n",
       "    }\n",
       "</style>\n",
       "<table border=\"1\" class=\"dataframe\">\n",
       "  <thead>\n",
       "    <tr style=\"text-align: right;\">\n",
       "      <th></th>\n",
       "      <th>start</th>\n",
       "      <th>end</th>\n",
       "      <th>sentence</th>\n",
       "    </tr>\n",
       "  </thead>\n",
       "  <tbody>\n",
       "    <tr>\n",
       "      <th>604</th>\n",
       "      <td>00:58:36,044</td>\n",
       "      <td>00:58:37,385</td>\n",
       "      <td>Shouldn't you get busy?</td>\n",
       "    </tr>\n",
       "    <tr>\n",
       "      <th>605</th>\n",
       "      <td>00:58:49,825</td>\n",
       "      <td>00:58:51,924</td>\n",
       "      <td>- Did you miss me? - As if, brother.</td>\n",
       "    </tr>\n",
       "    <tr>\n",
       "      <th>606</th>\n",
       "      <td>00:58:52,394</td>\n",
       "      <td>00:58:54,135</td>\n",
       "      <td>- Brother? - It's a long story,</td>\n",
       "    </tr>\n",
       "    <tr>\n",
       "      <th>607</th>\n",
       "      <td>00:58:54,194</td>\n",
       "      <td>00:58:55,935</td>\n",
       "      <td>but the family has a dirty past.</td>\n",
       "    </tr>\n",
       "    <tr>\n",
       "      <th>608</th>\n",
       "      <td>00:59:08,774</td>\n",
       "      <td>00:59:10,644</td>\n",
       "      <td>This is why kids must be disciplined.</td>\n",
       "    </tr>\n",
       "    <tr>\n",
       "      <th>609</th>\n",
       "      <td>00:59:37,374</td>\n",
       "      <td>00:59:39,345</td>\n",
       "      <td>How many people have you killed?</td>\n",
       "    </tr>\n",
       "  </tbody>\n",
       "</table>\n",
       "</div>"
      ],
      "text/plain": [
       "            start           end                               sentence\n",
       "604  00:58:36,044  00:58:37,385                Shouldn't you get busy?\n",
       "605  00:58:49,825  00:58:51,924   - Did you miss me? - As if, brother.\n",
       "606  00:58:52,394  00:58:54,135        - Brother? - It's a long story,\n",
       "607  00:58:54,194  00:58:55,935       but the family has a dirty past.\n",
       "608  00:59:08,774  00:59:10,644  This is why kids must be disciplined.\n",
       "609  00:59:37,374  00:59:39,345       How many people have you killed?"
      ]
     },
     "execution_count": 34,
     "metadata": {},
     "output_type": "execute_result"
    }
   ],
   "source": [
    "sentence_df = pd.DataFrame(result, columns=[\"start\", \"end\", \"sentence\"])\n",
    "sentence_df.iloc[604:610]"
   ]
  },
  {
   "cell_type": "code",
   "execution_count": 35,
   "id": "0a5a83f1-c3a2-48e2-8618-7d37b4ae24a4",
   "metadata": {},
   "outputs": [
    {
     "data": {
      "text/plain": [
       "'Its abilities match that of a powerful shaman; which allows it to see what are miles ahead.'"
      ]
     },
     "execution_count": 35,
     "metadata": {},
     "output_type": "execute_result"
    }
   ],
   "source": [
    "sentence_df.iloc[2].sentence"
   ]
  },
  {
   "cell_type": "code",
   "execution_count": 36,
   "id": "173e257d-b22a-4ef0-a700-860b1465b9ea",
   "metadata": {},
   "outputs": [
    {
     "data": {
      "text/plain": [
       "\"So this is where it's buried?\""
      ]
     },
     "execution_count": 36,
     "metadata": {},
     "output_type": "execute_result"
    }
   ],
   "source": [
    "sentence_df.iloc[658].sentence"
   ]
  },
  {
   "cell_type": "code",
   "execution_count": 37,
   "id": "fe3ec5bd-0ab6-47fd-8cae-ab2fcb310523",
   "metadata": {},
   "outputs": [
    {
     "data": {
      "text/plain": [
       "SubRipTime(0, 0, 2, 300)"
      ]
     },
     "execution_count": 37,
     "metadata": {},
     "output_type": "execute_result"
    }
   ],
   "source": [
    "sentence_df.iloc[658].end - sentence_df.iloc[658].start"
   ]
  },
  {
   "cell_type": "code",
   "execution_count": 38,
   "id": "ae21fa8a-4e2a-4e16-94b9-e84d5d8dfdd2",
   "metadata": {},
   "outputs": [
    {
     "data": {
      "text/html": [
       "<div>\n",
       "<style scoped>\n",
       "    .dataframe tbody tr th:only-of-type {\n",
       "        vertical-align: middle;\n",
       "    }\n",
       "\n",
       "    .dataframe tbody tr th {\n",
       "        vertical-align: top;\n",
       "    }\n",
       "\n",
       "    .dataframe thead th {\n",
       "        text-align: right;\n",
       "    }\n",
       "</style>\n",
       "<table border=\"1\" class=\"dataframe\">\n",
       "  <thead>\n",
       "    <tr style=\"text-align: right;\">\n",
       "      <th></th>\n",
       "      <th>start</th>\n",
       "      <th>end</th>\n",
       "      <th>sentence</th>\n",
       "    </tr>\n",
       "  </thead>\n",
       "  <tbody>\n",
       "    <tr>\n",
       "      <th>604</th>\n",
       "      <td>00:58:36,044</td>\n",
       "      <td>00:58:37,385</td>\n",
       "      <td>Shouldn't you get busy?</td>\n",
       "    </tr>\n",
       "    <tr>\n",
       "      <th>605</th>\n",
       "      <td>00:58:49,825</td>\n",
       "      <td>00:58:51,924</td>\n",
       "      <td>- Did you miss me? - As if, brother.</td>\n",
       "    </tr>\n",
       "    <tr>\n",
       "      <th>606</th>\n",
       "      <td>00:58:52,394</td>\n",
       "      <td>00:58:54,135</td>\n",
       "      <td>- Brother? - It's a long story,</td>\n",
       "    </tr>\n",
       "    <tr>\n",
       "      <th>607</th>\n",
       "      <td>00:58:54,194</td>\n",
       "      <td>00:58:55,935</td>\n",
       "      <td>but the family has a dirty past.</td>\n",
       "    </tr>\n",
       "    <tr>\n",
       "      <th>608</th>\n",
       "      <td>00:59:08,774</td>\n",
       "      <td>00:59:10,644</td>\n",
       "      <td>This is why kids must be disciplined.</td>\n",
       "    </tr>\n",
       "    <tr>\n",
       "      <th>609</th>\n",
       "      <td>00:59:37,374</td>\n",
       "      <td>00:59:39,345</td>\n",
       "      <td>How many people have you killed?</td>\n",
       "    </tr>\n",
       "  </tbody>\n",
       "</table>\n",
       "</div>"
      ],
      "text/plain": [
       "            start           end                               sentence\n",
       "604  00:58:36,044  00:58:37,385                Shouldn't you get busy?\n",
       "605  00:58:49,825  00:58:51,924   - Did you miss me? - As if, brother.\n",
       "606  00:58:52,394  00:58:54,135        - Brother? - It's a long story,\n",
       "607  00:58:54,194  00:58:55,935       but the family has a dirty past.\n",
       "608  00:59:08,774  00:59:10,644  This is why kids must be disciplined.\n",
       "609  00:59:37,374  00:59:39,345       How many people have you killed?"
      ]
     },
     "execution_count": 38,
     "metadata": {},
     "output_type": "execute_result"
    }
   ],
   "source": [
    "sentence_df.iloc[604:610]"
   ]
  },
  {
   "cell_type": "markdown",
   "id": "35b159b1-decd-4606-a12f-a117597d33de",
   "metadata": {},
   "source": [
    "# Export to file"
   ]
  },
  {
   "cell_type": "code",
   "execution_count": 40,
   "id": "c8a17553-128f-4543-acc2-252f7c16b43b",
   "metadata": {},
   "outputs": [
    {
     "name": "stdout",
     "output_type": "stream",
     "text": [
      "Writing sentences.py\n"
     ]
    }
   ],
   "source": [
    "%%writefile \"sentences.py\"\n",
    "\n",
    "import pysrt\n",
    "import pandas as pd\n",
    "import re\n",
    "\n",
    "\n",
    "class Sentences:\n",
    "  def __init__(self, file):\n",
    "    self.subs = pysrt.open(file)\n",
    "    self.sentence_df = self.__to_sentences(self.__regex())\n",
    "    return self.sentence_df\n",
    "    \n",
    "    \n",
    "  def __regex(self, subs):\n",
    "    # Replace using regex without writing regex expression\n",
    "    replacements = {\"|\": \" \", \"\\n\": \" \", \"...\": \";\"}\n",
    "    replacements = dict((re.escape(k), v) for k, v in replacements.items())\n",
    "    pattern = re.compile(\"|\".join(replacements.keys()))\n",
    "\n",
    "    subs_df = pd.DataFrame([[sub.start, sub.end, \n",
    "                             pattern.sub(lambda m: replacements[\n",
    "                               re.escape(m.group(0))], sub.text)\n",
    "                            ] for sub in self.subs],\n",
    "                           columns=[\"start\", \"end\", \"text\"])\n",
    "    return subs_df\n",
    "  \n",
    "  def __to_sentences(self, subs_df):\n",
    "    sentence = \"\"\n",
    "    result = []\n",
    "\n",
    "    for i, sub in subs_df.iterrows():\n",
    "      if sentence == \"\":\n",
    "        start = sub.start\n",
    "      sentence = sub.text if sentence==\"\" else sentence + \" \" + sub.text \n",
    "      if re.search('[.?!]', sub.text):\n",
    "        result.append((start, sub.end, sentence))\n",
    "        sentence = \"\"\n",
    "      \n",
    "    return pd.DataFrame(result, columns=[\"start\", \"end\", \"sentence\"])"
   ]
  },
  {
   "cell_type": "code",
   "execution_count": null,
   "id": "0419bfd2-8354-49c0-a280-73dc51246d15",
   "metadata": {},
   "outputs": [],
   "source": []
  }
 ],
 "metadata": {
  "kernelspec": {
   "display_name": "Python 3 (ipykernel)",
   "language": "python",
   "name": "python3"
  },
  "language_info": {
   "codemirror_mode": {
    "name": "ipython",
    "version": 3
   },
   "file_extension": ".py",
   "mimetype": "text/x-python",
   "name": "python",
   "nbconvert_exporter": "python",
   "pygments_lexer": "ipython3",
   "version": "3.9.7"
  }
 },
 "nbformat": 4,
 "nbformat_minor": 5
}
