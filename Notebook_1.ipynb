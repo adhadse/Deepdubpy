{
  "nbformat": 4,
  "nbformat_minor": 0,
  "metadata": {
    "colab": {
      "name": "Notebook 1.ipynb",
      "provenance": [],
      "collapsed_sections": [],
      "authorship_tag": "ABX9TyNvI5bCVHWy5ZhyiJst6NZu",
      "include_colab_link": true
    },
    "kernelspec": {
      "name": "python3",
      "display_name": "Python 3"
    },
    "language_info": {
      "name": "python"
    }
  },
  "cells": [
    {
      "cell_type": "markdown",
      "metadata": {
        "id": "view-in-github",
        "colab_type": "text"
      },
      "source": [
        "<a href=\"https://colab.research.google.com/github/adhadse/Deepdub/blob/master/Notebook_1.ipynb\" target=\"_parent\"><img src=\"https://colab.research.google.com/assets/colab-badge.svg\" alt=\"Open In Colab\"/></a>"
      ]
    },
    {
      "cell_type": "code",
      "execution_count": null,
      "metadata": {
        "id": "ghPLTHQ_uItn",
        "colab": {
          "base_uri": "https://localhost:8080/"
        },
        "outputId": "57ce972a-2901-415d-ddb0-478298ec7241"
      },
      "outputs": [
        {
          "output_type": "stream",
          "name": "stdout",
          "text": [
            "Mounted at /content/gdrive\n"
          ]
        }
      ],
      "source": [
        "from google.colab import drive\n",
        "\n",
        "drive.mount('/content/gdrive')"
      ]
    },
    {
      "cell_type": "code",
      "source": [
        "BASE_DIR = '/content/gdrive/MyDrive/Colab Project/Deepdub/'\n",
        "OUTPUT_DIR = '/content/'"
      ],
      "metadata": {
        "id": "Ffw6mQ2u_toQ"
      },
      "execution_count": null,
      "outputs": []
    },
    {
      "cell_type": "markdown",
      "source": [
        "### Clip a portion for testing"
      ],
      "metadata": {
        "id": "UY01QXgEyq81"
      }
    },
    {
      "cell_type": "code",
      "source": [
        "tosec = lambda x: int(x.split(\"_\")[0])*60 + int(x.split(\"_\")[1])"
      ],
      "metadata": {
        "id": "MgK0PW97iDT4"
      },
      "execution_count": null,
      "outputs": []
    },
    {
      "cell_type": "code",
      "source": [
        "from moviepy.video.io.ffmpeg_tools import ffmpeg_extract_subclip\n",
        " \n",
        "# Replace the filename below.\n",
        "required_video_file = BASE_DIR + \"Ep1.mp4\"\n",
        "clipped_file = OUTPUT_DIR + \"clip.mp4\"\n",
        "\n",
        "# start_time and end_time: min\n",
        "starttime = tosec(\"10_33\")\n",
        "endtime = tosec(\"11_00\")\n",
        "\n",
        "ffmpeg_extract_subclip(required_video_file, starttime, endtime, targetname=clipped_file)"
      ],
      "metadata": {
        "colab": {
          "base_uri": "https://localhost:8080/"
        },
        "id": "fGG4mEEKxTin",
        "outputId": "3642da97-f3fa-4f60-856d-f55a47f6e9fe"
      },
      "execution_count": null,
      "outputs": [
        {
          "output_type": "stream",
          "name": "stdout",
          "text": [
            "\n",
            "[MoviePy] Running:\n",
            ">>> /usr/bin/ffmpeg -y -i /content/gdrive/MyDrive/Colab Project/Deepdub/Ep1.mp4 -ss 633.00 -t 27.00 -vcodec copy -acodec copy /content/clip.mp4\n",
            "... command successful.\n"
          ]
        }
      ]
    },
    {
      "cell_type": "code",
      "source": [
        "!pip install -U --quiet kora "
      ],
      "metadata": {
        "colab": {
          "base_uri": "https://localhost:8080/"
        },
        "id": "3x7W8GeXKJQW",
        "outputId": "4a671b3b-9917-4497-fd03-645d146173c6"
      },
      "execution_count": null,
      "outputs": [
        {
          "output_type": "stream",
          "name": "stdout",
          "text": [
            "\u001b[K     |████████████████████████████████| 57 kB 2.8 MB/s \n",
            "\u001b[K     |████████████████████████████████| 56 kB 4.2 MB/s \n",
            "\u001b[?25h"
          ]
        }
      ]
    },
    {
      "cell_type": "code",
      "source": [
        "from kora.drive import upload_public\n",
        "url = upload_public(clipped_file)"
      ],
      "metadata": {
        "id": "VHeVfqtIABiQ"
      },
      "execution_count": null,
      "outputs": []
    },
    {
      "cell_type": "code",
      "source": [
        "# then display it\n",
        "from IPython.display import HTML\n",
        "HTML(f\"\"\"<video src={url} width=600 controls/>\"\"\")"
      ],
      "metadata": {
        "colab": {
          "base_uri": "https://localhost:8080/",
          "height": 359
        },
        "id": "i4nS_XbmGoBV",
        "outputId": "d757ba21-4640-45c5-bbe5-927ea9287dd2"
      },
      "execution_count": null,
      "outputs": [
        {
          "output_type": "execute_result",
          "data": {
            "text/html": [
              "<video src=https://drive.google.com/uc?id=1HfkKZj1WGcI5CEd56fUjTHiJ3qMTZuv9 width=600 controls/>"
            ],
            "text/plain": [
              "<IPython.core.display.HTML object>"
            ]
          },
          "metadata": {},
          "execution_count": 11
        }
      ]
    },
    {
      "cell_type": "code",
      "source": [
        ""
      ],
      "metadata": {
        "id": "pw21GMv7uAvF"
      },
      "execution_count": null,
      "outputs": []
    }
  ]
}