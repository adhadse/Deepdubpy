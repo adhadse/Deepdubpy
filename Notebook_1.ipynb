{
 "cells": [
  {
   "cell_type": "markdown",
   "metadata": {
    "colab_type": "text",
    "id": "view-in-github"
   },
   "source": [
    "<a href=\"https://colab.research.google.com/github/adhadse/Deepdub/blob/master/Notebook_1.ipynb\" target=\"_parent\"><img src=\"https://colab.research.google.com/assets/colab-badge.svg\" alt=\"Open In Colab\"/></a>"
   ]
  },
  {
   "cell_type": "code",
   "execution_count": 1,
   "metadata": {
    "id": "Ffw6mQ2u_toQ"
   },
   "outputs": [],
   "source": [
    "BASE_DIR = '/content/gdrive/MyDrive/Colab Project/Deepdub/'\n",
    "OUTPUT_DIR = '/content/'"
   ]
  },
  {
   "cell_type": "markdown",
   "metadata": {
    "id": "UY01QXgEyq81"
   },
   "source": [
    "### Clip a portion for testing"
   ]
  },
  {
   "cell_type": "code",
   "execution_count": null,
   "metadata": {
    "id": "MgK0PW97iDT4"
   },
   "outputs": [],
   "source": [
    "def tosec(x):\n",
    "    return int(x.split(\"_\")[0])*60 + int(x.split(\"_\")[1])"
   ]
  },
  {
   "cell_type": "code",
   "execution_count": null,
   "metadata": {
    "colab": {
     "base_uri": "https://localhost:8080/"
    },
    "id": "fGG4mEEKxTin",
    "outputId": "3642da97-f3fa-4f60-856d-f55a47f6e9fe",
    "tags": []
   },
   "outputs": [
    {
     "name": "stdout",
     "output_type": "stream",
     "text": [
      "\n",
      "[MoviePy] Running:\n",
      ">>> /usr/bin/ffmpeg -y -i /content/gdrive/MyDrive/Colab Project/Deepdub/Ep1.mp4 -ss 633.00 -t 27.00 -vcodec copy -acodec copy /content/clip.mp4\n",
      "... command successful.\n"
     ]
    }
   ],
   "source": [
    "from moviepy.video.io.ffmpeg_tools import ffmpeg_extract_subclip\n",
    "\n",
    "# Replace the filename below.\n",
    "required_video_file = BASE_DIR + \"Ep1.mp4\"\n",
    "clipped_file = OUTPUT_DIR + \"clip.mp4\"\n",
    "\n",
    "# start_time and end_time: min\n",
    "starttime = tosec(\"10_33\")\n",
    "endtime = tosec(\"11_00\")\n",
    "\n",
    "ffmpeg_extract_subclip(required_video_file, starttime, endtime, targetname=clipped_file)"
   ]
  },
  {
   "cell_type": "code",
   "execution_count": null,
   "metadata": {
    "colab": {
     "base_uri": "https://localhost:8080/",
     "height": 359
    },
    "id": "i4nS_XbmGoBV",
    "outputId": "d757ba21-4640-45c5-bbe5-927ea9287dd2"
   },
   "outputs": [
    {
     "data": {
      "text/html": [
       "<video src=https://drive.google.com/uc?id=1HfkKZj1WGcI5CEd56fUjTHiJ3qMTZuv9 width=600 controls/>"
      ],
      "text/plain": [
       "<IPython.core.display.HTML object>"
      ]
     },
     "execution_count": 11,
     "metadata": {},
     "output_type": "execute_result"
    }
   ],
   "source": [
    "from IPython.display import HTML\n",
    "\n",
    "HTML(f\"\"\"<video src={url} width=600 controls/>\"\"\")"
   ]
  },
  {
   "cell_type": "code",
   "execution_count": null,
   "metadata": {
    "id": "pw21GMv7uAvF"
   },
   "outputs": [],
   "source": []
  }
 ],
 "metadata": {
  "colab": {
   "authorship_tag": "ABX9TyNvI5bCVHWy5ZhyiJst6NZu",
   "collapsed_sections": [],
   "include_colab_link": true,
   "name": "Notebook 1.ipynb",
   "provenance": []
  },
  "kernelspec": {
   "display_name": "Python 3 (ipykernel)",
   "language": "python",
   "name": "python3"
  },
  "language_info": {
   "codemirror_mode": {
    "name": "ipython",
    "version": 3
   },
   "file_extension": ".py",
   "mimetype": "text/x-python",
   "name": "python",
   "nbconvert_exporter": "python",
   "pygments_lexer": "ipython3",
   "version": "3.9.7"
  }
 },
 "nbformat": 4,
 "nbformat_minor": 4
}
